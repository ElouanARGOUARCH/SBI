{
 "cells": [
  {
   "cell_type": "code",
   "execution_count": 1,
   "id": "09bc8069",
   "metadata": {},
   "outputs": [],
   "source": [
    "from targets.variational_inference_target import *"
   ]
  },
  {
   "cell_type": "code",
   "execution_count": 2,
   "id": "0a59331f",
   "metadata": {},
   "outputs": [],
   "source": [
    "from posterior_sampler import MALA"
   ]
  },
  {
   "cell_type": "code",
   "execution_count": 3,
   "id": "503d40ad",
   "metadata": {},
   "outputs": [
    {
     "name": "stderr",
     "output_type": "stream",
     "text": [
      "100%|█████████████████████████████████████████████████████████████████████████████████████████████████████████████████| 10100/10100 [00:38<00:00, 263.25it/s, acceptance = tensor(0.8331)]\n"
     ]
    }
   ],
   "source": [
    "target = Dimension1()\n",
    "sampler = MALA(target.log_prob, 1.,1)\n",
    "samples = sampler.sample(10000,100)"
   ]
  },
  {
   "cell_type": "code",
   "execution_count": 4,
   "id": "0ecf5f94",
   "metadata": {},
   "outputs": [
    {
     "data": {
      "image/png": "[encoded data removed]",
      "text/plain": [
       "<Figure size 432x288 with 1 Axes>"
      ]
     },
     "metadata": {
      "needs_background": "light"
     },
     "output_type": "display_data"
    }
   ],
   "source": [
    "import matplotlib.pyplot as plt\n",
    "hist = plt.hist(samples.detach().numpy(),bins=200)\n",
    "plt.show()"
   ]
  },
  {
   "cell_type": "code",
   "execution_count": 17,
   "id": "39ac9834",
   "metadata": {},
   "outputs": [
    {
     "ename": "TypeError",
     "evalue": "__init__() missing 1 required positional argument: 'args'",
     "output_type": "error",
     "traceback": [
      "\u001b[1;31m---------------------------------------------------------------------------\u001b[0m",
      "\u001b[1;31mTypeError\u001b[0m                                 Traceback (most recent call last)",
      "Input \u001b[1;32mIn [17]\u001b[0m, in \u001b[0;36m<cell line: 1>\u001b[1;34m()\u001b[0m\n\u001b[1;32m----> 1\u001b[0m target \u001b[38;5;241m=\u001b[39m \u001b[43mFunnel\u001b[49m\u001b[43m(\u001b[49m\u001b[43m)\u001b[49m\n\u001b[0;32m      2\u001b[0m sampler \u001b[38;5;241m=\u001b[39m MALA(target\u001b[38;5;241m.\u001b[39mlog_prob,\u001b[38;5;241m0.01\u001b[39m,\u001b[38;5;241m20\u001b[39m)\n\u001b[0;32m      3\u001b[0m samples \u001b[38;5;241m=\u001b[39m sampler\u001b[38;5;241m.\u001b[39msample(\u001b[38;5;241m10000\u001b[39m,\u001b[38;5;241m100\u001b[39m)\n",
      "\u001b[1;31mTypeError\u001b[0m: __init__() missing 1 required positional argument: 'args'"
     ]
    }
   ],
   "source": [
    "target = Funnel()\n",
    "sampler = MALA(target.log_prob,0.01,20)\n",
    "samples = sampler.sample(10000,100)"
   ]
  },
  {
   "cell_type": "code",
   "execution_count": 16,
   "id": "a8f9e74c",
   "metadata": {},
   "outputs": [
    {
     "data": {
      "text/plain": [
       "<matplotlib.collections.PathCollection at 0x27f688d2130>"
      ]
     },
     "execution_count": 16,
     "metadata": {},
     "output_type": "execute_result"
    },
    {
     "data": {
      "image/png": "[encoded data removed]",
      "text/plain": [
       "<Figure size 432x288 with 1 Axes>"
      ]
     },
     "metadata": {
      "needs_background": "light"
     },
     "output_type": "display_data"
    }
   ],
   "source": [
    "plt.scatter(samples[-2].detach().numpy(), samples[-1].detach().numpy())"
   ]
  },
  {
   "cell_type": "code",
   "execution_count": 15,
   "id": "def24a34",
   "metadata": {},
   "outputs": [
    {
     "name": "stdout",
     "output_type": "stream",
     "text": [
      "tensor([[-0.4194,  1.5969, -1.0660,  ..., -2.2203,  0.3504, -0.2806],\n",
      "        [-0.6700,  1.5932, -0.8025,  ..., -1.9893,  0.5419, -0.0435],\n",
      "        [-0.5658,  1.6455, -0.6861,  ..., -1.8235,  0.3959,  0.0843],\n",
      "        ...,\n",
      "        [ 2.2446,  3.2973, -1.5529,  ...,  0.5432,  0.5497, -0.4694],\n",
      "        [ 2.2967,  3.0987, -1.4698,  ...,  0.3641,  0.4656, -0.5697],\n",
      "        [ 2.3337,  3.1592, -1.4396,  ...,  0.6000,  0.3585, -0.7032]],\n",
      "       grad_fn=<CatBackward0>)\n"
     ]
    }
   ],
   "source": [
    "print(samples)"
   ]
  },
  {
   "cell_type": "code",
   "execution_count": null,
   "id": "15e50fce",
   "metadata": {},
   "outputs": [],
   "source": []
  }
 ],
 "metadata": {
  "kernelspec": {
   "display_name": "Python 3 (ipykernel)",
   "language": "python",
   "name": "python3"
  },
  "language_info": {
   "codemirror_mode": {
    "name": "ipython",
    "version": 3
   },
   "file_extension": ".py",
   "mimetype": "text/x-python",
   "name": "python",
   "nbconvert_exporter": "python",
   "pygments_lexer": "ipython3",
   "version": "3.9.2"
  }
 },
 "nbformat": 4,
 "nbformat_minor": 5
}
