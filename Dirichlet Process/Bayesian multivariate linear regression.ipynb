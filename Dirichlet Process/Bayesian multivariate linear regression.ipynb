{
 "cells": [
  {
   "cell_type": "code",
   "execution_count": 7,
   "id": "32bf5d9c",
   "metadata": {},
   "outputs": [],
   "source": [
    "import torch\n",
    "import matplotlib.pyplot as plt"
   ]
  },
  {
   "cell_type": "markdown",
   "id": "c3dfba1b",
   "metadata": {},
   "source": [
    "$x = \\Theta^T\\beta  + \\epsilon$ where $\\Theta = [\\theta_1,..., \\theta_d, 1] \\in R^{d+1}$, $\\theta\\in R^d$,$x\\in R^p$, $\\epsilon \\sim N(0, \\Sigma_\\epsilon)$, $\\beta \\in R^{(d+1)\\times p}$"
   ]
  },
  {
   "cell_type": "code",
   "execution_count": 2,
   "id": "9ea569bf",
   "metadata": {},
   "outputs": [
    {
     "name": "stdout",
     "output_type": "stream",
     "text": [
      "tensor([[0.9646]])\n"
     ]
    },
    {
     "name": "stderr",
     "output_type": "stream",
     "text": [
      "c:\\users\\ea264728\\pycharmprojects\\sbi\\venv\\lib\\site-packages\\torch\\distributions\\wishart.py:231: UserWarning: Singular sample detected.\n",
      "  warnings.warn(\"Singular sample detected.\")\n"
     ]
    }
   ],
   "source": [
    "p = 1\n",
    "d = 1\n",
    "nu = 2\n",
    "Psi = torch.eye(d)\n",
    "Sigma_epsilon = torch.inverse(torch.distributions.Wishart(nu,torch.inverse(Psi)).sample())\n",
    "print(Sigma_epsilon)"
   ]
  },
  {
   "cell_type": "code",
   "execution_count": 3,
   "id": "b332de3a",
   "metadata": {},
   "outputs": [
    {
     "name": "stdout",
     "output_type": "stream",
     "text": [
      "tensor([[-0.6976],\n",
      "        [-1.5697]])\n"
     ]
    },
    {
     "name": "stderr",
     "output_type": "stream",
     "text": [
      "C:\\Users\\EA264728\\AppData\\Local\\Temp\\ipykernel_9812\\719820973.py:5: UserWarning: torch.cholesky is deprecated in favor of torch.linalg.cholesky and will be removed in a future PyTorch release.\n",
      "L = torch.cholesky(A)\n",
      "should be replaced with\n",
      "L = torch.linalg.cholesky(A)\n",
      "and\n",
      "U = torch.cholesky(A, upper=True)\n",
      "should be replaced with\n",
      "U = torch.linalg.cholesky(A).mH().\n",
      "This transform will produce equivalent results for all valid (symmetric positive definite) inputs. (Triggered internally at  C:\\actions-runner\\_work\\pytorch\\pytorch\\builder\\windows\\pytorch\\aten\\src\\ATen\\native\\BatchLinearAlgebra.cpp:1337.)\n",
      "  return m + torch.cholesky(U)@Z@torch.cholesky(V)\n"
     ]
    }
   ],
   "source": [
    "#Sample from matrix normal\n",
    "\n",
    "def sample_matrix_normal(m, U, V, num_samples):\n",
    "    Z = torch.randn(num_samples, U.shape[0], V.shape[0])\n",
    "    return m + torch.cholesky(U)@Z@torch.cholesky(V)\n",
    "\n",
    "Beta_0 = torch.zeros(d+1,p)\n",
    "Gamma_0 = torch.eye(d+1)\n",
    "Beta = sample_matrix_normal(Beta_0,torch.inverse(Gamma_0),Sigma_epsilon,1).squeeze(0)\n",
    "print(Beta)"
   ]
  },
  {
   "cell_type": "code",
   "execution_count": 4,
   "id": "f380fec8",
   "metadata": {},
   "outputs": [
    {
     "name": "stdout",
     "output_type": "stream",
     "text": [
      "torch.Size([10000, 1])\n"
     ]
    }
   ],
   "source": [
    "N = 10000\n",
    "theta = torch.randn(N,d)\n",
    "Theta = torch.cat([theta, torch.ones(N).unsqueeze(-1)], dim = -1)\n",
    "epsilon = torch.distributions.MultivariateNormal(torch.zeros(d), Sigma_epsilon).sample([N])\n",
    "X = Theta@Beta + epsilon\n",
    "print(X.shape)"
   ]
  },
  {
   "cell_type": "code",
   "execution_count": 5,
   "id": "cb2f36cd",
   "metadata": {},
   "outputs": [
    {
     "data": {
      "text/plain": [
       "<matplotlib.collections.PathCollection at 0x24611d4fbe0>"
      ]
     },
     "execution_count": 5,
     "metadata": {},
     "output_type": "execute_result"
    },
    {
     "data": {
      "image/png": "[encoded data removed]",
      "text/plain": [
       "<Figure size 432x288 with 1 Axes>"
      ]
     },
     "metadata": {
      "needs_background": "light"
     },
     "output_type": "display_data"
    }
   ],
   "source": [
    "plt.scatter(theta[:,0].numpy(), X[:,0].numpy())"
   ]
  },
  {
   "cell_type": "code",
   "execution_count": 6,
   "id": "86194ada",
   "metadata": {},
   "outputs": [
    {
     "name": "stdout",
     "output_type": "stream",
     "text": [
      "tensor([[-0.7016],\n",
      "        [-1.5822]])\n"
     ]
    },
    {
     "ename": "NameError",
     "evalue": "name 'm' is not defined",
     "output_type": "error",
     "traceback": [
      "\u001b[1;31m---------------------------------------------------------------------------\u001b[0m",
      "\u001b[1;31mNameError\u001b[0m                                 Traceback (most recent call last)",
      "Input \u001b[1;32mIn [6]\u001b[0m, in \u001b[0;36m<cell line: 6>\u001b[1;34m()\u001b[0m\n\u001b[0;32m      4\u001b[0m Gamma_0 \u001b[38;5;241m=\u001b[39m torch\u001b[38;5;241m.\u001b[39meye(d\u001b[38;5;241m+\u001b[39m\u001b[38;5;241m1\u001b[39m)\n\u001b[0;32m      5\u001b[0m Gamma_N \u001b[38;5;241m=\u001b[39m Theta\u001b[38;5;241m.\u001b[39mT\u001b[38;5;129m@Theta\u001b[39m \u001b[38;5;241m+\u001b[39m Gamma_0\n\u001b[1;32m----> 6\u001b[0m Beta_0 \u001b[38;5;241m=\u001b[39m \u001b[43mm\u001b[49m\n\u001b[0;32m      7\u001b[0m Beta_N \u001b[38;5;241m=\u001b[39m torch\u001b[38;5;241m.\u001b[39minverse(Theta\u001b[38;5;241m.\u001b[39mT\u001b[38;5;129m@Theta\u001b[39m \u001b[38;5;241m+\u001b[39m Gamma_0)\u001b[38;5;241m@\u001b[39m(Theta\u001b[38;5;241m.\u001b[39mT\u001b[38;5;129m@Theta\u001b[39m\u001b[38;5;129m@Beta_hat\u001b[39m\u001b[38;5;241m+\u001b[39mGamma_0\u001b[38;5;129m@Beta_0\u001b[39m)\n\u001b[0;32m      8\u001b[0m nu_N \u001b[38;5;241m=\u001b[39m nu \u001b[38;5;241m+\u001b[39m N\n",
      "\u001b[1;31mNameError\u001b[0m: name 'm' is not defined"
     ]
    }
   ],
   "source": [
    "#posterior parameters computation\n",
    "Beta_hat = torch.inverse(Theta.T@Theta)@Theta.T@X\n",
    "print(Beta_hat)\n",
    "Gamma_0 = torch.eye(d+1)\n",
    "Gamma_N = Theta.T@Theta + Gamma_0\n",
    "Beta_0 = m\n",
    "Beta_N = torch.inverse(Theta.T@Theta + Gamma_0)@(Theta.T@Theta@Beta_hat+Gamma_0@Beta_0)\n",
    "nu_N = nu + N\n",
    "Psi_N= Psi + (X-Theta@Beta_N).T@(X-Theta@Beta_N) + (Beta_N -Beta_0).T@Gamma_0@(Beta_N - Beta_0)"
   ]
  },
  {
   "cell_type": "code",
   "execution_count": null,
   "id": "de6d1a03",
   "metadata": {},
   "outputs": [],
   "source": [
    "sample_Sigma_epsilon = torch.inverse(torch.distributions.Wishart(nu_N, torch.inverse(Psi_N)).sample())\n",
    "print(sample_Sigma_epsilon)\n",
    "sample_Beta = sample_matrix_normal(Beta_N, torch.inverse(Gamma_N), sample_Sigma_epsilon,1)\n",
    "print(sample_Beta)"
   ]
  },
  {
   "cell_type": "code",
   "execution_count": null,
   "id": "9a7a8e1f",
   "metadata": {},
   "outputs": [],
   "source": []
  },
  {
   "cell_type": "code",
   "execution_count": null,
   "id": "052cbcbf",
   "metadata": {},
   "outputs": [],
   "source": []
  }
 ],
 "metadata": {
  "kernelspec": {
   "display_name": "Python 3 (ipykernel)",
   "language": "python",
   "name": "python3"
  },
  "language_info": {
   "codemirror_mode": {
    "name": "ipython",
    "version": 3
   },
   "file_extension": ".py",
   "mimetype": "text/x-python",
   "name": "python",
   "nbconvert_exporter": "python",
   "pygments_lexer": "ipython3",
   "version": "3.9.2"
  }
 },
 "nbformat": 4,
 "nbformat_minor": 5
}
