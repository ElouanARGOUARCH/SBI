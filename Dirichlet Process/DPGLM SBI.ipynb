{
 "cells": [
  {
   "cell_type": "code",
   "execution_count": 1,
   "id": "9174ddd9",
   "metadata": {},
   "outputs": [],
   "source": [
    "import torch \n",
    "import matplotlib.pyplot as plt\n",
    "from tqdm import tqdm\n",
    "import matplotlib"
   ]
  },
  {
   "cell_type": "code",
   "execution_count": 2,
   "id": "c4b2ab52",
   "metadata": {},
   "outputs": [],
   "source": [
    "from targets.conditional_density_estimation_target import Wave\n",
    "target = Wave()\n",
    "\n",
    "N_simulations = 10000\n",
    "D_theta = target.sample_prior(N_simulations)\n",
    "D_x = target.simulate(D_theta)\n",
    "\n",
    "mu_theta = torch.zeros(1)\n",
    "sigma_theta = torch.eye(1)\n",
    "theta_prior_distribution = torch.distributions.MultivariateNormal(mu_theta, sigma_theta)\n",
    "theta0 = theta_prior_distribution.sample()\n",
    "theta0 = 0*torch.ones(1)\n",
    "\n",
    "N_observations = 1\n",
    "x0 = target.simulate(theta0.unsqueeze(0).repeat(N_observations,1))"
   ]
  },
  {
   "cell_type": "code",
   "execution_count": 1,
   "id": "02589f01",
   "metadata": {},
   "outputs": [
    {
     "ename": "NameError",
     "evalue": "name 'plt' is not defined",
     "output_type": "error",
     "traceback": [
      "\u001b[1;31m---------------------------------------------------------------------------\u001b[0m",
      "\u001b[1;31mNameError\u001b[0m                                 Traceback (most recent call last)",
      "Input \u001b[1;32mIn [1]\u001b[0m, in \u001b[0;36m<cell line: 1>\u001b[1;34m()\u001b[0m\n\u001b[1;32m----> 1\u001b[0m \u001b[43mplt\u001b[49m\u001b[38;5;241m.\u001b[39mfigure(figsize \u001b[38;5;241m=\u001b[39m (\u001b[38;5;241m15\u001b[39m,\u001b[38;5;241m8\u001b[39m))\n\u001b[0;32m      2\u001b[0m plt\u001b[38;5;241m.\u001b[39mset_xlim \u001b[38;5;241m=\u001b[39m (\u001b[38;5;241m-\u001b[39m\u001b[38;5;241m8\u001b[39m,\u001b[38;5;241m8\u001b[39m)\n\u001b[0;32m      3\u001b[0m plt\u001b[38;5;241m.\u001b[39mscatter(D_theta[:,\u001b[38;5;241m0\u001b[39m]\u001b[38;5;241m.\u001b[39mnumpy(), D_x\u001b[38;5;241m.\u001b[39mnumpy(), alpha \u001b[38;5;241m=\u001b[39m\u001b[38;5;241m.5\u001b[39m, label \u001b[38;5;241m=\u001b[39m \u001b[38;5;124m'\u001b[39m\u001b[38;5;124mD=(x,theta)\u001b[39m\u001b[38;5;124m'\u001b[39m) \n",
      "\u001b[1;31mNameError\u001b[0m: name 'plt' is not defined"
     ]
    }
   ],
   "source": [
    "plt.figure(figsize = (15,8))\n",
    "plt.set_xlim = (-8,8)\n",
    "plt.scatter(D_theta[:,0].numpy(), D_x.numpy(), alpha =.5, label = 'D=(x,theta)') \n",
    "plt.axvline(theta0.numpy(), color = 'green', alpha = .7, linestyle = '--', label=' Unknown true value theta0 = ' + str(theta0.item()))\n",
    "hist = plt.hist(x0.numpy(), orientation ='horizontal', bins = 20, density = True, bottom = -8, label = 'histogram of x0', color = 'C1')\n",
    "plt.axhline(x0.numpy(), color = 'orange', alpha = .7, linestyle = '--', label = 'Observed value of x0')\n",
    "plt.legend()"
   ]
  },
  {
   "cell_type": "code",
   "execution_count": 4,
   "id": "de4465d3",
   "metadata": {},
   "outputs": [],
   "source": [
    "alpha = torch.tensor(50.)\n",
    "truncation = 100\n",
    "Beta_distribution = torch.distributions.Beta(1, alpha)"
   ]
  },
  {
   "cell_type": "code",
   "execution_count": 5,
   "id": "148b2833",
   "metadata": {},
   "outputs": [],
   "source": [
    "def sample_weights(z, z_tilde): \n",
    "    Z = torch.cat([z, z_tilde], dim =0)\n",
    "    counts = torch.unique(Z, return_counts = True)[1]\n",
    "    probs = torch.cat([counts,alpha.unsqueeze(-1)], dim = -1)\n",
    "    w = torch.distributions.Dirichlet(probs).sample()\n",
    "    r = w[-1]\n",
    "    w_ = w[:-1]\n",
    "    for i in range(truncation-1):\n",
    "        v = Beta_distribution.sample()\n",
    "        w = r*v\n",
    "        r = r*(1-v)\n",
    "        w_ = torch.cat([w_,w.unsqueeze(-1)], dim = -1)\n",
    "    w_ = torch.cat([w_,r.unsqueeze(-1)], dim = -1)\n",
    "    return w_"
   ]
  },
  {
   "cell_type": "code",
   "execution_count": 6,
   "id": "20150229",
   "metadata": {},
   "outputs": [],
   "source": [
    "d=1\n",
    "nu = 2\n",
    "lbda = 0.1\n",
    "mu = torch.zeros(d)\n",
    "psi = torch.eye(d)\n",
    "\n",
    "def sample_prior_parameters_theta(num_samples):\n",
    "    sigma_theta = torch.inverse(torch.distributions.Wishart(nu,torch.inverse(psi)).sample([num_samples]))\n",
    "    sigma_theta = (sigma_theta + torch.transpose(sigma_theta, 1,2))/2\n",
    "    mean_theta = torch.distributions.MultivariateNormal(mu,scale_tril = torch.cholesky(sigma_theta)/(lbda**(1/2))).sample()\n",
    "    return mean_theta, sigma_theta\n",
    "\n",
    "mu_beta = torch.zeros(d+1)\n",
    "sigma_beta = torch.eye(d+1)\n",
    "eta = 2\n",
    "phi  = torch.eye(d)\n",
    "\n",
    "def sample_prior_parameters_x(num_samples):\n",
    "    sigma_x = torch.inverse(torch.distributions.Wishart(nu,torch.inverse(psi)).sample([num_samples]))\n",
    "    beta = torch.distributions.MultivariateNormal(mu_beta, sigma_beta).sample([num_samples])\n",
    "    return beta, sigma_x\n",
    "    \n",
    "def repopulate_parameters(mean_theta, sigma_theta, beta, sigma_x):\n",
    "    _mean_theta, _sigma_theta = sample_prior_parameters_theta(truncation)\n",
    "    mean_theta = torch.cat([mean_theta, _mean_theta], dim = 0)\n",
    "    sigma_theta = torch.cat([sigma_theta, _sigma_theta], dim = 0)\n",
    "    _beta, _sigma_x = sample_prior_parameters_x(truncation)\n",
    "    beta = torch.cat([beta, _beta], dim = 0)\n",
    "    sigma_x = torch.cat([sigma_x,_sigma_x], dim=0)\n",
    "    return mean_theta, sigma_theta, beta, sigma_x"
   ]
  },
  {
   "cell_type": "code",
   "execution_count": 7,
   "id": "8811d3c1",
   "metadata": {},
   "outputs": [],
   "source": [
    "def sample_allocation(w, D_x,D_theta, x0, theta0, mean_theta, sigma_theta, beta, sigma_x): \n",
    "    _D_x= torch.cat([D_x, x0], dim=0)\n",
    "    _D_theta= torch.cat([D_theta, theta0.unsqueeze(-1)], dim = 0)\n",
    "    w_i_k = w.unsqueeze(0).repeat(_D_x.shape[0],1)\n",
    "    p_i_k_theta = torch.exp(torch.distributions.MultivariateNormal(mean_theta, sigma_theta).log_prob(_D_theta.unsqueeze(1).repeat(1,w.shape[0],1)))\n",
    "    temp_mean = (torch.cat([_D_theta, torch.ones(_D_theta.shape[0],1)], dim =1)@beta.T).unsqueeze(-1)\n",
    "    temp_sigma_x =  sigma_x.unsqueeze(0).repeat(_D_x.shape[0],1,1,1)\n",
    "    temp_x = _D_x.unsqueeze(1).repeat(1, w.shape[0],1)\n",
    "    p_i_k_x_theta = torch.exp(torch.distributions.MultivariateNormal(temp_mean,temp_sigma_x).log_prob(temp_x))\n",
    "    temp = w_i_k*p_i_k_theta*p_i_k_x_theta\n",
    "    sample = torch.distributions.Categorical(temp/ torch.sum(temp, dim = -1).unsqueeze(-1)).sample()\n",
    "    return sample[:D_x.shape[0]], sample[D_x.shape[0]:]"
   ]
  },
  {
   "cell_type": "code",
   "execution_count": 8,
   "id": "9bdd8fc5",
   "metadata": {},
   "outputs": [],
   "source": [
    "def equivalent_allocation(z,z_tilde,mean_theta, sigma_theta, beta, sigma_x):\n",
    "    _z = torch.cat([z,z_tilde], dim = 0)\n",
    "    unique, inverse_index = torch.unique(_z, return_inverse = True)\n",
    "    new_mean_theta = mean_theta[unique]\n",
    "    new_sigma_theta = sigma_theta[unique]\n",
    "    new_beta = beta[unique]\n",
    "    new_sigma_x = sigma_x[unique]\n",
    "    return inverse_index[:z.shape[0]],inverse_index[z.shape[0]:], new_mean_theta, new_sigma_theta, new_beta, new_sigma_x"
   ]
  },
  {
   "cell_type": "code",
   "execution_count": 14,
   "id": "aad2b545",
   "metadata": {},
   "outputs": [],
   "source": [
    "mu_phi = torch.zeros(d+1)\n",
    "sigma_phi = 10*torch.eye(d+1)\n",
    "\n",
    "def sample_parameter_posterior(z,z_tilde,D_x, D_theta, x0, theta0):\n",
    "    _z = torch.cat([z,z_tilde], dim =0)\n",
    "    _D_x= torch.cat([D_x, x0], dim=0)\n",
    "    _D_theta= torch.cat([D_theta, theta0.unsqueeze(-1)], dim = 0)\n",
    "    list_cov_theta = []\n",
    "    list_mean_theta = []\n",
    "    list_beta = []\n",
    "    list_cov_x = []\n",
    "    for c in torch.unique(_z):\n",
    "        _D_x_c = _D_x[_z==c]\n",
    "        _D_theta_c = _D_theta[_z==c]\n",
    "        N_c = _D_x_c.shape[0]\n",
    "        ###Posterior on mean_theta, sigma_theta\n",
    "        empirical_mean_theta = torch.mean(_D_theta_c, dim =0)\n",
    "        mu_c = (lbda*mu + N_c*empirical_mean_theta)/(lbda + N_c)\n",
    "        S = torch.cov(_D_theta_c.T)*(N_c-1) if N_c>=2 else torch.zeros(d)\n",
    "        temp = (empirical_mean_theta-mu).unsqueeze(-1)\n",
    "        Psi_c = psi + S + (lbda*N_c*temp@temp.T)/(lbda + N_c)\n",
    "        cov_theta_c = torch.inverse(torch.distributions.Wishart(nu + N_c,torch.inverse(Psi_c)).sample())\n",
    "        cov_theta_c = (cov_theta_c + torch.transpose(cov_theta_c,0,1))/2\n",
    "        mean_theta_c = torch.distributions.MultivariateNormal(mu_c, scale_tril = torch.cholesky(cov_theta_c)/((lbda + N_c)**(1/2))).sample()\n",
    "        list_cov_theta.append(cov_theta_c.unsqueeze(0))\n",
    "        list_mean_theta.append(mean_theta_c.unsqueeze(0))\n",
    "        \n",
    "        empirical_mean_x = torch.mean(_D_x_c, dim =0)\n",
    "        mu_c = (lbda*mu + N_c*empirical_mean_x)/(lbda + N_c)\n",
    "        S = torch.cov(_D_x_c.T)*(N_c-1) if N_c>=2 else torch.zeros(d)\n",
    "        temp = (empirical_mean_x-mu).unsqueeze(-1)\n",
    "        Psi_c = psi + S + (lbda*N_c*temp@temp.T)/(lbda + N_c)\n",
    "        cov_x_c = torch.inverse(torch.distributions.Wishart(nu + N_c,torch.inverse(Psi_c)).sample())\n",
    "        list_cov_x.append(cov_x_c.unsqueeze(0))\n",
    "        if _D_theta_c.shape[0]>=2:\n",
    "            temp = torch.cat([_D_theta_c, torch.ones(_D_theta_c.shape[0]).unsqueeze(-1)], dim = -1)\n",
    "            sigma_d_phi = torch.inverse(temp.T@temp)*cov_x_c[0,0]\n",
    "            mu_d_phi = _D_x_c.squeeze(-1)@temp@torch.inverse(temp.T@temp)\n",
    "            if _D_theta_c.shape[0]>=2:\n",
    "                sigma_phi_d = torch.inverse(torch.inverse(sigma_d_phi) + torch.inverse(sigma_phi))\n",
    "                mu_phi_d = sigma_phi_d@(torch.inverse(sigma_d_phi)@mu_d_phi+ torch.inverse(sigma_phi)@mu_phi)\n",
    "            else:\n",
    "                temp = torch.cat([_D_theta_c, torch.ones(_D_theta_c.shape[0]).unsqueeze(-1)], dim = -1)\n",
    "                sigma_phi_d = torch.inverse(temp.T@temp/cov_x_c[0,0] + torch.inverse(sigma_phi))\n",
    "                mu_phi_d = sigma_phi_d@(_D_x_c.squeeze(-1)@temp/cov_x_c[0,0]+ torch.inverse(sigma_phi)@mu_phi)\n",
    "        else: \n",
    "            mu_phi_d, sigma_phi_d = mu_phi, sigma_phi\n",
    "        beta_c = torch.distributions.MultivariateNormal(mu_phi_d, sigma_phi_d).sample()\n",
    "        \n",
    "        list_beta.append(beta_c.unsqueeze(0))\n",
    "    return torch.cat(list_mean_theta, dim = 0), torch.cat(list_cov_theta, dim = 0), torch.cat(list_beta, dim =0), torch.cat(list_cov_x, dim = 0)"
   ]
  },
  {
   "cell_type": "code",
   "execution_count": 15,
   "id": "c6f29fd9",
   "metadata": {},
   "outputs": [],
   "source": [
    "from IPython.display import clear_output\n",
    "def plot_all(z, z_tilde, D_x, D_theta,x0, theta0,mean_theta, sigma_theta, beta, sigma_x):\n",
    "    plt.figure(figsize = (10,10))\n",
    "    plt.scatter(D_theta.squeeze(-1).numpy(), D_x.squeeze(-1).numpy(), c=z, cmap = matplotlib.cm.get_cmap('plasma'), alpha = .5)\n",
    "    plt.scatter(theta0, x0, color = 'green')\n",
    "\n",
    "def joint_log_prob(z, z_tilde,mean_theta, sigma_theta, beta, sigma_x, X, Theta):\n",
    "    _z = torch.cat([z,z_tilde], dim=0)\n",
    "    unique, count = torch.unique(_z, return_counts = True)\n",
    "    weights = count/_z.shape[0]\n",
    "    prob_theta = torch.exp(torch.distributions.MultivariateNormal(mean_theta, sigma_theta).log_prob(Theta.unsqueeze(1).repeat(1,mean_theta.shape[0],1)))\n",
    "    mean_x = (beta@torch.cat([Theta, torch.ones(Theta.shape[0],1)], dim = 1).T).unsqueeze(-1)\n",
    "    cov_x = sigma_x.unsqueeze(1).repeat(1,Theta.shape[0],1,1)\n",
    "    temp_input = X.unsqueeze(1).repeat(1,mean_theta.shape[0],1).unsqueeze(2).repeat(1,1,Theta.shape[0],1)\n",
    "    prob_x = torch.exp(torch.distributions.MultivariateNormal(mean_x, cov_x).log_prob(temp_input))\n",
    "    product_prob = prob_theta.T.unsqueeze(0)*prob_x\n",
    "    sum_weighted_prod = torch.sum(weights.unsqueeze(0).unsqueeze(-1)*product_prob, dim = 1)\n",
    "    return sum_weighted_prod"
   ]
  },
  {
   "cell_type": "code",
   "execution_count": 16,
   "id": "6f83f1fe",
   "metadata": {},
   "outputs": [],
   "source": [
    "mu_theta0 = torch.zeros(d)\n",
    "sigma_theta0 = 10*torch.eye(d)\n",
    "def sample_posterior(z_tilde, x0, beta, sigma_x, num_samples = None):\n",
    "    beta_c = beta[z_tilde.item()]\n",
    "    sigma_x_c = sigma_x[z_tilde.item()]\n",
    "    sigma_theta_x0_phi = torch.inverse(torch.inverse(sigma_theta0) + (x0.shape[0]*beta_c[0]**2)/sigma_x_c[0,0])\n",
    "    temp = sigma_theta_x0_phi@(torch.inverse(sigma_theta0)@mu_theta0)\n",
    "    mu_theta_x0_phi = sigma_theta_x0_phi@(torch.inverse(sigma_theta0)@mu_theta0 + beta_c[0]*torch.sum(x0.squeeze(-1) - beta_c[1])/sigma_x_c[0,0])\n",
    "    if num_samples is None:\n",
    "        return torch.distributions.MultivariateNormal(mu_theta_x0_phi, sigma_theta_x0_phi).sample()\n",
    "    else: return torch.distributions.MultivariateNormal(mu_theta_x0_phi, sigma_theta_x0_phi).sample([num_samples])"
   ]
  },
  {
   "cell_type": "code",
   "execution_count": null,
   "id": "2e398aef",
   "metadata": {},
   "outputs": [
    {
     "data": {
      "image/png": "[encoded data removed]",
      "text/plain": [
       "<Figure size 1080x576 with 1 Axes>"
      ]
     },
     "metadata": {
      "needs_background": "light"
     },
     "output_type": "display_data"
    },
    {
     "data": {
      "image/png": "[encoded data removed]",
      "text/plain": [
       "<Figure size 432x288 with 1 Axes>"
      ]
     },
     "metadata": {
      "needs_background": "light"
     },
     "output_type": "display_data"
    },
    {
     "name": "stdout",
     "output_type": "stream",
     "text": [
      "torch.Size([27, 1])\n"
     ]
    }
   ],
   "source": [
    "number_gibbs_iterations = 1\n",
    "z = torch.ones(N_simulations)\n",
    "mean_theta, sigma_theta = sample_prior_parameters_theta(1)\n",
    "beta, sigma_x = sample_prior_parameters_x(1)\n",
    "z_tilde = torch.ones(N_observations)\n",
    "theta0 = theta_prior_distribution.sample()\n",
    "list_theta = []\n",
    "for i in range(1000):\n",
    "    w = sample_weights(z,z_tilde)\n",
    "    mean_theta, sigma_theta, beta, sigma_x = repopulate_parameters(mean_theta, sigma_theta, beta, sigma_x)\n",
    "    z, z_tilde = sample_allocation(w, D_x, D_theta, x0, theta0, mean_theta, sigma_theta, beta, sigma_x)\n",
    "    z,z_tilde, mean_theta, sigma_theta, beta, sigma_x = equivalent_allocation(z,z_tilde, mean_theta, sigma_theta, beta, sigma_x)\n",
    "    mean_theta, sigma_theta, beta, sigma_x = sample_parameter_posterior(z,z_tilde, D_x, D_theta, x0, theta0)\n",
    "    theta0 = sample_posterior(z_tilde, x0, beta, sigma_x)\n",
    "    bunch_of_theta0 = sample_posterior(z_tilde, x0, beta, sigma_x, num_samples = 1000)\n",
    "    clear_output(wait = True)\n",
    "    plt.figure(figsize = (15,8))\n",
    "    prob = joint_log_prob(z, z_tilde,mean_theta, sigma_theta, beta, sigma_x, torch.linspace(-2,2,75).unsqueeze(-1), torch.linspace(-8,8,75).unsqueeze(-1))\n",
    "    plt.contourf( torch.linspace(-8,8,75),torch.linspace(-2,2,75), prob, levels = 20)\n",
    "    plt.show()\n",
    "    list_theta.append(theta0)\n",
    "    hist = plt.hist(bunch_of_theta0.numpy(), density = True, bins = 50)\n",
    "    plt.show()\n",
    "    print(mean_theta.shape)\n",
    "    "
   ]
  },
  {
   "cell_type": "code",
   "execution_count": null,
   "id": "6784c088",
   "metadata": {},
   "outputs": [],
   "source": []
  },
  {
   "cell_type": "code",
   "execution_count": null,
   "id": "61fae79b",
   "metadata": {},
   "outputs": [],
   "source": []
  }
 ],
 "metadata": {
  "kernelspec": {
   "display_name": "Python 3 (ipykernel)",
   "language": "python",
   "name": "python3"
  },
  "language_info": {
   "codemirror_mode": {
    "name": "ipython",
    "version": 3
   },
   "file_extension": ".py",
   "mimetype": "text/x-python",
   "name": "python",
   "nbconvert_exporter": "python",
   "pygments_lexer": "ipython3",
   "version": "3.9.2"
  }
 },
 "nbformat": 4,
 "nbformat_minor": 5
}
