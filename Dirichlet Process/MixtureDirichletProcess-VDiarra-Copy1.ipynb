{
 "cells": [
  {
   "cell_type": "code",
   "execution_count": 1,
   "id": "617e5645",
   "metadata": {},
   "outputs": [],
   "source": [
    "import torch \n",
    "import pyro\n",
    "import matplotlib.pyplot as plt\n",
    "from IPython.display import clear_output\n",
    "from sklearn.datasets import make_moons\n",
    "import matplotlib"
   ]
  },
  {
   "cell_type": "markdown",
   "id": "2a95550c",
   "metadata": {},
   "source": [
    "We generate $x_1,..., x_N$"
   ]
  },
  {
   "cell_type": "code",
   "execution_count": 18,
   "id": "f4858176",
   "metadata": {},
   "outputs": [
    {
     "name": "stdout",
     "output_type": "stream",
     "text": [
      "torch.Size([50000, 2])\n"
     ]
    }
   ],
   "source": [
    "from targets.conditional_density_estimation_target import Wave\n",
    "target = Wave()\n",
    "\n",
    "N_simulations = 50000\n",
    "D_theta = target.sample_prior(N_simulations)\n",
    "D_x = target.simulate(D_theta)\n",
    "\n",
    "mu_theta = torch.zeros(1)\n",
    "sigma_theta = torch.eye(1)\n",
    "theta_prior_distribution = torch.distributions.MultivariateNormal(mu_theta, sigma_theta)\n",
    "theta0 = theta_prior_distribution.sample()\n",
    "theta0 = 0*torch.ones(1)\n",
    "\n",
    "N_observations = 1\n",
    "x0 = target.simulate(theta0.unsqueeze(0).repeat(N_observations,1))\n",
    "x = torch.cat([D_theta, D_x], dim=1)\n",
    "print(x.shape)\n",
    "N = x.shape[0]"
   ]
  },
  {
   "cell_type": "markdown",
   "id": "c4162711",
   "metadata": {},
   "source": [
    "We suppose that the data is generated according to the following sampling scheme:\n",
    "- $w_1,...,w_K,... \\sim GEM(\\alpha)$ is a prior over mean and covariances\n",
    "- $(\\mu_1, \\Sigma_1),..., (\\mu_K,\\Sigma_K),... \\sim NIW(\\mu_0, \\lambda, \\Psi, \\nu)$ \n",
    "- $z_1,..., z_N \\sim \\sum_{k=1}^\\infty w_k \\delta_k$\n",
    "- $x_i|z_i \\sim N(\\mu_{z_i}, \\Sigma_{z_i})$"
   ]
  },
  {
   "cell_type": "code",
   "execution_count": 19,
   "id": "689d48a5",
   "metadata": {},
   "outputs": [],
   "source": [
    "#prior_parameters\n",
    "d=2\n",
    "nu = 3\n",
    "lbda = 0.01\n",
    "mu = torch.mean(x, dim=0).float()\n",
    "psi = torch.eye(d)/50\n",
    "alpha = torch.tensor(10.)\n",
    "truncation = 5"
   ]
  },
  {
   "cell_type": "code",
   "execution_count": 20,
   "id": "0a6146e4",
   "metadata": {},
   "outputs": [],
   "source": [
    "def sample_prior_parameters(num_samples):\n",
    "    sigma = torch.inverse(torch.distributions.Wishart(nu,torch.inverse(psi)).sample([num_samples]))\n",
    "    sigma = (sigma + torch.transpose(sigma, 1,2))/2\n",
    "    mean = torch.distributions.MultivariateNormal(mu,scale_tril = torch.cholesky(sigma)/(lbda**(1/2))).sample()\n",
    "    return mean, sigma\n",
    "\n",
    "def repopulate_parameters(mean, sigma):\n",
    "    _mean, _sigma = sample_prior_parameters(truncation)\n",
    "    mean = torch.cat([mean, _mean], dim = 0)\n",
    "    sigma = torch.cat([sigma, _sigma], dim = 0)\n",
    "    return mean, sigma\n"
   ]
  },
  {
   "cell_type": "code",
   "execution_count": 21,
   "id": "ac91857b",
   "metadata": {},
   "outputs": [],
   "source": [
    "import matplotlib\n",
    "def plot_assignation(x,z):\n",
    "    plt.scatter(x[:,0].numpy(), x[:,1].numpy(), c=z, cmap = matplotlib.cm.get_cmap('plasma'), alpha = .5)\n",
    "\n",
    "def log_prob(new_x,z,mean,cov):\n",
    "    unique, count = torch.unique(z, return_counts = True)\n",
    "    weights = count/z.shape[0]\n",
    "    distribution = torch.distributions.MixtureSameFamily(torch.distributions.Categorical(weights), torch.distributions.MultivariateNormal(mean, cov))\n",
    "    return distribution.log_prob(new_x)\n",
    "\n",
    "def plot_2d_function(f, x_min = -10,x_max = 10, y_min = -10, y_max = 10, delta = 50, levels = 2 , alpha = 0.7, new_figure = True):\n",
    "    if new_figure :\n",
    "        plt.figure(figsize = (10,10))\n",
    "        plt.tick_params(left = False, right = False , labelleft = False ,labelbottom = False, bottom = False)\n",
    "    tt_x = torch.linspace(x_min, x_max, delta)\n",
    "    tt_y = torch.linspace(y_min,y_max, delta)\n",
    "    mesh = torch.cartesian_prod(tt_x, tt_y)\n",
    "    with torch.no_grad():\n",
    "        plt.contourf(tt_x,tt_y,f(mesh).numpy().reshape(delta,delta).T, levels = levels, cmap = matplotlib.cm.get_cmap('viridis'), alpha = alpha)"
   ]
  },
  {
   "cell_type": "code",
   "execution_count": 22,
   "id": "69c92391",
   "metadata": {},
   "outputs": [],
   "source": [
    "Beta_distribution = torch.distributions.Beta(1, alpha)\n",
    "def sample_weights(z): \n",
    "    counts = torch.unique(z, return_counts = True)[1]\n",
    "    probs = torch.cat([counts,alpha.unsqueeze(-1)], dim = -1)\n",
    "    w = torch.distributions.Dirichlet(probs).sample()\n",
    "    r = w[-1]\n",
    "    w_ = w[:-1]\n",
    "    for i in range(truncation-1):\n",
    "        v = Beta_distribution.sample()\n",
    "        w = r*v\n",
    "        r = r*(1-v)\n",
    "        w_ = torch.cat([w_,w.unsqueeze(-1)], dim = -1)\n",
    "    w_ = torch.cat([w_,r.unsqueeze(-1)], dim = -1)\n",
    "    return w_"
   ]
  },
  {
   "cell_type": "code",
   "execution_count": 23,
   "id": "56706b12",
   "metadata": {},
   "outputs": [],
   "source": [
    "def sample_allocation(w, x, mean, cov): \n",
    "    w_i_k = w.unsqueeze(0).repeat(x.shape[0],1)\n",
    "    p_i_k = torch.exp(torch.distributions.MultivariateNormal(mean, cov).log_prob(x.unsqueeze(1).repeat(1,w.shape[0],1)))\n",
    "    temp = p_i_k*w_i_k\n",
    "    return torch.distributions.Categorical(temp/ torch.sum(temp, dim = -1).unsqueeze(-1)).sample()\n"
   ]
  },
  {
   "cell_type": "code",
   "execution_count": 24,
   "id": "c32b546d",
   "metadata": {},
   "outputs": [],
   "source": [
    "def equivalent_allocation(z, mean, cov):\n",
    "    unique, inverse_index = torch.unique(z, return_inverse = True)\n",
    "    new_mean = mean[unique]\n",
    "    new_cov = cov[unique]\n",
    "    return inverse_index, new_mean, new_cov\n",
    "\n",
    "def sample_parameter_posterior(z,x):\n",
    "    list_mean = []\n",
    "    list_cov = []\n",
    "    for c in torch.unique(z):\n",
    "        x_c = x[z==c]\n",
    "        N_c = x_c.shape[0]\n",
    "        empirical_mean = torch.mean(x_c, dim =0)\n",
    "        temp = (empirical_mean-mu).unsqueeze(-1)\n",
    "        cov_c = torch.inverse(torch.distributions.Wishart(nu+N_c,torch.inverse(psi + (torch.cov(x_c.T)*(N_c-1) if N_c>=2 else torch.zeros(d)) + (lbda*N_c*temp@temp.T)/(lbda + N_c))).sample())\n",
    "        cov_c = (cov_c + torch.transpose(cov_c,0,1))/2\n",
    "        mean_c = torch.distributions.MultivariateNormal((lbda*mu + N_c*empirical_mean)/(lbda + N_c), scale_tril = torch.cholesky(cov_c)/(lbda + N_c)**(1/2)).sample()\n",
    "        list_cov.append(cov_c.unsqueeze(0))\n",
    "        list_mean.append(mean_c.unsqueeze(0))\n",
    "    return torch.cat(list_mean, dim = 0), torch.cat(list_cov, dim = 0)"
   ]
  },
  {
   "cell_type": "code",
   "execution_count": 25,
   "id": "9368b604",
   "metadata": {},
   "outputs": [
    {
     "data": {
      "image/png": "[encoded data removed]",
      "text/plain": [
       "<Figure size 720x720 with 1 Axes>"
      ]
     },
     "metadata": {},
     "output_type": "display_data"
    },
    {
     "ename": "KeyboardInterrupt",
     "evalue": "",
     "output_type": "error",
     "traceback": [
      "\u001b[1;31m---------------------------------------------------------------------------\u001b[0m",
      "\u001b[1;31mKeyboardInterrupt\u001b[0m                         Traceback (most recent call last)",
      "Input \u001b[1;32mIn [25]\u001b[0m, in \u001b[0;36m<cell line: 5>\u001b[1;34m()\u001b[0m\n\u001b[0;32m      5\u001b[0m w \u001b[38;5;241m=\u001b[39m sample_weights(z)\n\u001b[0;32m      6\u001b[0m mean, cov \u001b[38;5;241m=\u001b[39m repopulate_parameters(mean, cov)\n\u001b[1;32m----> 7\u001b[0m z \u001b[38;5;241m=\u001b[39m \u001b[43msample_allocation\u001b[49m\u001b[43m(\u001b[49m\u001b[43mw\u001b[49m\u001b[43m,\u001b[49m\u001b[43m \u001b[49m\u001b[43mx\u001b[49m\u001b[43m,\u001b[49m\u001b[43m \u001b[49m\u001b[43mmean\u001b[49m\u001b[43m,\u001b[49m\u001b[43m \u001b[49m\u001b[43mcov\u001b[49m\u001b[43m)\u001b[49m\n\u001b[0;32m      8\u001b[0m z, mean, cov \u001b[38;5;241m=\u001b[39m equivalent_allocation(z, mean, cov)\n\u001b[0;32m      9\u001b[0m \u001b[38;5;28mprint\u001b[39m(mean\u001b[38;5;241m.\u001b[39mshape[\u001b[38;5;241m0\u001b[39m])\n",
      "Input \u001b[1;32mIn [23]\u001b[0m, in \u001b[0;36msample_allocation\u001b[1;34m(w, x, mean, cov)\u001b[0m\n\u001b[0;32m      1\u001b[0m \u001b[38;5;28;01mdef\u001b[39;00m \u001b[38;5;21msample_allocation\u001b[39m(w, x, mean, cov): \n\u001b[0;32m      2\u001b[0m     w_i_k \u001b[38;5;241m=\u001b[39m w\u001b[38;5;241m.\u001b[39munsqueeze(\u001b[38;5;241m0\u001b[39m)\u001b[38;5;241m.\u001b[39mrepeat(x\u001b[38;5;241m.\u001b[39mshape[\u001b[38;5;241m0\u001b[39m],\u001b[38;5;241m1\u001b[39m)\n\u001b[1;32m----> 3\u001b[0m     p_i_k \u001b[38;5;241m=\u001b[39m torch\u001b[38;5;241m.\u001b[39mexp(\u001b[43mtorch\u001b[49m\u001b[38;5;241;43m.\u001b[39;49m\u001b[43mdistributions\u001b[49m\u001b[38;5;241;43m.\u001b[39;49m\u001b[43mMultivariateNormal\u001b[49m\u001b[43m(\u001b[49m\u001b[43mmean\u001b[49m\u001b[43m,\u001b[49m\u001b[43m \u001b[49m\u001b[43mcov\u001b[49m\u001b[43m)\u001b[49m\u001b[38;5;241;43m.\u001b[39;49m\u001b[43mlog_prob\u001b[49m\u001b[43m(\u001b[49m\u001b[43mx\u001b[49m\u001b[38;5;241;43m.\u001b[39;49m\u001b[43munsqueeze\u001b[49m\u001b[43m(\u001b[49m\u001b[38;5;241;43m1\u001b[39;49m\u001b[43m)\u001b[49m\u001b[38;5;241;43m.\u001b[39;49m\u001b[43mrepeat\u001b[49m\u001b[43m(\u001b[49m\u001b[38;5;241;43m1\u001b[39;49m\u001b[43m,\u001b[49m\u001b[43mw\u001b[49m\u001b[38;5;241;43m.\u001b[39;49m\u001b[43mshape\u001b[49m\u001b[43m[\u001b[49m\u001b[38;5;241;43m0\u001b[39;49m\u001b[43m]\u001b[49m\u001b[43m,\u001b[49m\u001b[38;5;241;43m1\u001b[39;49m\u001b[43m)\u001b[49m\u001b[43m)\u001b[49m)\n\u001b[0;32m      4\u001b[0m     temp \u001b[38;5;241m=\u001b[39m p_i_k\u001b[38;5;241m*\u001b[39mw_i_k\n\u001b[0;32m      5\u001b[0m     \u001b[38;5;28;01mreturn\u001b[39;00m torch\u001b[38;5;241m.\u001b[39mdistributions\u001b[38;5;241m.\u001b[39mCategorical(temp\u001b[38;5;241m/\u001b[39m torch\u001b[38;5;241m.\u001b[39msum(temp, dim \u001b[38;5;241m=\u001b[39m \u001b[38;5;241m-\u001b[39m\u001b[38;5;241m1\u001b[39m)\u001b[38;5;241m.\u001b[39munsqueeze(\u001b[38;5;241m-\u001b[39m\u001b[38;5;241m1\u001b[39m))\u001b[38;5;241m.\u001b[39msample()\n",
      "File \u001b[1;32mc:\\users\\ea264728\\pycharmprojects\\sbi\\venv\\lib\\site-packages\\torch\\distributions\\multivariate_normal.py:208\u001b[0m, in \u001b[0;36mMultivariateNormal.log_prob\u001b[1;34m(self, value)\u001b[0m\n\u001b[0;32m    206\u001b[0m     \u001b[38;5;28mself\u001b[39m\u001b[38;5;241m.\u001b[39m_validate_sample(value)\n\u001b[0;32m    207\u001b[0m diff \u001b[38;5;241m=\u001b[39m value \u001b[38;5;241m-\u001b[39m \u001b[38;5;28mself\u001b[39m\u001b[38;5;241m.\u001b[39mloc\n\u001b[1;32m--> 208\u001b[0m M \u001b[38;5;241m=\u001b[39m \u001b[43m_batch_mahalanobis\u001b[49m\u001b[43m(\u001b[49m\u001b[38;5;28;43mself\u001b[39;49m\u001b[38;5;241;43m.\u001b[39;49m\u001b[43m_unbroadcasted_scale_tril\u001b[49m\u001b[43m,\u001b[49m\u001b[43m \u001b[49m\u001b[43mdiff\u001b[49m\u001b[43m)\u001b[49m\n\u001b[0;32m    209\u001b[0m half_log_det \u001b[38;5;241m=\u001b[39m \u001b[38;5;28mself\u001b[39m\u001b[38;5;241m.\u001b[39m_unbroadcasted_scale_tril\u001b[38;5;241m.\u001b[39mdiagonal(dim1\u001b[38;5;241m=\u001b[39m\u001b[38;5;241m-\u001b[39m\u001b[38;5;241m2\u001b[39m, dim2\u001b[38;5;241m=\u001b[39m\u001b[38;5;241m-\u001b[39m\u001b[38;5;241m1\u001b[39m)\u001b[38;5;241m.\u001b[39mlog()\u001b[38;5;241m.\u001b[39msum(\u001b[38;5;241m-\u001b[39m\u001b[38;5;241m1\u001b[39m)\n\u001b[0;32m    210\u001b[0m \u001b[38;5;28;01mreturn\u001b[39;00m \u001b[38;5;241m-\u001b[39m\u001b[38;5;241m0.5\u001b[39m \u001b[38;5;241m*\u001b[39m (\u001b[38;5;28mself\u001b[39m\u001b[38;5;241m.\u001b[39m_event_shape[\u001b[38;5;241m0\u001b[39m] \u001b[38;5;241m*\u001b[39m math\u001b[38;5;241m.\u001b[39mlog(\u001b[38;5;241m2\u001b[39m \u001b[38;5;241m*\u001b[39m math\u001b[38;5;241m.\u001b[39mpi) \u001b[38;5;241m+\u001b[39m M) \u001b[38;5;241m-\u001b[39m half_log_det\n",
      "File \u001b[1;32mc:\\users\\ea264728\\pycharmprojects\\sbi\\venv\\lib\\site-packages\\torch\\distributions\\multivariate_normal.py:57\u001b[0m, in \u001b[0;36m_batch_mahalanobis\u001b[1;34m(bL, bx)\u001b[0m\n\u001b[0;32m     55\u001b[0m flat_x \u001b[38;5;241m=\u001b[39m bx\u001b[38;5;241m.\u001b[39mreshape(\u001b[38;5;241m-\u001b[39m\u001b[38;5;241m1\u001b[39m, flat_L\u001b[38;5;241m.\u001b[39msize(\u001b[38;5;241m0\u001b[39m), n)  \u001b[38;5;66;03m# shape = c x b x n\u001b[39;00m\n\u001b[0;32m     56\u001b[0m flat_x_swap \u001b[38;5;241m=\u001b[39m flat_x\u001b[38;5;241m.\u001b[39mpermute(\u001b[38;5;241m1\u001b[39m, \u001b[38;5;241m2\u001b[39m, \u001b[38;5;241m0\u001b[39m)  \u001b[38;5;66;03m# shape = b x n x c\u001b[39;00m\n\u001b[1;32m---> 57\u001b[0m M_swap \u001b[38;5;241m=\u001b[39m \u001b[43mtorch\u001b[49m\u001b[38;5;241;43m.\u001b[39;49m\u001b[43mlinalg\u001b[49m\u001b[38;5;241;43m.\u001b[39;49m\u001b[43msolve_triangular\u001b[49m\u001b[43m(\u001b[49m\u001b[43mflat_L\u001b[49m\u001b[43m,\u001b[49m\u001b[43m \u001b[49m\u001b[43mflat_x_swap\u001b[49m\u001b[43m,\u001b[49m\u001b[43m \u001b[49m\u001b[43mupper\u001b[49m\u001b[38;5;241;43m=\u001b[39;49m\u001b[38;5;28;43;01mFalse\u001b[39;49;00m\u001b[43m)\u001b[49m\u001b[38;5;241;43m.\u001b[39;49m\u001b[43mpow\u001b[49m\u001b[43m(\u001b[49m\u001b[38;5;241;43m2\u001b[39;49m\u001b[43m)\u001b[49m\u001b[38;5;241;43m.\u001b[39;49m\u001b[43msum\u001b[49m\u001b[43m(\u001b[49m\u001b[38;5;241;43m-\u001b[39;49m\u001b[38;5;241;43m2\u001b[39;49m\u001b[43m)\u001b[49m  \u001b[38;5;66;03m# shape = b x c\u001b[39;00m\n\u001b[0;32m     58\u001b[0m M \u001b[38;5;241m=\u001b[39m M_swap\u001b[38;5;241m.\u001b[39mt()  \u001b[38;5;66;03m# shape = c x b\u001b[39;00m\n\u001b[0;32m     60\u001b[0m \u001b[38;5;66;03m# Now we revert the above reshape and permute operators.\u001b[39;00m\n",
      "\u001b[1;31mKeyboardInterrupt\u001b[0m: "
     ]
    }
   ],
   "source": [
    "z = torch.randint(size = [N], high = 1)\n",
    "mean = torch.zeros(2).unsqueeze(0).repeat(1,1)\n",
    "cov = torch.eye(2).unsqueeze(0).repeat(1,1,1)\n",
    "while True:\n",
    "    w = sample_weights(z)\n",
    "    mean, cov = repopulate_parameters(mean, cov)\n",
    "    z = sample_allocation(w, x, mean, cov)\n",
    "    z, mean, cov = equivalent_allocation(z, mean, cov)\n",
    "    print(mean.shape[0])\n",
    "    mean, cov = sample_parameter_posterior(z,x)\n",
    "    clear_output(wait=True)\n",
    "    plot_2d_function(lambda samples: torch.exp(log_prob(samples,z, mean, cov)),x_min =torch.min(x[:,0])-0.25,x_max = torch.max(x[:,0])+0.25, y_min = torch.min(x[:,1])-0.25, y_max = torch.max(x[:,1])+0.25, levels = 10)\n",
    "    plt.show()"
   ]
  }
 ],
 "metadata": {
  "kernelspec": {
   "display_name": "Python 3 (ipykernel)",
   "language": "python",
   "name": "python3"
  },
  "language_info": {
   "codemirror_mode": {
    "name": "ipython",
    "version": 3
   },
   "file_extension": ".py",
   "mimetype": "text/x-python",
   "name": "python",
   "nbconvert_exporter": "python",
   "pygments_lexer": "ipython3",
   "version": "3.9.2"
  }
 },
 "nbformat": 4,
 "nbformat_minor": 5
}
