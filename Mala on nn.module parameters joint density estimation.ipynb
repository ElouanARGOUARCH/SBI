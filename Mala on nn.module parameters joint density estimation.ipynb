{
 "cells": [
  {
   "cell_type": "code",
   "execution_count": 3,
   "id": "cea4f752",
   "metadata": {},
   "outputs": [],
   "source": [
    "%load_ext autoreload\n",
    "%autoreload 2\n",
    "from targets.conditional_density_estimation_target import *"
   ]
  },
  {
   "cell_type": "code",
   "execution_count": 11,
   "id": "0ac8d657",
   "metadata": {},
   "outputs": [
    {
     "data": {
      "image/png": "[encoded data removed]",
      "text/plain": [
       "<Figure size 432x288 with 1 Axes>"
      ]
     },
     "metadata": {
      "needs_background": "light"
     },
     "output_type": "display_data"
    }
   ],
   "source": [
    "target = Wave()\n",
    "D_theta = target.sample_prior(1000)\n",
    "D_x = target.simulate(D_theta)\n",
    "fig = plt.scatter(D_theta.squeeze(-1).numpy(), D_x.squeeze(-1).numpy())\n",
    "plt.show()"
   ]
  },
  {
   "cell_type": "code",
   "execution_count": 12,
   "id": "914410ee",
   "metadata": {},
   "outputs": [
    {
     "name": "stdout",
     "output_type": "stream",
     "text": [
      "torch.Size([1])\n"
     ]
    },
    {
     "data": {
      "text/plain": [
       "(array([  6.,  28.,  90., 170., 245., 237., 146.,  56.,  16.,   6.]),\n",
       " array([1.1038331, 1.1447396, 1.1856463, 1.2265528, 1.2674595, 1.3083661,\n",
       "        1.3492726, 1.3901793, 1.4310858, 1.4719925, 1.512899 ],\n",
       "       dtype=float32),\n",
       " <BarContainer object of 10 artists>)"
      ]
     },
     "execution_count": 12,
     "metadata": {},
     "output_type": "execute_result"
    },
    {
     "data": {
      "image/png": "[encoded data removed]",
      "text/plain": [
       "<Figure size 432x288 with 1 Axes>"
      ]
     },
     "metadata": {
      "needs_background": "light"
     },
     "output_type": "display_data"
    }
   ],
   "source": [
    "theta_0 = torch.tensor([.5])\n",
    "print(theta_0.shape)\n",
    "num_observations = 1000\n",
    "x0 = target.simulate(theta_0.unsqueeze(0).repeat(num_observations,1))\n",
    "plt.figure()\n",
    "plt.hist(x0.detach().numpy())"
   ]
  },
  {
   "cell_type": "code",
   "execution_count": 31,
   "id": "13227ac9",
   "metadata": {},
   "outputs": [],
   "source": [
    "import torch\n",
    "from torch import nn\n",
    "from torch.distributions import Categorical\n",
    "from tqdm import tqdm\n",
    "\n",
    "from models_dif.multivariate_normal_reference import MultivariateNormalReference\n",
    "from models_dif.softmax_weight import SoftmaxWeight\n",
    "\n",
    "class ConditionalLocationScale(nn.Module):\n",
    "    def __init__(self, K, p, d, hidden_dimensions):\n",
    "        super().__init__()\n",
    "        self.K = K\n",
    "        self.p = p\n",
    "        self.d = d\n",
    "\n",
    "        self.network_dimensions = [self.d] + hidden_dimensions + [2*self.K*self.p]\n",
    "        network = []\n",
    "        for h0, h1 in zip(self.network_dimensions, self.network_dimensions[1:]):\n",
    "            network.extend([nn.Linear(h0, h1),nn.Tanh(),])\n",
    "        network.pop()\n",
    "        self.f = nn.Sequential(*network)\n",
    "\n",
    "    def backward(self, z, theta):\n",
    "        assert z.shape[:-1]==theta.shape[:-1], 'number of z samples does not match the number of theta samples'\n",
    "        desired_size = list(z.shape)\n",
    "        desired_size.insert(-1, self.K)\n",
    "        Z = z.unsqueeze(-2).expand(desired_size)\n",
    "        new_desired_size = desired_size\n",
    "        new_desired_size[-1] = 2*self.p\n",
    "        out = torch.reshape(self.f(theta), new_desired_size)\n",
    "        m, log_s = out[...,:self.p], out[...,self.p:]\n",
    "        return Z * torch.exp(log_s).expand_as(Z) + m.expand_as(Z)\n",
    "\n",
    "    def forward(self, x, theta):\n",
    "        assert x.shape[:-1]==theta.shape[:-1], 'number of x samples does not match the number of theta samples'\n",
    "        desired_size = list(x.shape)\n",
    "        desired_size.insert(-1, self.K)\n",
    "        X = x.unsqueeze(-2).expand(desired_size)\n",
    "        new_desired_size = desired_size\n",
    "        new_desired_size[-1] = 2*self.p\n",
    "        out = torch.reshape(self.f(theta), new_desired_size)\n",
    "        m, log_s = out[...,:self.p], out[...,self.p:]\n",
    "        return (X-m.expand_as(X))/torch.exp(log_s).expand_as(X)\n",
    "\n",
    "    def log_det_J(self,x, theta):\n",
    "        desired_size = list(x.shape)\n",
    "        desired_size.insert(-1, self.K)\n",
    "        X = x.unsqueeze(-2).expand(desired_size)\n",
    "        new_desired_size = desired_size\n",
    "        new_desired_size[-1] = 2*self.p\n",
    "        log_s = torch.reshape(self.f(theta), new_desired_size)[..., self.p:]\n",
    "        return -log_s.sum(-1)\n",
    "\n",
    "class ConditionalDIFDensityEstimator(nn.Module):\n",
    "    def __init__(self, x_samples, theta_samples,x0,prior_theta, K, hidden_dimensions):\n",
    "        super().__init__()\n",
    "        self.x_samples = x_samples\n",
    "        self.theta_samples = theta_samples\n",
    "        self.x0 = x0\n",
    "        self.prior = prior_theta\n",
    "        self.p = self.x_samples.shape[-1]\n",
    "        self.d = self.theta_samples.shape[-1]\n",
    "        self.num_samples = x_samples.shape[0]\n",
    "        assert theta_samples.shape[0] == self.num_samples, 'number of X samples does not match the number of theta samples'\n",
    "        self.K = K\n",
    "\n",
    "        self.reference = MultivariateNormalReference(self.p)\n",
    "\n",
    "        self.w = SoftmaxWeight(self.K, self.p+self.d, hidden_dimensions)\n",
    "\n",
    "        self.T = ConditionalLocationScale(self.K, self.p, self.d, hidden_dimensions)\n",
    "\n",
    "        self.loss_values = []\n",
    "\n",
    "    def compute_log_v(self,x, theta):\n",
    "        assert x.shape[:-1] == theta.shape[:-1], 'wrong shapes'\n",
    "        theta_unsqueezed = theta.unsqueeze(-2).repeat(1, self.K, 1)\n",
    "        z = self.T.forward(x, theta)\n",
    "        log_v = self.reference.log_density(z) + torch.diagonal(self.w.log_prob(torch.cat([z, theta_unsqueezed], dim = -1)), 0, -2, -1) + self.T.log_det_J(x, theta)\n",
    "        return log_v - torch.logsumexp(log_v, dim = -1, keepdim= True)\n",
    "\n",
    "    def sample_latent(self,x, theta):\n",
    "        assert x.shape[:-1] == theta.shape[:-1], 'wrong shapes'\n",
    "        z = self.T.forward(x, theta)\n",
    "        pick = Categorical(torch.exp(self.compute_log_v(x, theta))).sample()\n",
    "        return z[range(z.shape[0]), pick, :]\n",
    "\n",
    "    def log_density(self, x, theta):\n",
    "        assert x.shape[:-1] == theta.shape[:-1], 'wrong shapes'\n",
    "        desired_size = list(theta.shape)\n",
    "        desired_size.insert(-1, self.K)\n",
    "        theta_unsqueezed = theta.unsqueeze(-2).expand(desired_size)\n",
    "        z = self.T.forward(x, theta)\n",
    "        return torch.logsumexp(self.reference.log_density(z) + torch.diagonal(self.w.log_prob(torch.cat([z, theta_unsqueezed], dim = -1)), 0, -2, -1)+ self.T.log_det_J(x, theta),dim=-1)\n",
    "\n",
    "    def sample_model(self, theta):\n",
    "        with torch.no_grad():\n",
    "            z = self.reference.sample(theta.shape[0])\n",
    "            x = self.T.backward(z, theta)\n",
    "            pick = Categorical(torch.exp(self.w.log_prob(torch.cat([z, theta], dim = -1)))).sample()\n",
    "        return x[range(x.shape[0]), pick, :]\n",
    "\n",
    "    def loss(self, batch_x, batch_theta):\n",
    "        batch_theta_unsqueezed = batch_theta.unsqueeze(-2).repeat(1, self.K, 1)\n",
    "        z = self.T.forward(batch_x, batch_theta)\n",
    "        return -torch.sum(torch.logsumexp(self.reference.log_density(z) + torch.diagonal(self.w.log_prob(torch.cat([z, batch_theta_unsqueezed], dim = -1)), 0, -2, -1) + self.T.log_det_J(batch_x, batch_theta), dim=-1))\n",
    "    \n",
    "    def train(self, epochs,batch_size= None,lr = 5e-3):\n",
    "        self.para_list = list(self.parameters())\n",
    "        self.optimizer = torch.optim.Adam(self.para_list, lr=lr, weight_decay=1e-6)\n",
    "\n",
    "        if batch_size is None:\n",
    "            batch_size = self.x_samples.shape[0]\n",
    "        dataset = torch.utils.data.TensorDataset(self.x_samples, self.theta_samples)\n",
    "        device = torch.device('cuda' if torch.cuda.is_available() else 'cpu')\n",
    "        self.to(device)\n",
    "        \n",
    "        theta_values = []\n",
    "\n",
    "        pbar = tqdm(range(epochs))\n",
    "        for t in pbar:\n",
    "            dataloader = torch.utils.data.DataLoader(dataset, batch_size=batch_size, shuffle=True)\n",
    "            for i, batch in enumerate(dataloader):\n",
    "                x, theta = batch[0].to(device), batch[1].to(device)\n",
    "                self.optimizer.zero_grad()\n",
    "                batch_loss = self.loss(x, theta)\n",
    "                batch_loss.backward()\n",
    "                self.optimizer.step()\n",
    "            with torch.no_grad():\n",
    "                iteration_loss = torch.tensor([self.loss(batch[0].to(device), batch[1].to(device)) for i, batch in enumerate(dataloader)]).mean().item()\n",
    "            self.loss_values.append(iteration_loss)\n",
    "            pbar.set_postfix_str('loss = ' + str(round(iteration_loss,6)) + ' ; device: ' + str(device))\n",
    "        self.to(torch.device('cpu'))\n",
    "\n",
    "    def train_joint(self, epochs,batch_size= None,lr = 5e-3, initial_theta = None):\n",
    "        if initial_theta is None:\n",
    "            self.current_theta = nn.Parameter(self.prior.sample().requires_grad_())\n",
    "        else:\n",
    "            self.current_theta = nn.Parameter(initial_theta.requires_grad_())\n",
    "        self.para_list = list(self.parameters())\n",
    "        self.optimizer = torch.optim.SGD(self.para_list, lr=lr, weight_decay=1e-6)\n",
    "\n",
    "        if batch_size is None:\n",
    "            batch_size = self.x_samples.shape[0]\n",
    "        dataset = torch.utils.data.TensorDataset(self.x_samples, self.theta_samples)\n",
    "        device = torch.device('cuda' if torch.cuda.is_available() else 'cpu')\n",
    "        self.to(device)\n",
    "        theta_values = []\n",
    "\n",
    "        pbar = tqdm(range(epochs))\n",
    "        for t in pbar:\n",
    "            dataloader = torch.utils.data.DataLoader(dataset, batch_size=batch_size, shuffle=True)\n",
    "            for i, batch in enumerate(dataloader):\n",
    "                x, theta = batch[0].to(device), batch[1].to(device)\n",
    "                self.optimizer.zero_grad()\n",
    "                batch_loss = (self.loss(x, theta) - torch.sum(self.log_density(x0.to(device).unsqueeze(1).repeat(1, self.current_theta.shape[0],1), self.current_theta.to(device).unsqueeze(0).repeat(x0.shape[0],1,1)), dim = 0) + torch.sum(torch.nn.utils.parameters_to_vector(self.para_list)*torch.sqrt(torch.tensor(2/lr))*torch.randn_like(torch.nn.utils.parameters_to_vector(self.para_list))))/self.x_samples.shape[0]\n",
    "                batch_loss.backward()\n",
    "                self.optimizer.step()\n",
    "            with torch.no_grad():\n",
    "                iteration_loss = torch.tensor([self.loss(batch[0].to(device), batch[1].to(device)) for i, batch in enumerate(dataloader)]).mean().item()\n",
    "            self.loss_values.append(iteration_loss)\n",
    "            pbar.set_postfix_str('loss = ' + str(round(iteration_loss,6)) + ' ; device: ' + str(device) + ' , current_theta = ' + str(self.current_theta.item()))\n",
    "            theta_values.append(self.current_theta.to(torch.device('cpu')))\n",
    "        self.to(torch.device('cpu'))\n",
    "        return torch.cat(theta_values)"
   ]
  },
  {
   "cell_type": "code",
   "execution_count": 32,
   "id": "0556cb87",
   "metadata": {},
   "outputs": [
    {
     "name": "stderr",
     "output_type": "stream",
     "text": [
      "100%|██████████████████████████████████████████████████████████████████████████████████████████████████████████████████████████████████████████████████████████████████████████████████████████████████████████████████████████████████████████████| 1000/1000 [00:19<00:00, 50.22it/s, loss = -292.153442 ; device: cuda]\n"
     ]
    }
   ],
   "source": [
    "dif = ConditionalDIFDensityEstimator(D_x,D_theta,x0, torch.distributions.MultivariateNormal(torch.zeros(1), torch.eye(1)),1,[32,32])\n",
    "dif.train(1000, lr= 1e-2)"
   ]
  },
  {
   "cell_type": "code",
   "execution_count": 33,
   "id": "a3c0dd6d",
   "metadata": {},
   "outputs": [
    {
     "data": {
      "image/png": "[encoded data removed]",
      "text/plain": [
       "<Figure size 432x288 with 1 Axes>"
      ]
     },
     "metadata": {
      "needs_background": "light"
     },
     "output_type": "display_data"
    }
   ],
   "source": [
    "new_x = dif.sample_model(D_theta)\n",
    "plt.scatter(D_theta.numpy(), new_x.numpy())\n",
    "plt.show()"
   ]
  },
  {
   "cell_type": "code",
   "execution_count": 34,
   "id": "af65a878",
   "metadata": {},
   "outputs": [
    {
     "name": "stderr",
     "output_type": "stream",
     "text": [
      "100%|██████████████████████████████████████████████████████████████████████████████████████████████████████████████████████████████████████████████████████████████████████████████████████████████████████████████████████████████████████████████████████| 100/100 [00:54<00:00,  1.84it/s, acceptance = tensor(0.0100)]\n"
     ]
    }
   ],
   "source": [
    "from samplers import IMH\n",
    "sampler = IMH(lambda theta: torch.sum(dif.log_density(x0.unsqueeze(1).repeat(1,theta.shape[0],1), theta.unsqueeze(0).repeat(x0.shape[0],1,1)), dim = 0),1,None,500)\n",
    "samples = sampler.sample(100)"
   ]
  },
  {
   "cell_type": "code",
   "execution_count": 35,
   "id": "574c64b3",
   "metadata": {},
   "outputs": [
    {
     "data": {
      "image/png": "[encoded data removed]",
      "text/plain": [
       "<Figure size 432x288 with 1 Axes>"
      ]
     },
     "metadata": {
      "needs_background": "light"
     },
     "output_type": "display_data"
    }
   ],
   "source": [
    "plt.hist(samples.numpy(), bins = 50)\n",
    "plt.show()"
   ]
  },
  {
   "cell_type": "code",
   "execution_count": 36,
   "id": "5e69f4e5",
   "metadata": {},
   "outputs": [
    {
     "name": "stderr",
     "output_type": "stream",
     "text": [
      "100%|█████████████████████████████████████████████████████████████████████████████████████████████████████████████████████████████████████████████████████████████████████████████████████████████████████████| 5000/5000 [01:49<00:00, 45.50it/s, loss = -288.766022 ; device: cuda , current_theta = 0.5233170390129089]\n"
     ]
    }
   ],
   "source": [
    "theta_values = dif.train_joint(5000, lr = 1e-5, initial_theta=samples[:1])"
   ]
  },
  {
   "cell_type": "code",
   "execution_count": 37,
   "id": "feff1493",
   "metadata": {},
   "outputs": [
    {
     "data": {
      "image/png": "[encoded data removed]",
      "text/plain": [
       "<Figure size 432x288 with 1 Axes>"
      ]
     },
     "metadata": {
      "needs_background": "light"
     },
     "output_type": "display_data"
    }
   ],
   "source": [
    "plt.hist(theta_values.detach().numpy(), bins=50)\n",
    "plt.show()"
   ]
  },
  {
   "cell_type": "code",
   "execution_count": 38,
   "id": "9c71a072",
   "metadata": {},
   "outputs": [],
   "source": [
    "import pyro\n",
    "ess = pyro.ops.stats.effective_sample_size(theta_values, chain_dim = 1, sample_dim = 0)"
   ]
  },
  {
   "cell_type": "code",
   "execution_count": 39,
   "id": "e703befd",
   "metadata": {},
   "outputs": [
    {
     "name": "stdout",
     "output_type": "stream",
     "text": [
      "tensor(2.6404, grad_fn=<SqueezeBackward1>)\n"
     ]
    }
   ],
   "source": [
    "print(ess)"
   ]
  },
  {
   "cell_type": "code",
   "execution_count": null,
   "id": "1496a1cd",
   "metadata": {},
   "outputs": [],
   "source": []
  },
  {
   "cell_type": "code",
   "execution_count": null,
   "id": "ddb405d1",
   "metadata": {},
   "outputs": [],
   "source": [
    "print(theta_values.shape)"
   ]
  },
  {
   "cell_type": "code",
   "execution_count": null,
   "id": "ffe8a8de",
   "metadata": {},
   "outputs": [],
   "source": []
  }
 ],
 "metadata": {
  "kernelspec": {
   "display_name": "Python 3 (ipykernel)",
   "language": "python",
   "name": "python3"
  },
  "language_info": {
   "codemirror_mode": {
    "name": "ipython",
    "version": 3
   },
   "file_extension": ".py",
   "mimetype": "text/x-python",
   "name": "python",
   "nbconvert_exporter": "python",
   "pygments_lexer": "ipython3",
   "version": "3.9.2"
  }
 },
 "nbformat": 4,
 "nbformat_minor": 5
}
