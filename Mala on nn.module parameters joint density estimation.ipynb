{
 "cells": [
  {
   "cell_type": "code",
   "execution_count": 5,
   "id": "cea4f752",
   "metadata": {},
   "outputs": [
    {
     "name": "stdout",
     "output_type": "stream",
     "text": [
      "The autoreload extension is already loaded. To reload it, use:\n",
      "  %reload_ext autoreload\n"
     ]
    },
    {
     "data": {
      "text/plain": [
       "<torch._C.Generator at 0x1fbbc3772b0>"
      ]
     },
     "execution_count": 5,
     "metadata": {},
     "output_type": "execute_result"
    }
   ],
   "source": [
    "%load_ext autoreload\n",
    "%autoreload 2\n",
    "from targets.conditional_density_estimation_target import *\n",
    "torch.manual_seed(0)"
   ]
  },
  {
   "cell_type": "code",
   "execution_count": 6,
   "id": "0ac8d657",
   "metadata": {},
   "outputs": [
    {
     "data": {
      "image/png": "[encoded data removed]",
      "text/plain": [
       "<Figure size 432x288 with 1 Axes>"
      ]
     },
     "metadata": {
      "needs_background": "light"
     },
     "output_type": "display_data"
    }
   ],
   "source": [
    "target = Wave()\n",
    "theta = target.sample_prior(50000)\n",
    "x = target.simulate(theta)\n",
    "fig = plt.scatter(theta.squeeze(-1).numpy(), x.squeeze(-1).numpy())\n",
    "plt.show()"
   ]
  },
  {
   "cell_type": "code",
   "execution_count": 7,
   "id": "914410ee",
   "metadata": {},
   "outputs": [
    {
     "name": "stdout",
     "output_type": "stream",
     "text": [
      "torch.Size([1])\n"
     ]
    },
    {
     "data": {
      "image/png": "[encoded data removed]",
      "text/plain": [
       "<Figure size 432x288 with 1 Axes>"
      ]
     },
     "metadata": {
      "needs_background": "light"
     },
     "output_type": "display_data"
    }
   ],
   "source": [
    "theta_0 = torch.tensor([2])\n",
    "print(theta_0.shape)\n",
    "num_observations = 10\n",
    "x_0 = target.simulate(theta_0.unsqueeze(0).repeat(num_observations,1))\n",
    "plt.figure()\n",
    "hist = plt.hist(x_0.detach().numpy(), bins =50)"
   ]
  },
  {
   "cell_type": "code",
   "execution_count": 8,
   "id": "ae2748e6",
   "metadata": {},
   "outputs": [
    {
     "name": "stdout",
     "output_type": "stream",
     "text": [
      "+--------------+------------+\n",
      "|   Modules    | Parameters |\n",
      "+--------------+------------+\n",
      "| w.f.0.weight |     10     |\n",
      "|  w.f.0.bias  |     5      |\n",
      "| w.f.2.weight |     25     |\n",
      "|  w.f.2.bias  |     5      |\n",
      "| w.f.4.weight |     10     |\n",
      "|  w.f.4.bias  |     2      |\n",
      "| T.f.0.weight |     5      |\n",
      "|  T.f.0.bias  |     5      |\n",
      "| T.f.2.weight |     25     |\n",
      "|  T.f.2.bias  |     5      |\n",
      "| T.f.4.weight |     20     |\n",
      "|  T.f.4.bias  |     4      |\n",
      "+--------------+------------+\n",
      "Total Trainable Params: 121\n",
      "121\n"
     ]
    }
   ],
   "source": [
    "from models_dif import ConditionalDIFDensityEstimator\n",
    "architecture = ConditionalDIFDensityEstimator\n",
    "K = 2\n",
    "hidden_dimensions = [5,5]\n",
    "from prettytable import PrettyTable\n",
    "\n",
    "def count_parameters():\n",
    "    model = architecture(x, theta,K,hidden_dimensions)\n",
    "    table = PrettyTable([\"Modules\", \"Parameters\"])\n",
    "    total_params = 0\n",
    "    for name, parameter in model.named_parameters():\n",
    "        if not parameter.requires_grad: continue\n",
    "        params = parameter.numel()\n",
    "        table.add_row([name, params])\n",
    "        total_params+=params\n",
    "    print(table)\n",
    "    print(f\"Total Trainable Params: {total_params}\")\n",
    "    return total_params\n",
    "    \n",
    "number_param = count_parameters()\n",
    "print(number_param)"
   ]
  },
  {
   "cell_type": "code",
   "execution_count": 9,
   "id": "6def25dd",
   "metadata": {},
   "outputs": [],
   "source": [
    "import copy \n",
    "def metropolis_adjusted_langevin_step(current_model,data,tau):\n",
    "    \n",
    "    #evaluate current model\n",
    "    current_model.zero_grad()\n",
    "    log_prob = -current_model.loss(data)*data.shape[0]\n",
    "    log_prob.backward()\n",
    "    print(log_prob)\n",
    "    \n",
    "    #copy model\n",
    "    copy_model = copy.deepcopy(current_model)\n",
    "    for param, copy_param in zip(current_model.parameters(), copy_model.parameters()):\n",
    "        with torch.no_grad():\n",
    "            copy_param.data= param.data+tau*param.grad + torch.randn_like(param.data)*((2*tau)**(1/2))\n",
    "            print(torch.nn.utils.parameters_to_vector())\n",
    "            \n",
    "    #compute copy_loss\n",
    "    copy_model.zero_grad()\n",
    "    copy_log_prob = -copy_model.loss(data)*data.shape[0]\n",
    "    copy_log_prob.backward()\n",
    "    print(copy_log_prob) \n",
    "    \n",
    "    #compute proposal densities\n",
    "    with torch.no_grad():\n",
    "        log_ratio = 0\n",
    "        for param, new_param in zip(current_model.parameters(),copy_model.parameters()):\n",
    "            log_ratio -= torch.sum(torch.square(param - new_param - tau*new_param.grad))/(4*tau)\n",
    "            log_ratio += torch.sum(torch.square(new_param - param - tau*param.grad))/(4*tau)\n",
    "        #acceptation probability\n",
    "        acceptance_log_prob = copy_log_prob - log_prob + log_ratio\n",
    "        print(torch.exp(acceptance_log_prob))\n",
    "        if torch.rand(1)<torch.exp(acceptance_log_prob):\n",
    "            print('accepted')\n",
    "            return copy_model\n",
    "        else:\n",
    "            print('denied')\n",
    "            return current_model\n",
    "    return copy_model\n"
   ]
  },
  {
   "cell_type": "code",
   "execution_count": 11,
   "id": "85063b27",
   "metadata": {},
   "outputs": [
    {
     "name": "stderr",
     "output_type": "stream",
     "text": [
      "  2%|██▎                                                                                                                   | 2/100 [00:03<02:40,  1.64s/it, loss = 1.200821 ; device: cpu]\n"
     ]
    },
    {
     "ename": "KeyboardInterrupt",
     "evalue": "",
     "output_type": "error",
     "traceback": [
      "\u001b[1;31m---------------------------------------------------------------------------\u001b[0m",
      "\u001b[1;31mKeyboardInterrupt\u001b[0m                         Traceback (most recent call last)",
      "Input \u001b[1;32mIn [11]\u001b[0m, in \u001b[0;36m<cell line: 7>\u001b[1;34m()\u001b[0m\n\u001b[0;32m      4\u001b[0m grid_theta,grid_x \u001b[38;5;241m=\u001b[39m torch\u001b[38;5;241m.\u001b[39mmeshgrid(theta_linspace, x_linspace, indexing \u001b[38;5;241m=\u001b[39m \u001b[38;5;124m'\u001b[39m\u001b[38;5;124mij\u001b[39m\u001b[38;5;124m'\u001b[39m)\n\u001b[0;32m      6\u001b[0m trained_model \u001b[38;5;241m=\u001b[39m ConditionalDIFDensityEstimator(x, theta, K, hidden_dimensions)\n\u001b[1;32m----> 7\u001b[0m \u001b[43mtrained_model\u001b[49m\u001b[38;5;241;43m.\u001b[39;49m\u001b[43mtrain\u001b[49m\u001b[43m(\u001b[49m\u001b[38;5;241;43m100\u001b[39;49m\u001b[43m,\u001b[49m\u001b[38;5;241;43m5000\u001b[39;49m\u001b[43m)\u001b[49m\n",
      "File \u001b[1;32mc:\\users\\ea264728\\pycharmprojects\\sbi\\venv\\lib\\site-packages\\models_dif\\dif_conditional_density_estimator.py:122\u001b[0m, in \u001b[0;36mConditionalDIFDensityEstimator.train\u001b[1;34m(self, epochs, batch_size)\u001b[0m\n\u001b[0;32m    120\u001b[0m \u001b[38;5;28;01mfor\u001b[39;00m t \u001b[38;5;129;01min\u001b[39;00m pbar:\n\u001b[0;32m    121\u001b[0m     dataloader \u001b[38;5;241m=\u001b[39m torch\u001b[38;5;241m.\u001b[39mutils\u001b[38;5;241m.\u001b[39mdata\u001b[38;5;241m.\u001b[39mDataLoader(dataset, batch_size\u001b[38;5;241m=\u001b[39mbatch_size, shuffle\u001b[38;5;241m=\u001b[39m\u001b[38;5;28;01mTrue\u001b[39;00m)\n\u001b[1;32m--> 122\u001b[0m     \u001b[38;5;28;01mfor\u001b[39;00m i, batch \u001b[38;5;129;01min\u001b[39;00m \u001b[38;5;28menumerate\u001b[39m(dataloader):\n\u001b[0;32m    123\u001b[0m         x, theta \u001b[38;5;241m=\u001b[39m batch[\u001b[38;5;241m0\u001b[39m]\u001b[38;5;241m.\u001b[39mto(device), batch[\u001b[38;5;241m1\u001b[39m]\u001b[38;5;241m.\u001b[39mto(device)\n\u001b[0;32m    124\u001b[0m         \u001b[38;5;28mself\u001b[39m\u001b[38;5;241m.\u001b[39moptimizer\u001b[38;5;241m.\u001b[39mzero_grad()\n",
      "File \u001b[1;32mc:\\users\\ea264728\\pycharmprojects\\sbi\\venv\\lib\\site-packages\\torch\\utils\\data\\dataloader.py:530\u001b[0m, in \u001b[0;36m_BaseDataLoaderIter.__next__\u001b[1;34m(self)\u001b[0m\n\u001b[0;32m    528\u001b[0m \u001b[38;5;28;01mif\u001b[39;00m \u001b[38;5;28mself\u001b[39m\u001b[38;5;241m.\u001b[39m_sampler_iter \u001b[38;5;129;01mis\u001b[39;00m \u001b[38;5;28;01mNone\u001b[39;00m:\n\u001b[0;32m    529\u001b[0m     \u001b[38;5;28mself\u001b[39m\u001b[38;5;241m.\u001b[39m_reset()\n\u001b[1;32m--> 530\u001b[0m data \u001b[38;5;241m=\u001b[39m \u001b[38;5;28;43mself\u001b[39;49m\u001b[38;5;241;43m.\u001b[39;49m\u001b[43m_next_data\u001b[49m\u001b[43m(\u001b[49m\u001b[43m)\u001b[49m\n\u001b[0;32m    531\u001b[0m \u001b[38;5;28mself\u001b[39m\u001b[38;5;241m.\u001b[39m_num_yielded \u001b[38;5;241m+\u001b[39m\u001b[38;5;241m=\u001b[39m \u001b[38;5;241m1\u001b[39m\n\u001b[0;32m    532\u001b[0m \u001b[38;5;28;01mif\u001b[39;00m \u001b[38;5;28mself\u001b[39m\u001b[38;5;241m.\u001b[39m_dataset_kind \u001b[38;5;241m==\u001b[39m _DatasetKind\u001b[38;5;241m.\u001b[39mIterable \u001b[38;5;129;01mand\u001b[39;00m \\\n\u001b[0;32m    533\u001b[0m         \u001b[38;5;28mself\u001b[39m\u001b[38;5;241m.\u001b[39m_IterableDataset_len_called \u001b[38;5;129;01mis\u001b[39;00m \u001b[38;5;129;01mnot\u001b[39;00m \u001b[38;5;28;01mNone\u001b[39;00m \u001b[38;5;129;01mand\u001b[39;00m \\\n\u001b[0;32m    534\u001b[0m         \u001b[38;5;28mself\u001b[39m\u001b[38;5;241m.\u001b[39m_num_yielded \u001b[38;5;241m>\u001b[39m \u001b[38;5;28mself\u001b[39m\u001b[38;5;241m.\u001b[39m_IterableDataset_len_called:\n",
      "File \u001b[1;32mc:\\users\\ea264728\\pycharmprojects\\sbi\\venv\\lib\\site-packages\\torch\\utils\\data\\dataloader.py:570\u001b[0m, in \u001b[0;36m_SingleProcessDataLoaderIter._next_data\u001b[1;34m(self)\u001b[0m\n\u001b[0;32m    568\u001b[0m \u001b[38;5;28;01mdef\u001b[39;00m \u001b[38;5;21m_next_data\u001b[39m(\u001b[38;5;28mself\u001b[39m):\n\u001b[0;32m    569\u001b[0m     index \u001b[38;5;241m=\u001b[39m \u001b[38;5;28mself\u001b[39m\u001b[38;5;241m.\u001b[39m_next_index()  \u001b[38;5;66;03m# may raise StopIteration\u001b[39;00m\n\u001b[1;32m--> 570\u001b[0m     data \u001b[38;5;241m=\u001b[39m \u001b[38;5;28;43mself\u001b[39;49m\u001b[38;5;241;43m.\u001b[39;49m\u001b[43m_dataset_fetcher\u001b[49m\u001b[38;5;241;43m.\u001b[39;49m\u001b[43mfetch\u001b[49m\u001b[43m(\u001b[49m\u001b[43mindex\u001b[49m\u001b[43m)\u001b[49m  \u001b[38;5;66;03m# may raise StopIteration\u001b[39;00m\n\u001b[0;32m    571\u001b[0m     \u001b[38;5;28;01mif\u001b[39;00m \u001b[38;5;28mself\u001b[39m\u001b[38;5;241m.\u001b[39m_pin_memory:\n\u001b[0;32m    572\u001b[0m         data \u001b[38;5;241m=\u001b[39m _utils\u001b[38;5;241m.\u001b[39mpin_memory\u001b[38;5;241m.\u001b[39mpin_memory(data)\n",
      "File \u001b[1;32mc:\\users\\ea264728\\pycharmprojects\\sbi\\venv\\lib\\site-packages\\torch\\utils\\data\\_utils\\fetch.py:49\u001b[0m, in \u001b[0;36m_MapDatasetFetcher.fetch\u001b[1;34m(self, possibly_batched_index)\u001b[0m\n\u001b[0;32m     47\u001b[0m \u001b[38;5;28;01mdef\u001b[39;00m \u001b[38;5;21mfetch\u001b[39m(\u001b[38;5;28mself\u001b[39m, possibly_batched_index):\n\u001b[0;32m     48\u001b[0m     \u001b[38;5;28;01mif\u001b[39;00m \u001b[38;5;28mself\u001b[39m\u001b[38;5;241m.\u001b[39mauto_collation:\n\u001b[1;32m---> 49\u001b[0m         data \u001b[38;5;241m=\u001b[39m [\u001b[38;5;28mself\u001b[39m\u001b[38;5;241m.\u001b[39mdataset[idx] \u001b[38;5;28;01mfor\u001b[39;00m idx \u001b[38;5;129;01min\u001b[39;00m possibly_batched_index]\n\u001b[0;32m     50\u001b[0m     \u001b[38;5;28;01melse\u001b[39;00m:\n\u001b[0;32m     51\u001b[0m         data \u001b[38;5;241m=\u001b[39m \u001b[38;5;28mself\u001b[39m\u001b[38;5;241m.\u001b[39mdataset[possibly_batched_index]\n",
      "File \u001b[1;32mc:\\users\\ea264728\\pycharmprojects\\sbi\\venv\\lib\\site-packages\\torch\\utils\\data\\_utils\\fetch.py:49\u001b[0m, in \u001b[0;36m<listcomp>\u001b[1;34m(.0)\u001b[0m\n\u001b[0;32m     47\u001b[0m \u001b[38;5;28;01mdef\u001b[39;00m \u001b[38;5;21mfetch\u001b[39m(\u001b[38;5;28mself\u001b[39m, possibly_batched_index):\n\u001b[0;32m     48\u001b[0m     \u001b[38;5;28;01mif\u001b[39;00m \u001b[38;5;28mself\u001b[39m\u001b[38;5;241m.\u001b[39mauto_collation:\n\u001b[1;32m---> 49\u001b[0m         data \u001b[38;5;241m=\u001b[39m [\u001b[38;5;28;43mself\u001b[39;49m\u001b[38;5;241;43m.\u001b[39;49m\u001b[43mdataset\u001b[49m\u001b[43m[\u001b[49m\u001b[43midx\u001b[49m\u001b[43m]\u001b[49m \u001b[38;5;28;01mfor\u001b[39;00m idx \u001b[38;5;129;01min\u001b[39;00m possibly_batched_index]\n\u001b[0;32m     50\u001b[0m     \u001b[38;5;28;01melse\u001b[39;00m:\n\u001b[0;32m     51\u001b[0m         data \u001b[38;5;241m=\u001b[39m \u001b[38;5;28mself\u001b[39m\u001b[38;5;241m.\u001b[39mdataset[possibly_batched_index]\n",
      "File \u001b[1;32mc:\\users\\ea264728\\pycharmprojects\\sbi\\venv\\lib\\site-packages\\torch\\utils\\data\\dataset.py:369\u001b[0m, in \u001b[0;36mTensorDataset.__getitem__\u001b[1;34m(self, index)\u001b[0m\n\u001b[0;32m    368\u001b[0m \u001b[38;5;28;01mdef\u001b[39;00m \u001b[38;5;21m__getitem__\u001b[39m(\u001b[38;5;28mself\u001b[39m, index):\n\u001b[1;32m--> 369\u001b[0m     \u001b[38;5;28;01mreturn\u001b[39;00m \u001b[38;5;28;43mtuple\u001b[39;49m\u001b[43m(\u001b[49m\u001b[43mtensor\u001b[49m\u001b[43m[\u001b[49m\u001b[43mindex\u001b[49m\u001b[43m]\u001b[49m\u001b[43m \u001b[49m\u001b[38;5;28;43;01mfor\u001b[39;49;00m\u001b[43m \u001b[49m\u001b[43mtensor\u001b[49m\u001b[43m \u001b[49m\u001b[38;5;129;43;01min\u001b[39;49;00m\u001b[43m \u001b[49m\u001b[38;5;28;43mself\u001b[39;49m\u001b[38;5;241;43m.\u001b[39;49m\u001b[43mtensors\u001b[49m\u001b[43m)\u001b[49m\n",
      "File \u001b[1;32mc:\\users\\ea264728\\pycharmprojects\\sbi\\venv\\lib\\site-packages\\torch\\utils\\data\\dataset.py:369\u001b[0m, in \u001b[0;36m<genexpr>\u001b[1;34m(.0)\u001b[0m\n\u001b[0;32m    368\u001b[0m \u001b[38;5;28;01mdef\u001b[39;00m \u001b[38;5;21m__getitem__\u001b[39m(\u001b[38;5;28mself\u001b[39m, index):\n\u001b[1;32m--> 369\u001b[0m     \u001b[38;5;28;01mreturn\u001b[39;00m \u001b[38;5;28mtuple\u001b[39m(tensor[index] \u001b[38;5;28;01mfor\u001b[39;00m tensor \u001b[38;5;129;01min\u001b[39;00m \u001b[38;5;28mself\u001b[39m\u001b[38;5;241m.\u001b[39mtensors)\n",
      "\u001b[1;31mKeyboardInterrupt\u001b[0m: "
     ]
    }
   ],
   "source": [
    "from IPython.display import clear_output\n",
    "theta_linspace = torch.linspace(-8.,8.,100)\n",
    "x_linspace = torch.linspace(-2.,2.,100)\n",
    "grid_theta,grid_x = torch.meshgrid(theta_linspace, x_linspace, indexing = 'ij')\n",
    "\n",
    "trained_model = ConditionalDIFDensityEstimator(x, theta, K, hidden_dimensions)\n",
    "#trained_model.train(100,5000)\n",
    "metropolis_adjusted_langevin_step()"
   ]
  },
  {
   "cell_type": "code",
   "execution_count": 19,
   "id": "c1adc580",
   "metadata": {},
   "outputs": [
    {
     "name": "stdout",
     "output_type": "stream",
     "text": [
      "tensor([ 7.0341e-01, -2.0039e-02,  3.2170e-01, -9.5995e-03,  2.5619e-02,\n",
      "         4.6398e-01,  5.0563e-02, -1.8774e-01,  1.3051e-01, -2.8921e-01,\n",
      "         3.4830e-01, -5.3637e-01, -3.0655e-01,  6.8290e-02, -4.7395e-01,\n",
      "        -1.8752e-01,  2.8750e-01,  2.1097e-01,  4.0853e-01,  4.5567e-01,\n",
      "        -2.9400e-01,  3.1306e-01,  1.4136e-01, -2.8493e-01,  3.4480e-02,\n",
      "        -3.1202e-01,  1.7379e-01, -1.4647e-02, -9.7923e-02, -3.2480e-01,\n",
      "        -2.8382e-01, -3.2811e-01,  2.6148e-02,  2.4343e-01,  2.4684e-01,\n",
      "        -7.8789e-02, -4.5943e-01, -1.8847e-01, -7.4056e-03,  1.8167e-01,\n",
      "         4.1986e-03,  2.1288e-01, -2.3171e-01,  3.5087e-01,  4.2087e-01,\n",
      "         8.5097e-02, -3.2848e-01, -2.1897e-01,  3.5485e-01,  5.4850e-01,\n",
      "         2.9780e-01,  6.0953e-02, -1.7167e-01, -5.3609e-01, -5.5009e-01,\n",
      "        -1.2695e-01, -3.2559e-02, -7.4864e-01,  1.5028e-01, -3.7085e-01,\n",
      "        -1.0120e+00,  1.3730e-01, -6.6983e-01,  1.0100e+00,  7.2199e-01,\n",
      "        -2.4329e-01,  1.0539e+00,  3.8684e-01, -2.8595e-01,  1.7477e-01,\n",
      "         4.1358e-01,  1.0287e-01,  3.7888e-01, -4.2426e-01, -3.8671e-01,\n",
      "        -1.4235e-01, -2.7478e-01, -1.3517e-01, -1.3023e-01, -4.5322e-02,\n",
      "         5.3681e-01,  4.1156e-02, -1.0628e-03,  2.7209e-01, -1.5078e-01,\n",
      "        -2.8780e-01, -3.9214e-01, -4.0354e-01,  1.2347e-01, -3.0968e-01,\n",
      "        -5.3233e-01, -3.2386e-01,  2.1284e-01,  1.5243e-02,  3.4051e-01,\n",
      "         2.5119e-02, -2.6357e-01,  2.9391e-01, -2.4555e-01, -5.5862e-01,\n",
      "        -3.4456e-01,  5.0084e-01,  2.9057e-02,  1.4724e-01,  2.5280e-01,\n",
      "         2.8478e-01,  3.9413e-02, -2.1573e-01, -1.0469e-01,  1.6453e-01,\n",
      "         1.0693e-01, -2.6592e-01,  2.3324e-01,  1.6131e-01, -1.4739e-02,\n",
      "         2.7927e-01,  6.3510e-04,  1.8296e-01, -2.3732e-01, -3.1234e-01,\n",
      "         2.1227e-01], grad_fn=<CatBackward0>)\n"
     ]
    },
    {
     "data": {
      "text/plain": [
       "\"\\nfor i in range(20000):\\n    #copy model\\n    copy_theta = copy.deepcopy(current_theta)\\n    with torch.no_grad():\\n        copy_theta.data = current_theta.data + tau*current_theta.grad + torch.randn_like(current_theta.data)*((2*tau)**(1/2))\\n    copy_model = copy.deepcopy(current_model)\\n    for param, copy_param in zip(current_model.parameters(), copy_model.parameters()):\\n        with torch.no_grad():\\n            copy_param.data= param.data+tau*param.grad + torch.randn_like(param.data)*((2*tau)**(1/2))\\n            \\n    #compute copy_loss\\n    copy_model.zero_grad()\\n    copy_log_prob = -copy_model.loss(x, theta)*x.shape[0] + torch.sum(copy_model.log_density(x_0, copy_theta.unsqueeze(0).repeat(x_0.shape[0],1)))\\n    copy_log_prob.backward()\\n    clear_output(wait = True)\\n    plt.figure()\\n    with torch.no_grad():\\n        density = current_model.log_density(grid_x.unsqueeze(-1), grid_theta.unsqueeze(-1))\\n        plt.pcolormesh(grid_theta, grid_x,torch.exp(density).detach().numpy())\\n        plt.show()\\n    print(log_prob)\\n    print(copy_log_prob) \\n    \\n    #compute proposal densities\\n    with torch.no_grad():\\n        log_ratio = torch.sum(torch.square(copy_theta - current_theta - tau*current_theta.grad))/(4*tau)-torch.sum(torch.square(current_theta - copy_theta - tau*copy_theta.grad))/(4*tau)\\n        for param, new_param in zip(current_model.parameters(),copy_model.parameters()):\\n            log_ratio -= torch.sum(torch.square(param - new_param - tau*new_param.grad))/(4*tau)\\n            log_ratio += torch.sum(torch.square(new_param - param - tau*param.grad))/(4*tau)\\n        #acceptation probability\\n        acceptance_log_prob = copy_log_prob - log_prob + log_ratio\\n        if torch.rand(1)<torch.exp(acceptance_log_prob):\\n            print('accepted')\\n            current_model = copy_model\\n            log_prob = copy_log_prob\\n            current_theta = copy_theta\\n        samples.append(current_theta)\\n    \\n    all_samples = torch.cat(samples, dim =0)\\n    plt.figure()\\n    hist = plt.hist(all_samples.detach().numpy())\\n    plt.show()\\n\""
      ]
     },
     "execution_count": 19,
     "metadata": {},
     "output_type": "execute_result"
    }
   ],
   "source": [
    "current_model = trained_model\n",
    "current_theta = torch.randn(1)\n",
    "current_theta.requires_grad = True\n",
    "log_prob = -current_model.loss(x, theta)*x.shape[0] + torch.sum(current_model.log_density(x_0, current_theta.unsqueeze(0).repeat(x_0.shape[0],1)))\n",
    "log_prob.backward()\n",
    "vector_of_params = torch.nn.utils.parameters_to_vector(current_model.parameters())\n",
    "print(torch.nn.utils.parameters_to_vector(current_model.parameters()))\n",
    "'''\n",
    "for i in range(20000):\n",
    "    #copy model\n",
    "    copy_theta = copy.deepcopy(current_theta)\n",
    "    with torch.no_grad():\n",
    "        copy_theta.data = current_theta.data + tau*current_theta.grad + torch.randn_like(current_theta.data)*((2*tau)**(1/2))\n",
    "    copy_model = copy.deepcopy(current_model)\n",
    "    for param, copy_param in zip(current_model.parameters(), copy_model.parameters()):\n",
    "        with torch.no_grad():\n",
    "            copy_param.data= param.data+tau*param.grad + torch.randn_like(param.data)*((2*tau)**(1/2))\n",
    "            \n",
    "    #compute copy_loss\n",
    "    copy_model.zero_grad()\n",
    "    copy_log_prob = -copy_model.loss(x, theta)*x.shape[0] + torch.sum(copy_model.log_density(x_0, copy_theta.unsqueeze(0).repeat(x_0.shape[0],1)))\n",
    "    copy_log_prob.backward()\n",
    "    clear_output(wait = True)\n",
    "    plt.figure()\n",
    "    with torch.no_grad():\n",
    "        density = current_model.log_density(grid_x.unsqueeze(-1), grid_theta.unsqueeze(-1))\n",
    "        plt.pcolormesh(grid_theta, grid_x,torch.exp(density).detach().numpy())\n",
    "        plt.show()\n",
    "    print(log_prob)\n",
    "    print(copy_log_prob) \n",
    "    \n",
    "    #compute proposal densities\n",
    "    with torch.no_grad():\n",
    "        log_ratio = torch.sum(torch.square(copy_theta - current_theta - tau*current_theta.grad))/(4*tau)-torch.sum(torch.square(current_theta - copy_theta - tau*copy_theta.grad))/(4*tau)\n",
    "        for param, new_param in zip(current_model.parameters(),copy_model.parameters()):\n",
    "            log_ratio -= torch.sum(torch.square(param - new_param - tau*new_param.grad))/(4*tau)\n",
    "            log_ratio += torch.sum(torch.square(new_param - param - tau*param.grad))/(4*tau)\n",
    "        #acceptation probability\n",
    "        acceptance_log_prob = copy_log_prob - log_prob + log_ratio\n",
    "        if torch.rand(1)<torch.exp(acceptance_log_prob):\n",
    "            print('accepted')\n",
    "            current_model = copy_model\n",
    "            log_prob = copy_log_prob\n",
    "            current_theta = copy_theta\n",
    "        samples.append(current_theta)\n",
    "    \n",
    "    all_samples = torch.cat(samples, dim =0)\n",
    "    plt.figure()\n",
    "    hist = plt.hist(all_samples.detach().numpy())\n",
    "    plt.show()\n",
    "'''"
   ]
  },
  {
   "cell_type": "code",
   "execution_count": null,
   "id": "13227ac9",
   "metadata": {},
   "outputs": [],
   "source": []
  },
  {
   "cell_type": "code",
   "execution_count": null,
   "id": "8a9805b6",
   "metadata": {},
   "outputs": [],
   "source": []
  }
 ],
 "metadata": {
  "kernelspec": {
   "display_name": "Python 3 (ipykernel)",
   "language": "python",
   "name": "python3"
  },
  "language_info": {
   "codemirror_mode": {
    "name": "ipython",
    "version": 3
   },
   "file_extension": ".py",
   "mimetype": "text/x-python",
   "name": "python",
   "nbconvert_exporter": "python",
   "pygments_lexer": "ipython3",
   "version": "3.9.2"
  }
 },
 "nbformat": 4,
 "nbformat_minor": 5
}
