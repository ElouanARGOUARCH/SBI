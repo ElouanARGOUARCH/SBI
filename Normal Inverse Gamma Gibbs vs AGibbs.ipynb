{
 "cells": [
  {
   "cell_type": "code",
   "execution_count": 1,
   "id": "fc7f5d73",
   "metadata": {},
   "outputs": [],
   "source": [
    "import torch\n",
    "import pyro\n",
    "import matplotlib.pyplot as plt"
   ]
  },
  {
   "cell_type": "markdown",
   "id": "686a0217",
   "metadata": {},
   "source": [
    "Suppose a Normal-Inverse Gamma prior on the mean and covariance matrix $\\mu, \\sigma^2 \\sim NIGamma(\\mu_0, \\lambda, \\alpha, \\beta)$"
   ]
  },
  {
   "cell_type": "code",
   "execution_count": 2,
   "id": "73babd04",
   "metadata": {},
   "outputs": [],
   "source": [
    "### Prior parameters\n",
    "mu_0 = 0.\n",
    "lbda = 1.\n",
    "alpha = 1.\n",
    "beta = 1."
   ]
  },
  {
   "cell_type": "markdown",
   "id": "c49ad8d2",
   "metadata": {},
   "source": [
    "We will now generate observed data $x_1, ..., x_N \\sim N(\\mu, \\sigma^2)$ for some unknown values of $\\mu, \\sigma^2$ obtained from the prior."
   ]
  },
  {
   "cell_type": "code",
   "execution_count": 3,
   "id": "fa462175",
   "metadata": {},
   "outputs": [
    {
     "data": {
      "image/png": "[encoded data removed]",
      "text/plain": [
       "<Figure size 432x432 with 1 Axes>"
      ]
     },
     "metadata": {
      "needs_background": "light"
     },
     "output_type": "display_data"
    },
    {
     "name": "stdout",
     "output_type": "stream",
     "text": [
      "true_sigma_2 = tensor(1.0662)\n",
      "true_mean = tensor(0.7612)\n"
     ]
    }
   ],
   "source": [
    "true_sigma_2 = pyro.distributions.InverseGamma(alpha, beta).sample()\n",
    "true_mean = torch.distributions.Normal(mu_0,torch.sqrt(true_sigma_2/lbda)).sample()\n",
    "N = 3000\n",
    "x_N  = torch.distributions.Normal(true_mean, torch.sqrt(true_sigma_2)).sample([N])\n",
    "\n",
    "import matplotlib.pyplot as plt\n",
    "plt.figure(figsize = (6,6))\n",
    "plt.hist(x_N.numpy(), bins = 100)\n",
    "plt.show()\n",
    "print('true_sigma_2 = ' + str(true_sigma_2))\n",
    "print('true_mean = ' + str(true_mean))"
   ]
  },
  {
   "cell_type": "markdown",
   "id": "bea53757",
   "metadata": {},
   "source": [
    "Conveniently the Normal-Inverse Gamma is a conjugate prior for the Gaussian Likelihood, such that: \n",
    "\n",
    "$\\mu, \\sigma^2|x_1,..., x_N \\sim NIGamma(\\mu_N, \\lambda_N, \\alpha_N, \\beta_N)$ where: \n",
    "\n",
    "- $\\mu_N = \\frac{\\lambda\\mu_0 + N\\bar{x}}{\\lambda + N}$\n",
    "- $\\lambda_N = \\lambda + N$\n",
    "- $\\beta_N = \\beta + \\frac{1}{2}\\sum_{i=1}^N (x_i - \\bar{x})^2 + \\frac{N\\lambda}{2(N+\\lambda)}(\\bar{x} - \\mu_0)^2$\n",
    "- $\\alpha_N = \\alpha + N/2$\n",
    "\n",
    "Since the posterior is also a Normal Inverse Gamma distribution, we can equivalently work on a prior or a posterior. "
   ]
  },
  {
   "cell_type": "code",
   "execution_count": 4,
   "id": "1bddd49d",
   "metadata": {},
   "outputs": [],
   "source": [
    "lbda_N = lbda + N\n",
    "alpha_N = alpha + N/2\n",
    "empirical_mean = torch.mean(x_N, dim =0)\n",
    "mu_N = (lbda*mu_0 + N*empirical_mean)/lbda_N\n",
    "beta_N = beta + torch.sum(torch.square(x_N-empirical_mean)).squeeze(-1)/2 + (lbda*N*(empirical_mean-mu_0)**2)/(2*lbda_N)"
   ]
  },
  {
   "cell_type": "markdown",
   "id": "4787da74",
   "metadata": {},
   "source": [
    "So we can sample the posterior distribution directly: "
   ]
  },
  {
   "cell_type": "code",
   "execution_count": 5,
   "id": "65db8acb",
   "metadata": {},
   "outputs": [],
   "source": [
    "estimated_sigma_2 = pyro.distributions.InverseGamma(alpha_N, beta_N).sample()\n",
    "estimated_mean = torch.distributions.Normal(mu_N,torch.sqrt(estimated_sigma_2/lbda_N)).sample()"
   ]
  },
  {
   "cell_type": "markdown",
   "id": "b80dceae",
   "metadata": {},
   "source": [
    "Alternatively, we can sample the posterior via a Gibbs sampling scheme. Indeed both conditionals of a Normal inverse Gamma are available: \n",
    "- $\\mu|\\sigma^2 \\sim N(\\mu_0, \\frac{\\sigma^2}{\\lambda})$\n",
    "- $\\sigma^2|\\mu \\sim IGamma(\\alpha + \\frac{1}{2}, \\beta + \\frac{\\lambda}{2}(\\mu-\\mu_0)^2)$"
   ]
  },
  {
   "cell_type": "code",
   "execution_count": 6,
   "id": "22125a0a",
   "metadata": {},
   "outputs": [
    {
     "name": "stdout",
     "output_type": "stream",
     "text": [
      "tensor(49930.7383)\n"
     ]
    }
   ],
   "source": [
    "#Standard gibbs\n",
    "list_mean_1 = []\n",
    "list_sigma_2_1 = []\n",
    "estimated_sigma_2 = torch.tensor(1.)\n",
    "for i in range(50000):\n",
    "    estimated_mean = torch.distributions.Normal(mu_N,torch.sqrt(estimated_sigma_2/lbda_N)).sample()\n",
    "    alpha_N_tilde = alpha_N + 1/2\n",
    "    beta_N_tilde = beta_N + lbda_N*((estimated_mean - mu_N)**2)/2\n",
    "    estimated_sigma_2 = pyro.distributions.InverseGamma(alpha_N_tilde, beta_N_tilde).sample()\n",
    "    list_mean_1.append(estimated_mean)\n",
    "    list_sigma_2_1.append(estimated_sigma_2)\n",
    "chain_values = torch.cat([torch.stack(list_mean_1).unsqueeze(0)], dim = 0)\n",
    "ess = pyro.ops.stats.effective_sample_size(chain_values, chain_dim = 0, sample_dim = 1)\n",
    "print(ess)"
   ]
  },
  {
   "cell_type": "markdown",
   "id": "20e8f435",
   "metadata": {},
   "source": [
    "I want to write another transition scheme which extends the Gibbs.\n",
    "\n",
    "Suppose I target $p(a,b)$ such that both conditionals can be sampled from effortlessly (possibly with conjugacy). Then one can write a Gibbs sampling scheme with iterating over $t$: \n",
    "- $a_t \\sim p(a|b_{t-1})$\n",
    "- $b_t \\sim p(b|a_t)$\n",
    "\n",
    "Suppose now that one can also sample effortlessly the conditional of $b$ given several observations of $a$ (we see that it is for example the case in the Normal Inverse Gamma). This leads to the algorithm: \n",
    "- $a^{(1)}_t,..., a^{(M)}_t \\sim_{iid} p(a|b_{t-1})$ \n",
    "- $b_t\\sim p(b|a^{(1)}_t,..., a^{(M)}_t)$\n",
    "\n",
    "Of course in the case $M=1$, we retrieve the usual Gibbs sampler. \n"
   ]
  },
  {
   "cell_type": "markdown",
   "id": "cc7243c1",
   "metadata": {},
   "source": [
    "Application to the Normal Inverse Gamma: one can express the conditional of $\\sigma^2$ given a bunch of means with conjugacy. \n",
    "- $\\sigma^2|\\mu_1,..., \\mu_M \\sim IGamma(\\alpha + \\frac{M}{2}, \\beta + \\frac{\\lambda}{2}\\sum_{m=1}^M(\\mu_m-\\mu_0)^2)$"
   ]
  },
  {
   "cell_type": "code",
   "execution_count": 7,
   "id": "64d78711",
   "metadata": {},
   "outputs": [
    {
     "name": "stdout",
     "output_type": "stream",
     "text": [
      "tensor(48878.5938)\n"
     ]
    }
   ],
   "source": [
    "list_mean_2 = []\n",
    "list_sigma_2_2 = []\n",
    "M = 10\n",
    "estimated_sigma_2 = torch.tensor(1.)\n",
    "for i in range(50000):\n",
    "    estimated_mean = torch.distributions.Normal(mu_N,torch.sqrt(estimated_sigma_2/lbda_N)).sample([M])\n",
    "    alpha_N_tilde = alpha_N + M/2\n",
    "    beta_N_tilde = beta_N + lbda_N*torch.sum((estimated_mean - mu_N)**2)/2\n",
    "    estimated_sigma_2 = pyro.distributions.InverseGamma(alpha_N_tilde, beta_N_tilde).sample()\n",
    "    list_mean_2.append(estimated_mean[0])\n",
    "    list_sigma_2_2.append(estimated_sigma_2)\n",
    "chain_values = torch.stack(list_mean_2).unsqueeze(0)\n",
    "ess = pyro.ops.stats.effective_sample_size(chain_values, chain_dim = 0, sample_dim = 1)\n",
    "print(ess)"
   ]
  },
  {
   "cell_type": "markdown",
   "id": "e4b25c83",
   "metadata": {},
   "source": [
    "We see that both algorithms produce samples which appear to be from the same posterior (we check by plotting histogram against marginals): \n",
    "- $\\sigma^2 \\sim IGamma(\\alpha, \\beta)$\n",
    "- $\\mu \\sim T_{2\\alpha}(\\mu, \\sqrt{\\frac{\\beta}{\\lambda\\alpha}})$"
   ]
  },
  {
   "cell_type": "code",
   "execution_count": 8,
   "id": "b6c15c95",
   "metadata": {},
   "outputs": [
    {
     "data": {
      "image/png": "[encoded data removed]",
      "text/plain": [
       "<Figure size 432x288 with 1 Axes>"
      ]
     },
     "metadata": {
      "needs_background": "light"
     },
     "output_type": "display_data"
    },
    {
     "data": {
      "image/png": "[encoded data removed]",
      "text/plain": [
       "<Figure size 432x288 with 1 Axes>"
      ]
     },
     "metadata": {
      "needs_background": "light"
     },
     "output_type": "display_data"
    }
   ],
   "source": [
    "tt = torch.linspace(torch.min(torch.stack(list_mean_1)), torch.max(torch.stack(list_mean_1)), 100)\n",
    "#pmu=st.t.pdf(xm,2*an,loc=mun,scale=np.sqrt(Vn*bn/an))\n",
    "plt.plot(tt, torch.exp(torch.distributions.StudentT(2*alpha_N, loc= mu_N, scale = torch.sqrt(beta_N/(lbda_N*alpha_N))).log_prob(tt.unsqueeze(-1))), label = 'True posterior')\n",
    "plt.hist(torch.stack(list_mean_1).numpy(),bins = 75, fill = False, histtype= 'step', density = True, label = 'Gibbs')\n",
    "plt.hist(torch.stack(list_mean_2).numpy(),bins = 75, fill = False, histtype= 'step', density = True, label = 'AGibbs')\n",
    "plt.legend()\n",
    "plt.show()\n",
    "tt = torch.linspace(torch.min(torch.stack(list_sigma_2_1)), torch.max(torch.stack(list_sigma_2_1)), 100)\n",
    "plt.plot(tt, torch.exp(pyro.distributions.InverseGamma(alpha_N, beta_N).log_prob(tt.unsqueeze(-1))), label = 'True posterior')\n",
    "plt.hist(torch.stack(list_sigma_2_1).numpy(),bins = 75, fill = False, histtype= 'step', density = True, label = 'Gibbs')\n",
    "plt.hist(torch.stack(list_sigma_2_2).numpy(),bins = 75, fill = False, histtype= 'step', density = True, label = 'AGibbs')\n",
    "plt.legend()\n",
    "plt.show()"
   ]
  },
  {
   "cell_type": "code",
   "execution_count": null,
   "id": "2cef29a3",
   "metadata": {},
   "outputs": [],
   "source": []
  }
 ],
 "metadata": {
  "kernelspec": {
   "display_name": "Python 3 (ipykernel)",
   "language": "python",
   "name": "python3"
  },
  "language_info": {
   "codemirror_mode": {
    "name": "ipython",
    "version": 3
   },
   "file_extension": ".py",
   "mimetype": "text/x-python",
   "name": "python",
   "nbconvert_exporter": "python",
   "pygments_lexer": "ipython3",
   "version": "3.9.2"
  }
 },
 "nbformat": 4,
 "nbformat_minor": 5
}
