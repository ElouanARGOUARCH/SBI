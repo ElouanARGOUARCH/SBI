{
 "cells": [
  {
   "cell_type": "code",
   "execution_count": 10,
   "id": "0be48066",
   "metadata": {},
   "outputs": [],
   "source": [
    "from __future__ import division\n",
    "import numpy as np\n",
    "import scipy.stats\n",
    "import torch\n",
    "\n",
    "def hpd_grid(sample, alpha=0.05, roundto=2):\n",
    "    \"\"\"Calculate highest posterior density (HPD) of array for given alpha. \n",
    "    The HPD is the minimum width Bayesian credible interval (BCI). \n",
    "    The function works for multimodal distributions, returning more than one mode\n",
    "    Parameters\n",
    "    ----------\n",
    "    \n",
    "    sample : Numpy array or python list\n",
    "        An array containing MCMC samples\n",
    "    alpha : float\n",
    "        Desired probability of type I error (defaults to 0.05)\n",
    "    roundto: integer\n",
    "        Number of digits after the decimal point for the results\n",
    "    Returns\n",
    "    ----------\n",
    "    hpd: array with the lower \n",
    "          \n",
    "    \"\"\"\n",
    "    sample = np.asarray(sample)\n",
    "    sample = sample[~np.isnan(sample)]\n",
    "    # get upper and lower bounds\n",
    "    l = np.min(sample)\n",
    "    u = np.max(sample)\n",
    "    density = scipy.stats.gaussian_kde(sample, 'scott')\n",
    "    x = np.linspace(l, u, 2000)\n",
    "    y = density.evaluate(x)\n",
    "    #y = density.evaluate(x, l, u) waitting for PR to be accepted\n",
    "    xy_zipped = zip(x, y/np.sum(y))\n",
    "    xy = sorted(xy_zipped, key=lambda x: x[1], reverse=True)\n",
    "    xy_cum_sum = 0\n",
    "    hdv = []\n",
    "    for val in xy:\n",
    "        xy_cum_sum += val[1]\n",
    "        hdv.append(val[0])\n",
    "        if xy_cum_sum >= (1-alpha):\n",
    "            break\n",
    "    hdv.sort()\n",
    "    diff = (u-l)/20  # differences of 5%\n",
    "    hpd = []\n",
    "    hpd.append(round(min(hdv), roundto))\n",
    "    for i in range(1, len(hdv)):\n",
    "        if hdv[i]-hdv[i-1] >= diff:\n",
    "            hpd.append(round(hdv[i-1], roundto))\n",
    "            hpd.append(round(hdv[i], roundto))\n",
    "    hpd.append(round(max(hdv), roundto))\n",
    "    ite = iter(hpd)\n",
    "    hpd = list(zip(ite, ite))\n",
    "    for value in hpd:\n",
    "         x_hpd = x[(x > value[0]) & (x < value[1])]\n",
    "         y_hpd = y[(x > value[0]) & (x < value[1])]\n",
    "    return hpd, x, y\n",
    "\n",
    "import matplotlib.pyplot as plt\n",
    "from tqdm import tqdm\n",
    "def plot_expected_coverage(samples, posterior_samples, grid = 50):\n",
    "    list_ = []\n",
    "    for alpha in tqdm(range(0,grid+1)):\n",
    "        hpd,_,_= hpd_grid(samples, 1-alpha/grid)\n",
    "        sum = 0\n",
    "        for mode in hpd:\n",
    "            sum +=((posterior_samples>mode[0])*(posterior_samples<mode[1])).float().mean()\n",
    "        list_.append(sum.unsqueeze(0))\n",
    "    plt.plot(torch.linspace(0,1,grid+1), torch.cat(list_).numpy())\n",
    "    plt.plot(torch.linspace(0,1,grid+1),torch.linspace(0,1,grid+1), linestyle = '--')\n",
    "    plt.show()"
   ]
  },
  {
   "cell_type": "code",
   "execution_count": 12,
   "id": "ad16bb9f",
   "metadata": {},
   "outputs": [
    {
     "name": "stderr",
     "output_type": "stream",
     "text": [
      "100%|█████████████████████████████████████████████████████████████████████████████████████████████████████████████████████████████████████████████████| 1001/1001 [00:25<00:00, 39.82it/s]\n"
     ]
    },
    {
     "data": {
      "image/png": "[encoded data removed]",
      "text/plain": [
       "<Figure size 432x288 with 1 Axes>"
      ]
     },
     "metadata": {
      "needs_background": "light"
     },
     "output_type": "display_data"
    }
   ],
   "source": [
    "samples = torch.randn(1000)*0.1\n",
    "plot_expected_coverage(samples, samples, 1000)"
   ]
  },
  {
   "cell_type": "code",
   "execution_count": null,
   "id": "509545d1",
   "metadata": {},
   "outputs": [],
   "source": []
  }
 ],
 "metadata": {
  "kernelspec": {
   "display_name": "Python 3 (ipykernel)",
   "language": "python",
   "name": "python3"
  },
  "language_info": {
   "codemirror_mode": {
    "name": "ipython",
    "version": 3
   },
   "file_extension": ".py",
   "mimetype": "text/x-python",
   "name": "python",
   "nbconvert_exporter": "python",
   "pygments_lexer": "ipython3",
   "version": "3.9.2"
  }
 },
 "nbformat": 4,
 "nbformat_minor": 5
}
