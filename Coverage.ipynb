{
 "cells": [
  {
   "cell_type": "code",
   "execution_count": 1,
   "id": "db027252",
   "metadata": {},
   "outputs": [],
   "source": [
    "import torch "
   ]
  },
  {
   "cell_type": "code",
   "execution_count": 4,
   "id": "0be48066",
   "metadata": {},
   "outputs": [],
   "source": [
    "from __future__ import division\n",
    "import numpy as np\n",
    "import scipy.stats.kde as kde\n",
    "\n",
    "def hpd_grid(sample, alpha=0.05, roundto=2):\n",
    "    \"\"\"Calculate highest posterior density (HPD) of array for given alpha. \n",
    "    The HPD is the minimum width Bayesian credible interval (BCI). \n",
    "    The function works for multimodal distributions, returning more than one mode\n",
    "    Parameters\n",
    "    ----------\n",
    "    \n",
    "    sample : Numpy array or python list\n",
    "        An array containing MCMC samples\n",
    "    alpha : float\n",
    "        Desired probability of type I error (defaults to 0.05)\n",
    "    roundto: integer\n",
    "        Number of digits after the decimal point for the results\n",
    "    Returns\n",
    "    ----------\n",
    "    hpd: array with the lower \n",
    "          \n",
    "    \"\"\"\n",
    "    sample = np.asarray(sample)\n",
    "    sample = sample[~np.isnan(sample)]\n",
    "    # get upper and lower bounds\n",
    "    l = np.min(sample)\n",
    "    u = np.max(sample)\n",
    "    density = kde.gaussian_kde(sample)\n",
    "    x = np.linspace(l, u, 2000)\n",
    "    y = density.evaluate(x)\n",
    "    #y = density.evaluate(x, l, u) waitting for PR to be accepted\n",
    "    xy_zipped = zip(x, y/np.sum(y))\n",
    "    xy = sorted(xy_zipped, key=lambda x: x[1], reverse=True)\n",
    "    xy_cum_sum = 0\n",
    "    hdv = []\n",
    "    for val in xy:\n",
    "        xy_cum_sum += val[1]\n",
    "        hdv.append(val[0])\n",
    "        if xy_cum_sum >= (1-alpha):\n",
    "            break\n",
    "    hdv.sort()\n",
    "    diff = (u-l)/20  # differences of 5%\n",
    "    hpd = []\n",
    "    hpd.append(round(min(hdv), roundto))\n",
    "    for i in range(1, len(hdv)):\n",
    "        if hdv[i]-hdv[i-1] >= diff:\n",
    "            hpd.append(round(hdv[i-1], roundto))\n",
    "            hpd.append(round(hdv[i], roundto))\n",
    "    hpd.append(round(max(hdv), roundto))\n",
    "    ite = iter(hpd)\n",
    "    hpd = list(zip(ite, ite))\n",
    "    for value in hpd:\n",
    "         x_hpd = x[(x > value[0]) & (x < value[1])]\n",
    "         y_hpd = y[(x > value[0]) & (x < value[1])]\n",
    "    return hpd, x, y\n"
   ]
  },
  {
   "cell_type": "code",
   "execution_count": 11,
   "id": "ad16bb9f",
   "metadata": {},
   "outputs": [
    {
     "name": "stderr",
     "output_type": "stream",
     "text": [
      "C:\\Users\\Elouan\\AppData\\Local\\Temp\\ipykernel_11280\\1666221378.py:28: DeprecationWarning: Please use `gaussian_kde` from the `scipy.stats` namespace, the `scipy.stats.kde` namespace is deprecated.\n",
      "  density = kde.gaussian_kde(sample)\n"
     ]
    },
    {
     "name": "stdout",
     "output_type": "stream",
     "text": [
      "[-7.86928988 -7.86165846 -7.85402704 ...  7.37064768  7.3782791\n",
      "  7.38591051]\n",
      "[0.00053644 0.00054905 0.00056194 ... 0.00229247 0.00224734 0.00220296]\n",
      "[(-6.25, -1.73), (1.76, 6.24)]\n"
     ]
    }
   ],
   "source": [
    "samples1 = torch.randn(10000)+4\n",
    "samples2 = torch.randn(10000)-4\n",
    "samples = torch.cat([samples1, samples2])\n",
    "hpd,x,y = hpd_grid(samples.numpy())\n",
    "print(x)\n",
    "print(y)\n",
    "print(hpd)"
   ]
  },
  {
   "cell_type": "code",
   "execution_count": 12,
   "id": "046c033a",
   "metadata": {},
   "outputs": [],
   "source": [
    "import matplotlib.pyplot as plt\n",
    "from tqdm import tqdm\n",
    "def expected_coverage(samples, posterior_samples, grid = 200):\n",
    "    list_ = []\n",
    "    for alpha in tqdm(range(1,grid+1)):\n",
    "        hpd,_,_= hpd_grid(samples, 1-alpha/grid)\n",
    "        sum = 0\n",
    "        for mode in hpd:\n",
    "            sum +=((samples>mode[0])*(samples<mode[1])).float().mean()\n",
    "        list_.append(sum.unsqueeze(0))\n",
    "    plt.plot(torch.linspace(0,1,grid), torch.cat(list_).numpy())\n",
    "    plt.plot(torch.linspace(0,1,grid),torch.linspace(0,1,grid), linestyle = '--')\n",
    "    plt.show()"
   ]
  },
  {
   "cell_type": "code",
   "execution_count": 13,
   "id": "5cb81af6",
   "metadata": {},
   "outputs": [
    {
     "name": "stderr",
     "output_type": "stream",
     "text": [
      "  0%|                                                                                                                                                                                                                                                                                             | 0/200 [00:00<?, ?it/s]C:\\Users\\Elouan\\AppData\\Local\\Temp\\ipykernel_11280\\1666221378.py:28: DeprecationWarning: Please use `gaussian_kde` from the `scipy.stats` namespace, the `scipy.stats.kde` namespace is deprecated.\n",
      "  density = kde.gaussian_kde(sample)\n",
      "100%|███████████████████████████████████████████████████████████████████████████████████████████████████████████████████████████████████████████████████████████████████████████████████████████████████████████████████████████████████████████████████████████████████████████████████| 200/200 [01:18<00:00,  2.54it/s]\n"
     ]
    },
    {
     "data": {
      "image/png": "[encoded data removed]",
      "text/plain": [
       "<Figure size 432x288 with 1 Axes>"
      ]
     },
     "metadata": {
      "needs_background": "light"
     },
     "output_type": "display_data"
    }
   ],
   "source": [
    "expected_coverage(samples, samples)"
   ]
  },
  {
   "cell_type": "code",
   "execution_count": null,
   "id": "509545d1",
   "metadata": {},
   "outputs": [],
   "source": []
  }
 ],
 "metadata": {
  "kernelspec": {
   "display_name": "Python 3 (ipykernel)",
   "language": "python",
   "name": "python3"
  },
  "language_info": {
   "codemirror_mode": {
    "name": "ipython",
    "version": 3
   },
   "file_extension": ".py",
   "mimetype": "text/x-python",
   "name": "python",
   "nbconvert_exporter": "python",
   "pygments_lexer": "ipython3",
   "version": "3.9.2"
  }
 },
 "nbformat": 4,
 "nbformat_minor": 5
}
