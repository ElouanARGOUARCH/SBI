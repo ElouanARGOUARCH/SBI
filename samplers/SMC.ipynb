{
 "cells": [
  {
   "cell_type": "code",
   "execution_count": 73,
   "id": "8870f7a5",
   "metadata": {},
   "outputs": [],
   "source": [
    "import torch\n",
    "from torch import nn\n",
    "from torch.distributions import Categorical\n",
    "from torch.distributions import MultivariateNormal\n",
    "from tqdm import tqdm\n",
    "\n",
    "from IPython.display import clear_output\n",
    "import matplotlib.pyplot as plt\n",
    "import time"
   ]
  },
  {
   "cell_type": "code",
   "execution_count": 122,
   "id": "8724c910",
   "metadata": {},
   "outputs": [],
   "source": [
    "from targets.variational_inference_target import Orbits\n",
    "target = Orbits()"
   ]
  },
  {
   "cell_type": "code",
   "execution_count": 130,
   "id": "0814e5cb",
   "metadata": {},
   "outputs": [],
   "source": [
    "class AnnealedSMC(nn.Module):\n",
    "    def __init__(self, target_log_density,d,T, initial_distribution=None):\n",
    "        super().__init__()\n",
    "        self.target_log_density = target_log_density\n",
    "        self.d = d\n",
    "        self.T = T\n",
    "        if initial_distribution is None: \n",
    "            self.initial_distribution = torch.distributions.MultivariateNormal(torch.randn(self.d), torch.eye(self.d))\n",
    "        else:\n",
    "            self.initial_distribution = initial_distribution\n",
    "            \n",
    "        self.target_log_densities = lambda samples,t:self.target_log_density(samples)*t + self.initial_distribution.log_prob(samples)*(self.T-t)\n",
    "\n",
    "    def log_Q(self, target_log_density, x_prime, x, tau):\n",
    "        x.requires_grad_()\n",
    "        grad = torch.autograd.grad(torch.sum(target_log_density(x), dim = 0), x)[0]\n",
    "        return MultivariateNormal(x+tau*grad,2*tau*torch.eye(x.shape[-1])).log_prob(x_prime)\n",
    "\n",
    "    def metropolis_adjusted_langevin_step(self,target_log_density, x, tau):\n",
    "        x.requires_grad_()\n",
    "        grad = torch.autograd.grad(torch.sum(target_log_density(x), dim=0), x)[0]\n",
    "        new_x = x + tau*grad + (2*tau)**(1/2)*torch.randn(x.shape)\n",
    "        mask = torch.rand(x.shape[0])<torch.exp(target_log_density(new_x) - target_log_density(x) + self.log_Q(target_log_density,x, new_x, tau) - self.log_Q(target_log_density,new_x, x, tau))\n",
    "        return mask.unsqueeze(-1).repeat(1,self.d).int()*new_x + (1-mask.unsqueeze(-1).repeat(1,self.d).int())*x\n",
    "\n",
    "    def propagate_particles(self,particles, K,t):\n",
    "        for k in range(1,K+1):\n",
    "            particles = self.metropolis_adjusted_langevin_step(target_log_density=lambda samples: self.target_log_densities(samples,t), x = particles,tau = float(1/(k*self.d)))\n",
    "        return particles\n",
    "\n",
    "    def resample_particles(self, propagated_particles,weights):\n",
    "        pick = Categorical(weights).sample([propagated_particles.shape[0]])\n",
    "        return torch.stack([propagated_particles[pick[i],:] for i in range(propagated_particles.shape[0])])\n",
    "\n",
    "    def reweight_particles(self,resampled_particles,t):\n",
    "        unormalized_log_weights = self.target_log_densities(resampled_particles, t+1) - torch.log(torch.tensor([resampled_particles.shape[0]])) - self.target_log_densities(resampled_particles,t)\n",
    "        return torch.exp(unormalized_log_weights - torch.logsumexp(unormalized_log_weights, dim = 0) )\n",
    "\n",
    "    def sample(self, number_particles):\n",
    "        list_particles = [self.initial_distribution.sample([number_particles])]\n",
    "        list_weights = [torch.ones(number_particles)/number_particles]\n",
    "        for t in tqdm(range(1,self.T)):\n",
    "            propagated_particles = self.propagate_particles(list_particles[-1],10,t)\n",
    "            resampled_particles = self.resample_particles(propagated_particles,list_weights[-1])\n",
    "            list_particles.append(resampled_particles)\n",
    "            weights = self.reweight_particles(resampled_particles,t)\n",
    "            list_weights.append(weights)\n",
    "        return list_particles, list_weights"
   ]
  },
  {
   "cell_type": "code",
   "execution_count": 131,
   "id": "02f6d2a0",
   "metadata": {},
   "outputs": [
    {
     "data": {
      "image/png": "[encoded data removed]",
      "text/plain": [
       "<Figure size 432x288 with 1 Axes>"
      ]
     },
     "metadata": {
      "needs_background": "light"
     },
     "output_type": "display_data"
    }
   ],
   "source": [
    "sampler = AnnealedSMC(target.log_prob,2,20)\n",
    "list_particles, list_weights = sampler.sample(1000)\n",
    "for particles_set in list_particles:\n",
    "    plt.scatter(particles_set[:,0].detach().numpy(),particles_set[:,1].detach().numpy())\n",
    "    clear_output(wait = True)\n",
    "    plt.show()"
   ]
  },
  {
   "cell_type": "code",
   "execution_count": 117,
   "id": "a9587979",
   "metadata": {},
   "outputs": [],
   "source": [
    "class SMCSampler1(nn.Module):\n",
    "    def __init__(self, target_log_densities,x0, w0):\n",
    "        super().__init__()\n",
    "        self.particles = [x0]\n",
    "        self.weights = [w0]\n",
    "        self.N = x0.shape[0]\n",
    "        self.d = x0.shape[1]\n",
    "        assert w0.shape[0] == self.N, 'number of weights is different from number of particles'\n",
    "        self.T = len(target_log_densities)\n",
    "        self.target_log_densities = target_log_densities\n",
    "\n",
    "    def log_Q(self, target_log_density, x_prime, x, tau):\n",
    "        x.requires_grad_()\n",
    "        grad = torch.autograd.grad(torch.sum(target_log_density(x), dim = 0), x)[0]\n",
    "        return MultivariateNormal(x+tau*grad,2*tau*torch.eye(x.shape[-1])).log_prob(x_prime)\n",
    "\n",
    "    def metropolis_adjusted_langevin_step(self,target_log_density, x, tau):\n",
    "        x.requires_grad_()\n",
    "        grad = torch.autograd.grad(torch.sum(target_log_density(x), dim=0), x)[0]\n",
    "        new_x = x + tau*grad + (2*tau)**(1/2)*torch.randn(x.shape)\n",
    "        mask = torch.rand(self.N)<torch.exp(target_log_density(new_x) - target_log_density(x) + self.log_Q(target_log_density,x, new_x, tau) - self.log_Q(target_log_density,new_x, x, tau))\n",
    "        return mask.unsqueeze(-1).repeat(1,self.d).int()*new_x + (1-mask.unsqueeze(-1).repeat(1,self.d).int())*x\n",
    "\n",
    "    def propagate_particles(self, K,t):\n",
    "        current_particles = self.particles[t]\n",
    "        for k in range(1,K+1):\n",
    "            current_particles = self.metropolis_adjusted_langevin_step(target_log_density=self.target_log_densities[t], x = current_particles,tau = float(1/(k*self.d)))\n",
    "        return current_particles\n",
    "\n",
    "    def resample_particles(self, propagated_particles,t):\n",
    "        pick = Categorical(self.weights[t]).sample([self.N])\n",
    "        self.particles.append(torch.stack([propagated_particles[pick[i], :] for i in range(self.N)]))\n",
    "\n",
    "    def reweight_particles(self,t):\n",
    "        resampled_particles = self.particles[t+1]\n",
    "        unormalized_log_weights = self.target_log_densities[t+1](resampled_particles) - torch.log(torch.tensor([self.N])) - self.target_log_densities[t](resampled_particles)\n",
    "        normalized_weights = torch.exp(unormalized_log_weights - torch.logsumexp(unormalized_log_weights, dim = 0) )\n",
    "        self.weights.append(normalized_weights)\n",
    "\n",
    "    def sample(self):\n",
    "        for t in tqdm(range(self.T-1)):\n",
    "            propagated_particles = self.propagate_particles(50,t)\n",
    "            self.resample_particles(propagated_particles,t)\n",
    "            self.reweight_particles(t)"
   ]
  },
  {
   "cell_type": "code",
   "execution_count": 18,
   "id": "16852109",
   "metadata": {},
   "outputs": [
    {
     "name": "stderr",
     "output_type": "stream",
     "text": [
      "100%|█████████████████████████████████████████████████████████████████████████████████████████████████████████████████████████████████████████████████████| 19/19 [00:19<00:00,  1.02s/it]\n"
     ]
    }
   ],
   "source": [
    "N = 1000\n",
    "x0 = torch.randn(N,2)\n",
    "w0 = torch.ones(N)/N\n",
    "T = 20\n",
    "target_log_densities = [lambda samples: i*target.log_prob(samples) + MultivariateNormal(torch.zeros(2), torch.eye(2)).log_prob(samples)*(T-i) for i in range(T)]\n",
    "smc = SMCSampler1(target_log_densities, x0, w0)\n",
    "smc.sample()"
   ]
  },
  {
   "cell_type": "code",
   "execution_count": 19,
   "id": "a159f9e3",
   "metadata": {},
   "outputs": [
    {
     "data": {
      "image/png": "[encoded data removed]",
      "text/plain": [
       "<Figure size 432x288 with 1 Axes>"
      ]
     },
     "metadata": {
      "needs_background": "light"
     },
     "output_type": "display_data"
    }
   ],
   "source": [
    "linspace= torch.linspace(-5, 15,1000).unsqueeze(-1)\n",
    "for i,particle_set in enumerate(smc.particles):\n",
    "    clear_output(wait=True)\n",
    "    plt.figure()\n",
    "    plt.scatter(particle_set[:,0].detach().numpy(), particle_set[:,1].detach().numpy())\n",
    "    plt.show()"
   ]
  },
  {
   "cell_type": "code",
   "execution_count": 4,
   "id": "5cfd14db",
   "metadata": {},
   "outputs": [
    {
     "data": {
      "image/png": "[encoded data removed]",
      "text/plain": [
       "<Figure size 432x288 with 1 Axes>"
      ]
     },
     "metadata": {
      "needs_background": "light"
     },
     "output_type": "display_data"
    }
   ],
   "source": [
    "linspace= torch.linspace(-5, 15,1000).unsqueeze(-1)\n",
    "for i,particle_set in enumerate(smc.particles):\n",
    "    clear_output(wait=True)\n",
    "    plt.figure()\n",
    "    plt.hist(particle_set.detach().numpy(), bins= 100, density = True,weights = smc.weights[i].detach().numpy())\n",
    "    plt.plot(linspace, torch.exp(target_log_densities[i](linspace)))\n",
    "    plt.xlim((-5,15))\n",
    "    plt.show()"
   ]
  },
  {
   "cell_type": "code",
   "execution_count": 14,
   "id": "e2f41248",
   "metadata": {},
   "outputs": [],
   "source": [
    "class SMCSampler2(nn.Module):\n",
    "    def __init__(self, target_log_densities,x0, w0):\n",
    "        super().__init__()\n",
    "        self.particles = [x0]\n",
    "        self.weights = [w0]\n",
    "        self.N = x0.shape[0]\n",
    "        self.d = x0.shape[1]\n",
    "        assert w0.shape[0] == self.N, 'number of weights is different from number of particles'\n",
    "        self.T = len(target_log_densities)\n",
    "        self.target_log_densities = target_log_densities\n",
    "\n",
    "    def log_Q(self, target_log_density, x_prime, x, tau):\n",
    "        x.requires_grad_()\n",
    "        grad = torch.autograd.grad(torch.sum(target_log_density(x), dim = 0), x)[0]\n",
    "        return MultivariateNormal(x+tau*grad,2*tau*torch.eye(x.shape[-1])).log_prob(x_prime)\n",
    "\n",
    "    def metropolis_adjusted_langevin_step(self,target_log_density, x, tau):\n",
    "        x.requires_grad_()\n",
    "        grad = torch.autograd.grad(torch.sum(target_log_density(x), dim=0), x)[0]\n",
    "        new_x = x + tau*grad + (2*tau)**(1/2)*torch.randn(x.shape)\n",
    "        mask = torch.rand(self.N)<torch.exp(target_log_density(new_x) - target_log_density(x) + self.log_Q(target_log_density,x, new_x, tau) - self.log_Q(target_log_density,new_x, x, tau))\n",
    "        return mask.unsqueeze(-1).repeat(1,self.d).int()*new_x + (1-mask.unsqueeze(-1).repeat(1,self.d).int())*x\n",
    "\n",
    "    def propagate_particles(self, K,t):\n",
    "        propagated_particles = self.particles[t]\n",
    "        for k in range(1,K+1):\n",
    "            propagated_particles = self.metropolis_adjusted_langevin_step(target_log_density=self.target_log_densities[t+1], x = propagated_particles,tau = float(1/(k*self.d)))\n",
    "        return propagated_particles\n",
    "\n",
    "    def reweight_resample_particles(self,propagated_particles,t):\n",
    "        #reweight\n",
    "        current_particles = self.particles[t]\n",
    "        current_weights = self.weights[t]\n",
    "        unormalized_log_weights = self.target_log_densities[t+1](current_particles) +torch.log(current_weights) - self.target_log_densities[t](current_particles)\n",
    "        normalized_weights = torch.exp(unormalized_log_weights - torch.logsumexp(unormalized_log_weights, dim = 0))\n",
    "        #resample\n",
    "        pick = Categorical(normalized_weights).sample([self.N])\n",
    "        self.particles.append(torch.stack([propagated_particles[pick[i], :] for i in range(self.N)]))\n",
    "        self.weights.append(torch.ones(self.N)/self.N)\n",
    "\n",
    "    def sample(self):\n",
    "        for t in tqdm(range(self.T-1)):\n",
    "            propagated_particles = self.propagate_particles(500,t)\n",
    "            self.reweight_resample_particles(propagated_particles,t)"
   ]
  },
  {
   "cell_type": "code",
   "execution_count": 15,
   "id": "460df1f2",
   "metadata": {},
   "outputs": [
    {
     "name": "stderr",
     "output_type": "stream",
     "text": [
      "  5%|███████▉                                                                                                                                              | 1/19 [00:53<16:00, 53.33s/it]\n"
     ]
    },
    {
     "ename": "KeyboardInterrupt",
     "evalue": "",
     "output_type": "error",
     "traceback": [
      "\u001b[1;31m---------------------------------------------------------------------------\u001b[0m",
      "\u001b[1;31mKeyboardInterrupt\u001b[0m                         Traceback (most recent call last)",
      "Input \u001b[1;32mIn [15]\u001b[0m, in \u001b[0;36m<cell line: 2>\u001b[1;34m()\u001b[0m\n\u001b[0;32m      1\u001b[0m smc \u001b[38;5;241m=\u001b[39m SMCSampler2(target_log_densities, x0, w0)\n\u001b[1;32m----> 2\u001b[0m \u001b[43msmc\u001b[49m\u001b[38;5;241;43m.\u001b[39;49m\u001b[43msample\u001b[49m\u001b[43m(\u001b[49m\u001b[43m)\u001b[49m\n",
      "Input \u001b[1;32mIn [14]\u001b[0m, in \u001b[0;36mSMCSampler2.sample\u001b[1;34m(self)\u001b[0m\n\u001b[0;32m     41\u001b[0m \u001b[38;5;28;01mdef\u001b[39;00m \u001b[38;5;21msample\u001b[39m(\u001b[38;5;28mself\u001b[39m):\n\u001b[0;32m     42\u001b[0m     \u001b[38;5;28;01mfor\u001b[39;00m t \u001b[38;5;129;01min\u001b[39;00m tqdm(\u001b[38;5;28mrange\u001b[39m(\u001b[38;5;28mself\u001b[39m\u001b[38;5;241m.\u001b[39mT\u001b[38;5;241m-\u001b[39m\u001b[38;5;241m1\u001b[39m)):\n\u001b[1;32m---> 43\u001b[0m         propagated_particles \u001b[38;5;241m=\u001b[39m \u001b[38;5;28;43mself\u001b[39;49m\u001b[38;5;241;43m.\u001b[39;49m\u001b[43mpropagate_particles\u001b[49m\u001b[43m(\u001b[49m\u001b[38;5;241;43m500\u001b[39;49m\u001b[43m,\u001b[49m\u001b[43mt\u001b[49m\u001b[43m)\u001b[49m\n\u001b[0;32m     44\u001b[0m         \u001b[38;5;28mself\u001b[39m\u001b[38;5;241m.\u001b[39mreweight_resample_particles(propagated_particles,t)\n",
      "Input \u001b[1;32mIn [14]\u001b[0m, in \u001b[0;36mSMCSampler2.propagate_particles\u001b[1;34m(self, K, t)\u001b[0m\n\u001b[0;32m     25\u001b[0m propagated_particles \u001b[38;5;241m=\u001b[39m \u001b[38;5;28mself\u001b[39m\u001b[38;5;241m.\u001b[39mparticles[t]\n\u001b[0;32m     26\u001b[0m \u001b[38;5;28;01mfor\u001b[39;00m k \u001b[38;5;129;01min\u001b[39;00m \u001b[38;5;28mrange\u001b[39m(\u001b[38;5;241m1\u001b[39m,K\u001b[38;5;241m+\u001b[39m\u001b[38;5;241m1\u001b[39m):\n\u001b[1;32m---> 27\u001b[0m     propagated_particles \u001b[38;5;241m=\u001b[39m \u001b[38;5;28;43mself\u001b[39;49m\u001b[38;5;241;43m.\u001b[39;49m\u001b[43mmetropolis_adjusted_langevin_step\u001b[49m\u001b[43m(\u001b[49m\u001b[43mtarget_log_density\u001b[49m\u001b[38;5;241;43m=\u001b[39;49m\u001b[38;5;28;43mself\u001b[39;49m\u001b[38;5;241;43m.\u001b[39;49m\u001b[43mtarget_log_densities\u001b[49m\u001b[43m[\u001b[49m\u001b[43mt\u001b[49m\u001b[38;5;241;43m+\u001b[39;49m\u001b[38;5;241;43m1\u001b[39;49m\u001b[43m]\u001b[49m\u001b[43m,\u001b[49m\u001b[43m \u001b[49m\u001b[43mx\u001b[49m\u001b[43m \u001b[49m\u001b[38;5;241;43m=\u001b[39;49m\u001b[43m \u001b[49m\u001b[43mpropagated_particles\u001b[49m\u001b[43m,\u001b[49m\u001b[43mtau\u001b[49m\u001b[43m \u001b[49m\u001b[38;5;241;43m=\u001b[39;49m\u001b[43m \u001b[49m\u001b[38;5;28;43mfloat\u001b[39;49m\u001b[43m(\u001b[49m\u001b[38;5;241;43m1\u001b[39;49m\u001b[38;5;241;43m/\u001b[39;49m\u001b[43m(\u001b[49m\u001b[43mk\u001b[49m\u001b[38;5;241;43m*\u001b[39;49m\u001b[38;5;28;43mself\u001b[39;49m\u001b[38;5;241;43m.\u001b[39;49m\u001b[43md\u001b[49m\u001b[43m)\u001b[49m\u001b[43m)\u001b[49m\u001b[43m)\u001b[49m\n\u001b[0;32m     28\u001b[0m \u001b[38;5;28;01mreturn\u001b[39;00m propagated_particles\n",
      "Input \u001b[1;32mIn [14]\u001b[0m, in \u001b[0;36mSMCSampler2.metropolis_adjusted_langevin_step\u001b[1;34m(self, target_log_density, x, tau)\u001b[0m\n\u001b[0;32m     19\u001b[0m grad \u001b[38;5;241m=\u001b[39m torch\u001b[38;5;241m.\u001b[39mautograd\u001b[38;5;241m.\u001b[39mgrad(torch\u001b[38;5;241m.\u001b[39msum(target_log_density(x), dim\u001b[38;5;241m=\u001b[39m\u001b[38;5;241m0\u001b[39m), x)[\u001b[38;5;241m0\u001b[39m]\n\u001b[0;32m     20\u001b[0m new_x \u001b[38;5;241m=\u001b[39m x \u001b[38;5;241m+\u001b[39m tau\u001b[38;5;241m*\u001b[39mgrad \u001b[38;5;241m+\u001b[39m (\u001b[38;5;241m2\u001b[39m\u001b[38;5;241m*\u001b[39mtau)\u001b[38;5;241m*\u001b[39m\u001b[38;5;241m*\u001b[39m(\u001b[38;5;241m1\u001b[39m\u001b[38;5;241m/\u001b[39m\u001b[38;5;241m2\u001b[39m)\u001b[38;5;241m*\u001b[39mtorch\u001b[38;5;241m.\u001b[39mrandn(x\u001b[38;5;241m.\u001b[39mshape)\n\u001b[1;32m---> 21\u001b[0m mask \u001b[38;5;241m=\u001b[39m torch\u001b[38;5;241m.\u001b[39mrand(\u001b[38;5;28mself\u001b[39m\u001b[38;5;241m.\u001b[39mN)\u001b[38;5;241m<\u001b[39mtorch\u001b[38;5;241m.\u001b[39mexp(target_log_density(new_x) \u001b[38;5;241m-\u001b[39m target_log_density(x) \u001b[38;5;241m+\u001b[39m \u001b[38;5;28;43mself\u001b[39;49m\u001b[38;5;241;43m.\u001b[39;49m\u001b[43mlog_Q\u001b[49m\u001b[43m(\u001b[49m\u001b[43mtarget_log_density\u001b[49m\u001b[43m,\u001b[49m\u001b[43mx\u001b[49m\u001b[43m,\u001b[49m\u001b[43m \u001b[49m\u001b[43mnew_x\u001b[49m\u001b[43m,\u001b[49m\u001b[43m \u001b[49m\u001b[43mtau\u001b[49m\u001b[43m)\u001b[49m \u001b[38;5;241m-\u001b[39m \u001b[38;5;28mself\u001b[39m\u001b[38;5;241m.\u001b[39mlog_Q(target_log_density,new_x, x, tau))\n\u001b[0;32m     22\u001b[0m \u001b[38;5;28;01mreturn\u001b[39;00m mask\u001b[38;5;241m.\u001b[39munsqueeze(\u001b[38;5;241m-\u001b[39m\u001b[38;5;241m1\u001b[39m)\u001b[38;5;241m.\u001b[39mrepeat(\u001b[38;5;241m1\u001b[39m,\u001b[38;5;28mself\u001b[39m\u001b[38;5;241m.\u001b[39md)\u001b[38;5;241m.\u001b[39mint()\u001b[38;5;241m*\u001b[39mnew_x \u001b[38;5;241m+\u001b[39m (\u001b[38;5;241m1\u001b[39m\u001b[38;5;241m-\u001b[39mmask\u001b[38;5;241m.\u001b[39munsqueeze(\u001b[38;5;241m-\u001b[39m\u001b[38;5;241m1\u001b[39m)\u001b[38;5;241m.\u001b[39mrepeat(\u001b[38;5;241m1\u001b[39m,\u001b[38;5;28mself\u001b[39m\u001b[38;5;241m.\u001b[39md)\u001b[38;5;241m.\u001b[39mint())\u001b[38;5;241m*\u001b[39mx\n",
      "Input \u001b[1;32mIn [14]\u001b[0m, in \u001b[0;36mSMCSampler2.log_Q\u001b[1;34m(self, target_log_density, x_prime, x, tau)\u001b[0m\n\u001b[0;32m     12\u001b[0m \u001b[38;5;28;01mdef\u001b[39;00m \u001b[38;5;21mlog_Q\u001b[39m(\u001b[38;5;28mself\u001b[39m, target_log_density, x_prime, x, tau):\n\u001b[0;32m     13\u001b[0m     x\u001b[38;5;241m.\u001b[39mrequires_grad_()\n\u001b[1;32m---> 14\u001b[0m     grad \u001b[38;5;241m=\u001b[39m torch\u001b[38;5;241m.\u001b[39mautograd\u001b[38;5;241m.\u001b[39mgrad(torch\u001b[38;5;241m.\u001b[39msum(\u001b[43mtarget_log_density\u001b[49m\u001b[43m(\u001b[49m\u001b[43mx\u001b[49m\u001b[43m)\u001b[49m, dim \u001b[38;5;241m=\u001b[39m \u001b[38;5;241m0\u001b[39m), x)[\u001b[38;5;241m0\u001b[39m]\n\u001b[0;32m     15\u001b[0m     \u001b[38;5;28;01mreturn\u001b[39;00m MultivariateNormal(x\u001b[38;5;241m+\u001b[39mtau\u001b[38;5;241m*\u001b[39mgrad,\u001b[38;5;241m2\u001b[39m\u001b[38;5;241m*\u001b[39mtau\u001b[38;5;241m*\u001b[39mtorch\u001b[38;5;241m.\u001b[39meye(x\u001b[38;5;241m.\u001b[39mshape[\u001b[38;5;241m-\u001b[39m\u001b[38;5;241m1\u001b[39m]))\u001b[38;5;241m.\u001b[39mlog_prob(x_prime)\n",
      "Input \u001b[1;32mIn [9]\u001b[0m, in \u001b[0;36m<lambda>\u001b[1;34m(samples)\u001b[0m\n\u001b[0;32m      3\u001b[0m w0 \u001b[38;5;241m=\u001b[39m torch\u001b[38;5;241m.\u001b[39mones(N)\u001b[38;5;241m/\u001b[39mN\n\u001b[0;32m      4\u001b[0m T \u001b[38;5;241m=\u001b[39m \u001b[38;5;241m20\u001b[39m\n\u001b[1;32m----> 5\u001b[0m target_log_densities \u001b[38;5;241m=\u001b[39m [\u001b[38;5;28;01mlambda\u001b[39;00m samples: i\u001b[38;5;241m*\u001b[39mtarget\u001b[38;5;241m.\u001b[39mlog_prob(samples) \u001b[38;5;241m+\u001b[39m \u001b[43mMultivariateNormal\u001b[49m\u001b[43m(\u001b[49m\u001b[43mtorch\u001b[49m\u001b[38;5;241;43m.\u001b[39;49m\u001b[43mzeros\u001b[49m\u001b[43m(\u001b[49m\u001b[38;5;241;43m2\u001b[39;49m\u001b[43m)\u001b[49m\u001b[43m,\u001b[49m\u001b[43m \u001b[49m\u001b[43mtorch\u001b[49m\u001b[38;5;241;43m.\u001b[39;49m\u001b[43meye\u001b[49m\u001b[43m(\u001b[49m\u001b[38;5;241;43m2\u001b[39;49m\u001b[43m)\u001b[49m\u001b[43m)\u001b[49m\u001b[38;5;241;43m.\u001b[39;49m\u001b[43mlog_prob\u001b[49m\u001b[43m(\u001b[49m\u001b[43msamples\u001b[49m\u001b[43m)\u001b[49m\u001b[38;5;241m*\u001b[39m(T\u001b[38;5;241m-\u001b[39mi) \u001b[38;5;28;01mfor\u001b[39;00m i \u001b[38;5;129;01min\u001b[39;00m \u001b[38;5;28mrange\u001b[39m(T)]\n\u001b[0;32m      6\u001b[0m smc \u001b[38;5;241m=\u001b[39m SMCSampler1(target_log_densities, x0, w0)\n\u001b[0;32m      7\u001b[0m smc\u001b[38;5;241m.\u001b[39msample()\n",
      "File \u001b[1;32mc:\\users\\ea264728\\pycharmprojects\\sbi\\venv\\lib\\site-packages\\torch\\distributions\\multivariate_normal.py:208\u001b[0m, in \u001b[0;36mMultivariateNormal.log_prob\u001b[1;34m(self, value)\u001b[0m\n\u001b[0;32m    206\u001b[0m     \u001b[38;5;28mself\u001b[39m\u001b[38;5;241m.\u001b[39m_validate_sample(value)\n\u001b[0;32m    207\u001b[0m diff \u001b[38;5;241m=\u001b[39m value \u001b[38;5;241m-\u001b[39m \u001b[38;5;28mself\u001b[39m\u001b[38;5;241m.\u001b[39mloc\n\u001b[1;32m--> 208\u001b[0m M \u001b[38;5;241m=\u001b[39m \u001b[43m_batch_mahalanobis\u001b[49m\u001b[43m(\u001b[49m\u001b[38;5;28;43mself\u001b[39;49m\u001b[38;5;241;43m.\u001b[39;49m\u001b[43m_unbroadcasted_scale_tril\u001b[49m\u001b[43m,\u001b[49m\u001b[43m \u001b[49m\u001b[43mdiff\u001b[49m\u001b[43m)\u001b[49m\n\u001b[0;32m    209\u001b[0m half_log_det \u001b[38;5;241m=\u001b[39m \u001b[38;5;28mself\u001b[39m\u001b[38;5;241m.\u001b[39m_unbroadcasted_scale_tril\u001b[38;5;241m.\u001b[39mdiagonal(dim1\u001b[38;5;241m=\u001b[39m\u001b[38;5;241m-\u001b[39m\u001b[38;5;241m2\u001b[39m, dim2\u001b[38;5;241m=\u001b[39m\u001b[38;5;241m-\u001b[39m\u001b[38;5;241m1\u001b[39m)\u001b[38;5;241m.\u001b[39mlog()\u001b[38;5;241m.\u001b[39msum(\u001b[38;5;241m-\u001b[39m\u001b[38;5;241m1\u001b[39m)\n\u001b[0;32m    210\u001b[0m \u001b[38;5;28;01mreturn\u001b[39;00m \u001b[38;5;241m-\u001b[39m\u001b[38;5;241m0.5\u001b[39m \u001b[38;5;241m*\u001b[39m (\u001b[38;5;28mself\u001b[39m\u001b[38;5;241m.\u001b[39m_event_shape[\u001b[38;5;241m0\u001b[39m] \u001b[38;5;241m*\u001b[39m math\u001b[38;5;241m.\u001b[39mlog(\u001b[38;5;241m2\u001b[39m \u001b[38;5;241m*\u001b[39m math\u001b[38;5;241m.\u001b[39mpi) \u001b[38;5;241m+\u001b[39m M) \u001b[38;5;241m-\u001b[39m half_log_det\n",
      "File \u001b[1;32mc:\\users\\ea264728\\pycharmprojects\\sbi\\venv\\lib\\site-packages\\torch\\distributions\\multivariate_normal.py:57\u001b[0m, in \u001b[0;36m_batch_mahalanobis\u001b[1;34m(bL, bx)\u001b[0m\n\u001b[0;32m     55\u001b[0m flat_x \u001b[38;5;241m=\u001b[39m bx\u001b[38;5;241m.\u001b[39mreshape(\u001b[38;5;241m-\u001b[39m\u001b[38;5;241m1\u001b[39m, flat_L\u001b[38;5;241m.\u001b[39msize(\u001b[38;5;241m0\u001b[39m), n)  \u001b[38;5;66;03m# shape = c x b x n\u001b[39;00m\n\u001b[0;32m     56\u001b[0m flat_x_swap \u001b[38;5;241m=\u001b[39m flat_x\u001b[38;5;241m.\u001b[39mpermute(\u001b[38;5;241m1\u001b[39m, \u001b[38;5;241m2\u001b[39m, \u001b[38;5;241m0\u001b[39m)  \u001b[38;5;66;03m# shape = b x n x c\u001b[39;00m\n\u001b[1;32m---> 57\u001b[0m M_swap \u001b[38;5;241m=\u001b[39m \u001b[43mtorch\u001b[49m\u001b[38;5;241;43m.\u001b[39;49m\u001b[43mlinalg\u001b[49m\u001b[38;5;241;43m.\u001b[39;49m\u001b[43msolve_triangular\u001b[49m\u001b[43m(\u001b[49m\u001b[43mflat_L\u001b[49m\u001b[43m,\u001b[49m\u001b[43m \u001b[49m\u001b[43mflat_x_swap\u001b[49m\u001b[43m,\u001b[49m\u001b[43m \u001b[49m\u001b[43mupper\u001b[49m\u001b[38;5;241;43m=\u001b[39;49m\u001b[38;5;28;43;01mFalse\u001b[39;49;00m\u001b[43m)\u001b[49m\u001b[38;5;241;43m.\u001b[39;49m\u001b[43mpow\u001b[49m\u001b[43m(\u001b[49m\u001b[38;5;241;43m2\u001b[39;49m\u001b[43m)\u001b[49m\u001b[38;5;241;43m.\u001b[39;49m\u001b[43msum\u001b[49m\u001b[43m(\u001b[49m\u001b[38;5;241;43m-\u001b[39;49m\u001b[38;5;241;43m2\u001b[39;49m\u001b[43m)\u001b[49m  \u001b[38;5;66;03m# shape = b x c\u001b[39;00m\n\u001b[0;32m     58\u001b[0m M \u001b[38;5;241m=\u001b[39m M_swap\u001b[38;5;241m.\u001b[39mt()  \u001b[38;5;66;03m# shape = c x b\u001b[39;00m\n\u001b[0;32m     60\u001b[0m \u001b[38;5;66;03m# Now we revert the above reshape and permute operators.\u001b[39;00m\n",
      "\u001b[1;31mKeyboardInterrupt\u001b[0m: "
     ]
    }
   ],
   "source": [
    "smc = SMCSampler2(target_log_densities, x0, w0)\n",
    "smc.sample()"
   ]
  },
  {
   "cell_type": "code",
   "execution_count": 13,
   "id": "81f59ae5",
   "metadata": {},
   "outputs": [
    {
     "data": {
      "image/png": "[encoded data removed]",
      "text/plain": [
       "<Figure size 432x288 with 1 Axes>"
      ]
     },
     "metadata": {
      "needs_background": "light"
     },
     "output_type": "display_data"
    }
   ],
   "source": [
    "linspace= torch.linspace(-5, 15,1000).unsqueeze(-1)\n",
    "for i,particle_set in enumerate(smc.particles):\n",
    "    clear_output(wait=True)\n",
    "    plt.figure()\n",
    "    plt.scatter(particle_set[:,0].detach().numpy(), particle_set[:,1].detach().numpy())\n",
    "    plt.show()"
   ]
  },
  {
   "cell_type": "code",
   "execution_count": 7,
   "id": "6661c702",
   "metadata": {},
   "outputs": [
    {
     "data": {
      "image/png": "[encoded data removed]",
      "text/plain": [
       "<Figure size 432x288 with 1 Axes>"
      ]
     },
     "metadata": {
      "needs_background": "light"
     },
     "output_type": "display_data"
    }
   ],
   "source": [
    "linspace= torch.linspace(-5, 15,1000).unsqueeze(-1)\n",
    "for i,particle_set in enumerate(smc.particles):\n",
    "    clear_output(wait=True)\n",
    "    plt.figure()\n",
    "    plt.hist(particle_set.detach().numpy(), bins= 100, density = True,weights = smc.weights[i].detach().numpy())\n",
    "    plt.plot(linspace, torch.exp(target_log_densities[i](linspace)))\n",
    "    plt.xlim((-5,15))\n",
    "    plt.show()"
   ]
  },
  {
   "cell_type": "code",
   "execution_count": null,
   "id": "45473871",
   "metadata": {},
   "outputs": [],
   "source": []
  }
 ],
 "metadata": {
  "kernelspec": {
   "display_name": "Python 3 (ipykernel)",
   "language": "python",
   "name": "python3"
  },
  "language_info": {
   "codemirror_mode": {
    "name": "ipython",
    "version": 3
   },
   "file_extension": ".py",
   "mimetype": "text/x-python",
   "name": "python",
   "nbconvert_exporter": "python",
   "pygments_lexer": "ipython3",
   "version": "3.9.2"
  }
 },
 "nbformat": 4,
 "nbformat_minor": 5
}
