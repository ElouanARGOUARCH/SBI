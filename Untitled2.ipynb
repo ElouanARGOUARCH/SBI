{
 "cells": [
  {
   "cell_type": "code",
   "execution_count": 11,
   "id": "f70c8dc5",
   "metadata": {},
   "outputs": [],
   "source": [
    "import matplotlib.pyplot as plt\n",
    "import numpy as np\n",
    "import torch\n",
    "from torch import nn\n",
    "from sklearn import datasets\n",
    "from sklearn.preprocessing import StandardScaler\n",
    "from torch.distributions import Normal\n",
    "import math\n",
    "\n",
    "class MoonsRotation():\n",
    "    def __init__(self):\n",
    "        super().__init__()\n",
    "        self.prior = torch.distributions.Uniform(torch.tensor([0.]), torch.tensor([3.14159265]))\n",
    "\n",
    "    def prior_log_prob(self, theta):\n",
    "        return self.prior.log_prob(theta)\n",
    "\n",
    "    def sample_prior(self, num_samples):\n",
    "        return self.prior.sample([num_samples])\n",
    "\n",
    "    def simulate(self, thetas):\n",
    "        num_samples = min(thetas.shape[0], 100)\n",
    "        X, y = datasets.make_moons(num_samples, noise=0.05)\n",
    "        X = StandardScaler().fit_transform(X)\n",
    "        return torch.cat([torch.tensor(X[torch.randperm(X.shape[0])][0]).unsqueeze(0).float() @ torch.tensor(\n",
    "            [[torch.cos(theta), torch.sin(\n",
    "                theta)], [torch.cos(theta), -torch.sin(\n",
    "                theta)]]) for theta in thetas], dim=0)\n",
    "\n",
    "    def target_visual(self):\n",
    "        fig = plt.figure(figsize=(15, 15))\n",
    "        for i in range(4):\n",
    "            ax = fig.add_subplot(2, 2, i + 1)\n",
    "            theta = torch.tensor(3.141592 / 8 * (1 + 2 * i))\n",
    "            T = theta.unsqueeze(-1)\n",
    "            rotation_matrix = torch.zeros(1, 2, 2)\n",
    "            rotation_matrix[0, 0, 0], rotation_matrix[0, 0, 1], rotation_matrix[0, 1, 0], rotation_matrix[\n",
    "                0, 1, 1] = torch.cos(T), torch.sin(T), -torch.sin(T), torch.cos(T)\n",
    "            rotation_matrix = rotation_matrix.repeat(5000, 1, 1)\n",
    "            X, y = datasets.make_moons(5000, noise=0.05)\n",
    "            X = (torch.tensor(X).float().unsqueeze(-2) @ rotation_matrix).squeeze(-2)\n",
    "            ax.set_xlim(-2.5, 2.5)\n",
    "            ax.set_ylim(-2.5, 2.5)\n",
    "            ax.scatter(X[:, 0], X[:, 1], color='red', alpha=.3,\n",
    "                       label='theta = ' + str(np.round(theta.item(), 3)))\n",
    "            ax.scatter([0], [0], color='black')\n",
    "            ax.axline([0, 0], [torch.cos(theta), torch.sin(theta)], color='black', linestyle='--',\n",
    "                      label='Axis Rotation with angle theta')\n",
    "            ax.axline([0, 0], [1., 0.], color='black')\n",
    "            ax.legend()"
   ]
  },
  {
   "cell_type": "code",
   "execution_count": 22,
   "id": "5ecdaf8c",
   "metadata": {},
   "outputs": [],
   "source": [
    "moons = MoonsRotation()\n",
    "theta_0 = torch.tensor([.6])\n",
    "n_obs = 100\n",
    "x_0 = moons.simulate(theta_0.unsqueeze(0).repeat(n_obs,1))"
   ]
  },
  {
   "cell_type": "code",
   "execution_count": 23,
   "id": "1595192b",
   "metadata": {},
   "outputs": [
    {
     "name": "stdout",
     "output_type": "stream",
     "text": [
      "torch.Size([100, 2])\n"
     ]
    }
   ],
   "source": [
    "print(x_0.shape)"
   ]
  },
  {
   "cell_type": "code",
   "execution_count": 24,
   "id": "4cb294a0",
   "metadata": {},
   "outputs": [],
   "source": [
    "n_simulations = 1000\n",
    "D_theta = moons.sample_prior(n_simulations)\n",
    "D_x = moons.simulate(D_theta)\n"
   ]
  },
  {
   "cell_type": "code",
   "execution_count": 25,
   "id": "6ed8bdc8",
   "metadata": {},
   "outputs": [
    {
     "name": "stderr",
     "output_type": "stream",
     "text": [
      "100%|██████████████████████████████████████████████████████████████████████████████████████████████████████████████████████████████████████████████████████████████████████████████████████████████████████████████████████████████████████████████| 10000/10000 [05:25<00:00, 30.76it/s, loss = -1.836881 ; device: cuda]\n"
     ]
    }
   ],
   "source": [
    "from conditional_density_estimators import ConditionalDIFDensityEstimator\n",
    "dif = ConditionalDIFDensityEstimator(D_x.float(),D_theta.float(), 50,[32,32,32])\n",
    "dif.train(10000)"
   ]
  },
  {
   "cell_type": "code",
   "execution_count": 42,
   "id": "00779e47",
   "metadata": {},
   "outputs": [
    {
     "name": "stderr",
     "output_type": "stream",
     "text": [
      "  0%|                                                                                                                                                                                                                                                                                            | 0/1000 [00:00<?, ?it/s]\n"
     ]
    },
    {
     "ename": "AssertionError",
     "evalue": "wrong shapes",
     "output_type": "error",
     "traceback": [
      "\u001b[1;31m---------------------------------------------------------------------------\u001b[0m",
      "\u001b[1;31mAssertionError\u001b[0m                            Traceback (most recent call last)",
      "Input \u001b[1;32mIn [42]\u001b[0m, in \u001b[0;36m<cell line: 3>\u001b[1;34m()\u001b[0m\n\u001b[0;32m      1\u001b[0m \u001b[38;5;28;01mfrom\u001b[39;00m \u001b[38;5;21;01mposterior_sampler\u001b[39;00m \u001b[38;5;28;01mimport\u001b[39;00m WLBSampler\n\u001b[0;32m      2\u001b[0m sampler \u001b[38;5;241m=\u001b[39m WLBSampler(dif\u001b[38;5;241m.\u001b[39mlog_density,\u001b[38;5;241m1\u001b[39m,x_0\u001b[38;5;241m.\u001b[39mfloat(), prior_distribution\u001b[38;5;241m=\u001b[39mtorch\u001b[38;5;241m.\u001b[39mdistributions\u001b[38;5;241m.\u001b[39mUniform(\u001b[38;5;241m0\u001b[39m,\u001b[38;5;241m3.14\u001b[39m))\n\u001b[1;32m----> 3\u001b[0m samples \u001b[38;5;241m=\u001b[39m \u001b[43msampler\u001b[49m\u001b[38;5;241;43m.\u001b[39;49m\u001b[43msample\u001b[49m\u001b[43m(\u001b[49m\u001b[38;5;241;43m20\u001b[39;49m\u001b[43m,\u001b[49m\u001b[43mepochs\u001b[49m\u001b[43m \u001b[49m\u001b[38;5;241;43m=\u001b[39;49m\u001b[43m \u001b[49m\u001b[38;5;241;43m1000\u001b[39;49m\u001b[43m,\u001b[49m\u001b[43m \u001b[49m\u001b[43mlr\u001b[49m\u001b[43m \u001b[49m\u001b[38;5;241;43m=\u001b[39;49m\u001b[43m \u001b[49m\u001b[38;5;241;43m1e-2\u001b[39;49m\u001b[43m)\u001b[49m\n",
      "File \u001b[1;32m~\\PycharmProjects\\SBI\\posterior_sampler\\weighted_likelihood_bootstrap.py:23\u001b[0m, in \u001b[0;36mWLBSampler.sample\u001b[1;34m(self, number_samples, epochs, lr)\u001b[0m\n\u001b[0;32m     21\u001b[0m \u001b[38;5;28;01mfor\u001b[39;00m t \u001b[38;5;129;01min\u001b[39;00m pbar:\n\u001b[0;32m     22\u001b[0m     optimizer\u001b[38;5;241m.\u001b[39mzero_grad()\n\u001b[1;32m---> 23\u001b[0m     loss \u001b[38;5;241m=\u001b[39m \u001b[38;5;241m-\u001b[39mtorch\u001b[38;5;241m.\u001b[39msum(w\u001b[38;5;241m*\u001b[39m\u001b[38;5;28;43mself\u001b[39;49m\u001b[38;5;241;43m.\u001b[39;49m\u001b[43mlog_likelihood_function\u001b[49m\u001b[43m(\u001b[49m\u001b[38;5;28;43mself\u001b[39;49m\u001b[38;5;241;43m.\u001b[39;49m\u001b[43mobservations\u001b[49m\u001b[38;5;241;43m.\u001b[39;49m\u001b[43munsqueeze\u001b[49m\u001b[43m(\u001b[49m\u001b[38;5;241;43m1\u001b[39;49m\u001b[43m)\u001b[49m\u001b[38;5;241;43m.\u001b[39;49m\u001b[43mrepeat\u001b[49m\u001b[43m(\u001b[49m\u001b[38;5;241;43m1\u001b[39;49m\u001b[43m,\u001b[49m\u001b[43m \u001b[49m\u001b[43mnumber_samples\u001b[49m\u001b[43m,\u001b[49m\u001b[38;5;241;43m1\u001b[39;49m\u001b[43m)\u001b[49m\u001b[43m,\u001b[49m\u001b[43mparameter\u001b[49m\u001b[38;5;241;43m.\u001b[39;49m\u001b[43munsqueeze\u001b[49m\u001b[43m(\u001b[49m\u001b[38;5;241;43m0\u001b[39;49m\u001b[43m)\u001b[49m\u001b[38;5;241;43m.\u001b[39;49m\u001b[43mrepeat\u001b[49m\u001b[43m(\u001b[49m\u001b[38;5;28;43mself\u001b[39;49m\u001b[38;5;241;43m.\u001b[39;49m\u001b[43mobservations\u001b[49m\u001b[38;5;241;43m.\u001b[39;49m\u001b[43mshape\u001b[49m\u001b[43m[\u001b[49m\u001b[38;5;241;43m0\u001b[39;49m\u001b[43m]\u001b[49m\u001b[43m,\u001b[49m\u001b[43m \u001b[49m\u001b[38;5;241;43m1\u001b[39;49m\u001b[43m,\u001b[49m\u001b[38;5;241;43m1\u001b[39;49m\u001b[43m)\u001b[49m\u001b[43m)\u001b[49m)\u001b[38;5;241m/\u001b[39mnumber_samples\n\u001b[0;32m     24\u001b[0m     loss\u001b[38;5;241m.\u001b[39mbackward()\n\u001b[0;32m     25\u001b[0m     optimizer\u001b[38;5;241m.\u001b[39mstep()\n",
      "File \u001b[1;32m~\\PycharmProjects\\SBI\\conditional_density_estimators\\conditional_dif_density_estimator.py:87\u001b[0m, in \u001b[0;36mConditionalDIFDensityEstimator.log_density\u001b[1;34m(self, x, theta)\u001b[0m\n\u001b[0;32m     86\u001b[0m \u001b[38;5;28;01mdef\u001b[39;00m \u001b[38;5;21mlog_density\u001b[39m(\u001b[38;5;28mself\u001b[39m, x, theta):\n\u001b[1;32m---> 87\u001b[0m     \u001b[38;5;28;01massert\u001b[39;00m x\u001b[38;5;241m.\u001b[39mshape[:\u001b[38;5;241m-\u001b[39m\u001b[38;5;241m1\u001b[39m] \u001b[38;5;241m==\u001b[39m theta\u001b[38;5;241m.\u001b[39mshape[:\u001b[38;5;241m-\u001b[39m\u001b[38;5;241m1\u001b[39m], \u001b[38;5;124m'\u001b[39m\u001b[38;5;124mwrong shapes\u001b[39m\u001b[38;5;124m'\u001b[39m\n\u001b[0;32m     88\u001b[0m     desired_size \u001b[38;5;241m=\u001b[39m \u001b[38;5;28mlist\u001b[39m(theta\u001b[38;5;241m.\u001b[39mshape)\n\u001b[0;32m     89\u001b[0m     desired_size\u001b[38;5;241m.\u001b[39minsert(\u001b[38;5;241m-\u001b[39m\u001b[38;5;241m1\u001b[39m, \u001b[38;5;28mself\u001b[39m\u001b[38;5;241m.\u001b[39mK)\n",
      "\u001b[1;31mAssertionError\u001b[0m: wrong shapes"
     ]
    }
   ],
   "source": [
    "from posterior_sampler import WLBSampler\n",
    "sampler = WLBSampler(dif.log_density,1,x_0.float())\n",
    "samples = sampler.sample(20,epochs = 1000, lr = 1e-2)"
   ]
  },
  {
   "cell_type": "code",
   "execution_count": 28,
   "id": "b0c970c0",
   "metadata": {},
   "outputs": [
    {
     "data": {
      "text/plain": [
       "(array([1., 0., 0., 0., 0., 0., 0., 0., 0., 0., 0., 0., 0., 0., 3., 2., 0.,\n",
       "        2., 1., 0., 0., 0., 0., 0., 0., 1., 0., 0., 0., 1., 1., 0., 1., 2.,\n",
       "        0., 0., 2., 0., 0., 1., 0., 0., 0., 0., 1., 0., 0., 0., 0., 1.]),\n",
       " array([-2.4804404 , -2.386793  , -2.2931454 , -2.1994982 , -2.1058507 ,\n",
       "        -2.0122032 , -1.9185557 , -1.8249084 , -1.7312609 , -1.6376134 ,\n",
       "        -1.543966  , -1.4503186 , -1.3566711 , -1.2630237 , -1.1693763 ,\n",
       "        -1.0757288 , -0.9820814 , -0.88843393, -0.7947865 , -0.7011391 ,\n",
       "        -0.6074916 , -0.5138442 , -0.42019677, -0.32654932, -0.23290189,\n",
       "        -0.13925445, -0.04560702,  0.04804042,  0.14168786,  0.23533529,\n",
       "         0.32898274,  0.42263016,  0.5162776 ,  0.60992503,  0.7035725 ,\n",
       "         0.79721993,  0.89086735,  0.9845148 ,  1.0781622 ,  1.1718097 ,\n",
       "         1.2654572 ,  1.3591045 ,  1.452752  ,  1.5463995 ,  1.6400468 ,\n",
       "         1.7336943 ,  1.8273417 ,  1.9209892 ,  2.0146365 ,  2.108284  ,\n",
       "         2.2019315 ], dtype=float32),\n",
       " <BarContainer object of 50 artists>)"
      ]
     },
     "execution_count": 28,
     "metadata": {},
     "output_type": "execute_result"
    },
    {
     "data": {
      "image/png": "[encoded data removed]",
      "text/plain": [
       "<Figure size 432x288 with 1 Axes>"
      ]
     },
     "metadata": {
      "needs_background": "light"
     },
     "output_type": "display_data"
    }
   ],
   "source": [
    "plt.hist(samples.detach().numpy(), bins = 50)"
   ]
  },
  {
   "cell_type": "code",
   "execution_count": 39,
   "id": "25ea92c5",
   "metadata": {},
   "outputs": [],
   "source": [
    "moons = MoonsRotation()\n",
    "theta_0 = torch.tensor([1.])\n",
    "n_obs = 10000\n",
    "x_0 = dif.sample_model(theta_0.unsqueeze(0).repeat(n_obs,1))"
   ]
  },
  {
   "cell_type": "code",
   "execution_count": 40,
   "id": "6f199f8a",
   "metadata": {},
   "outputs": [
    {
     "data": {
      "text/plain": [
       "<matplotlib.collections.PathCollection at 0x258d7230bb0>"
      ]
     },
     "execution_count": 40,
     "metadata": {},
     "output_type": "execute_result"
    },
    {
     "data": {
      "image/png": "[encoded data removed]",
      "text/plain": [
       "<Figure size 432x288 with 1 Axes>"
      ]
     },
     "metadata": {
      "needs_background": "light"
     },
     "output_type": "display_data"
    }
   ],
   "source": [
    "plt.scatter(x_0[:,0].detach().numpy(), x_0[:,1].detach().numpy())"
   ]
  },
  {
   "cell_type": "code",
   "execution_count": 48,
   "id": "c9bfd7cf",
   "metadata": {},
   "outputs": [],
   "source": [
    "target_log_prob = lambda theta: dif.log_density(x_0, theta.unsqueeze().repeat(x_0.shape[0],1)) + moons.prior_log_prob(theta)"
   ]
  },
  {
   "cell_type": "code",
   "execution_count": 49,
   "id": "b0ff05e6",
   "metadata": {},
   "outputs": [
    {
     "name": "stderr",
     "output_type": "stream",
     "text": [
      "  0%|                                                                                                                                                                                                                                                                                             | 0/100 [00:00<?, ?it/s]\n"
     ]
    },
    {
     "ename": "RuntimeError",
     "evalue": "Number of dimensions of repeat dims can not be smaller than number of dimensions of tensor",
     "output_type": "error",
     "traceback": [
      "\u001b[1;31m---------------------------------------------------------------------------\u001b[0m",
      "\u001b[1;31mRuntimeError\u001b[0m                              Traceback (most recent call last)",
      "Input \u001b[1;32mIn [49]\u001b[0m, in \u001b[0;36m<cell line: 3>\u001b[1;34m()\u001b[0m\n\u001b[0;32m      1\u001b[0m \u001b[38;5;28;01mfrom\u001b[39;00m \u001b[38;5;21;01msamplers\u001b[39;00m \u001b[38;5;28;01mimport\u001b[39;00m IMH\n\u001b[0;32m      2\u001b[0m imh \u001b[38;5;241m=\u001b[39m IMH(target_log_prob,\u001b[38;5;241m1\u001b[39m)\n\u001b[1;32m----> 3\u001b[0m samples \u001b[38;5;241m=\u001b[39m \u001b[43mimh\u001b[49m\u001b[38;5;241;43m.\u001b[39;49m\u001b[43msample\u001b[49m\u001b[43m(\u001b[49m\u001b[38;5;241;43m100\u001b[39;49m\u001b[43m)\u001b[49m\n",
      "File \u001b[1;32m~\\PycharmProjects\\SBI\\samplers\\independant_metropolis_sampler.py:31\u001b[0m, in \u001b[0;36mIMH.sample\u001b[1;34m(self, number_steps)\u001b[0m\n\u001b[0;32m     29\u001b[0m \u001b[38;5;28;01mfor\u001b[39;00m t \u001b[38;5;129;01min\u001b[39;00m pbar:\n\u001b[0;32m     30\u001b[0m     proposed_x \u001b[38;5;241m=\u001b[39m \u001b[38;5;28mself\u001b[39m\u001b[38;5;241m.\u001b[39mproposal_distribution\u001b[38;5;241m.\u001b[39msample([\u001b[38;5;28mself\u001b[39m\u001b[38;5;241m.\u001b[39mnumber_chains])\n\u001b[1;32m---> 31\u001b[0m     x,mask \u001b[38;5;241m=\u001b[39m \u001b[38;5;28;43mself\u001b[39;49m\u001b[38;5;241;43m.\u001b[39;49m\u001b[43mindependant_metropolis_step\u001b[49m\u001b[43m(\u001b[49m\u001b[43mx\u001b[49m\u001b[43m,\u001b[49m\u001b[43mproposed_x\u001b[49m\u001b[43m)\u001b[49m\n\u001b[0;32m     32\u001b[0m     pbar\u001b[38;5;241m.\u001b[39mset_postfix_str(\u001b[38;5;124m'\u001b[39m\u001b[38;5;124macceptance = \u001b[39m\u001b[38;5;124m'\u001b[39m \u001b[38;5;241m+\u001b[39m \u001b[38;5;28mstr\u001b[39m(torch\u001b[38;5;241m.\u001b[39mmean(mask \u001b[38;5;241m*\u001b[39m \u001b[38;5;241m1.\u001b[39m)))\n\u001b[0;32m     33\u001b[0m \u001b[38;5;28;01mreturn\u001b[39;00m x\n",
      "File \u001b[1;32m~\\PycharmProjects\\SBI\\samplers\\independant_metropolis_sampler.py:19\u001b[0m, in \u001b[0;36mIMH.independant_metropolis_step\u001b[1;34m(self, x, x_prime)\u001b[0m\n\u001b[0;32m     18\u001b[0m \u001b[38;5;28;01mdef\u001b[39;00m \u001b[38;5;21mindependant_metropolis_step\u001b[39m(\u001b[38;5;28mself\u001b[39m,x, x_prime):\n\u001b[1;32m---> 19\u001b[0m     target_density_ratio \u001b[38;5;241m=\u001b[39m \u001b[38;5;28;43mself\u001b[39;49m\u001b[38;5;241;43m.\u001b[39;49m\u001b[43mtarget_log_density\u001b[49m\u001b[43m(\u001b[49m\u001b[43mx_prime\u001b[49m\u001b[43m)\u001b[49m \u001b[38;5;241m-\u001b[39m \u001b[38;5;28mself\u001b[39m\u001b[38;5;241m.\u001b[39mtarget_log_density(x)\n\u001b[0;32m     20\u001b[0m     proposal_density_ratio \u001b[38;5;241m=\u001b[39m \u001b[38;5;28mself\u001b[39m\u001b[38;5;241m.\u001b[39mproposal_distribution\u001b[38;5;241m.\u001b[39mlog_prob(x) \u001b[38;5;241m-\u001b[39m \u001b[38;5;28mself\u001b[39m\u001b[38;5;241m.\u001b[39mproposal_distribution\u001b[38;5;241m.\u001b[39mlog_prob(x_prime)\n\u001b[0;32m     21\u001b[0m     acceptance_log_prob \u001b[38;5;241m=\u001b[39m target_density_ratio \u001b[38;5;241m+\u001b[39m proposal_density_ratio\n",
      "Input \u001b[1;32mIn [48]\u001b[0m, in \u001b[0;36m<lambda>\u001b[1;34m(theta)\u001b[0m\n\u001b[1;32m----> 1\u001b[0m target_log_prob \u001b[38;5;241m=\u001b[39m \u001b[38;5;28;01mlambda\u001b[39;00m theta: dif\u001b[38;5;241m.\u001b[39mlog_density(x_0, \u001b[43mtheta\u001b[49m\u001b[38;5;241;43m.\u001b[39;49m\u001b[43munsqueeze\u001b[49m\u001b[43m(\u001b[49m\u001b[38;5;241;43m0\u001b[39;49m\u001b[43m)\u001b[49m\u001b[38;5;241;43m.\u001b[39;49m\u001b[43mrepeat\u001b[49m\u001b[43m(\u001b[49m\u001b[43mx_0\u001b[49m\u001b[38;5;241;43m.\u001b[39;49m\u001b[43mshape\u001b[49m\u001b[43m[\u001b[49m\u001b[38;5;241;43m0\u001b[39;49m\u001b[43m]\u001b[49m\u001b[43m,\u001b[49m\u001b[38;5;241;43m1\u001b[39;49m\u001b[43m)\u001b[49m) \u001b[38;5;241m+\u001b[39m moons\u001b[38;5;241m.\u001b[39mprior_log_prob(theta)\n",
      "\u001b[1;31mRuntimeError\u001b[0m: Number of dimensions of repeat dims can not be smaller than number of dimensions of tensor"
     ]
    }
   ],
   "source": [
    "from samplers import IMH\n",
    "imh = IMH(target_log_prob,1)\n",
    "samples = imh.sample(100)"
   ]
  },
  {
   "cell_type": "code",
   "execution_count": null,
   "id": "f8beb8d8",
   "metadata": {},
   "outputs": [],
   "source": []
  }
 ],
 "metadata": {
  "kernelspec": {
   "display_name": "Python 3 (ipykernel)",
   "language": "python",
   "name": "python3"
  },
  "language_info": {
   "codemirror_mode": {
    "name": "ipython",
    "version": 3
   },
   "file_extension": ".py",
   "mimetype": "text/x-python",
   "name": "python",
   "nbconvert_exporter": "python",
   "pygments_lexer": "ipython3",
   "version": "3.9.2"
  }
 },
 "nbformat": 4,
 "nbformat_minor": 5
}
