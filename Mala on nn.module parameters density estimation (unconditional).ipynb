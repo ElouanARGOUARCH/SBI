{
 "cells": [
  {
   "cell_type": "code",
   "execution_count": 1,
   "id": "cea4f752",
   "metadata": {},
   "outputs": [],
   "source": [
    "%load_ext autoreload\n",
    "%autoreload 2\n",
    "from targets.density_estimation_target import *"
   ]
  },
  {
   "cell_type": "code",
   "execution_count": 2,
   "id": "0ac8d657",
   "metadata": {},
   "outputs": [
    {
     "data": {
      "image/png": "[encoded data removed]",
      "text/plain": [
       "<Figure size 432x288 with 1 Axes>"
      ]
     },
     "metadata": {
      "needs_background": "light"
     },
     "output_type": "display_data"
    }
   ],
   "source": [
    "target = Dimension1()\n",
    "data = target.sample(100000)\n",
    "fig = plt.hist(data.numpy(), bins = 200)\n",
    "plt.show()"
   ]
  },
  {
   "cell_type": "code",
   "execution_count": 3,
   "id": "ae2748e6",
   "metadata": {},
   "outputs": [
    {
     "name": "stdout",
     "output_type": "stream",
     "text": [
      "+--------------+------------+\n",
      "|   Modules    | Parameters |\n",
      "+--------------+------------+\n",
      "| w.f.0.weight |     10     |\n",
      "|  w.f.0.bias  |     10     |\n",
      "|     T.m      |     10     |\n",
      "|   T.log_s    |     10     |\n",
      "+--------------+------------+\n",
      "Total Trainable Params: 40\n",
      "40\n"
     ]
    }
   ],
   "source": [
    "from models_dif import DIFDensityEstimator\n",
    "from models import NDRE\n",
    "architecture = DIFDensityEstimator\n",
    "structure = 10\n",
    "from prettytable import PrettyTable\n",
    "\n",
    "from functools import lru_cache\n",
    "import time\n",
    "\n",
    "@lru_cache(maxsize = None)\n",
    "def count_parameters(structure):\n",
    "    model = architecture(data, structure)\n",
    "    table = PrettyTable([\"Modules\", \"Parameters\"])\n",
    "    total_params = 0\n",
    "    for name, parameter in model.named_parameters():\n",
    "        if not parameter.requires_grad: continue\n",
    "        params = parameter.numel()\n",
    "        table.add_row([name, params])\n",
    "        total_params+=params\n",
    "    print(table)\n",
    "    print(f\"Total Trainable Params: {total_params}\")\n",
    "    return total_params\n",
    "    \n",
    "number_param = count_parameters(structure)\n",
    "print(number_param)"
   ]
  },
  {
   "cell_type": "code",
   "execution_count": 4,
   "id": "6def25dd",
   "metadata": {},
   "outputs": [],
   "source": [
    "import copy \n",
    "def metropolis_adjusted_langevin_step(current_model,data,tau):\n",
    "    \n",
    "    #evaluate current model\n",
    "    current_model.zero_grad()\n",
    "    log_prob = -current_model.loss(data)*data.shape[0]\n",
    "    log_prob.backward()\n",
    "    print(log_prob)\n",
    "    \n",
    "    #copy model\n",
    "    copy_model = copy.deepcopy(current_model)\n",
    "    for param, copy_param in zip(current_model.parameters(), copy_model.parameters()):\n",
    "        with torch.no_grad():\n",
    "            copy_param.data= param.data+tau*param.grad + torch.randn_like(param.data)*((2*tau)**(1/2))\n",
    "            \n",
    "    #compute copy_loss\n",
    "    copy_model.zero_grad()\n",
    "    copy_log_prob = -copy_model.loss(data)*data.shape[0]\n",
    "    copy_log_prob.backward()\n",
    "    print(copy_log_prob) \n",
    "    \n",
    "    #compute proposal densities\n",
    "    with torch.no_grad():\n",
    "        log_ratio = 0\n",
    "        for param, new_param in zip(current_model.parameters(),copy_model.parameters()):\n",
    "            log_ratio -= torch.sum(torch.square(param - new_param - tau*new_param.grad))/(4*tau)\n",
    "            log_ratio += torch.sum(torch.square(new_param - param - tau*param.grad))/(4*tau)\n",
    "        #acceptation probability\n",
    "        acceptance_log_prob = copy_log_prob - log_prob + log_ratio\n",
    "        print(torch.exp(acceptance_log_prob))\n",
    "        if torch.rand(1)<torch.exp(acceptance_log_prob):\n",
    "            print('accepted')\n",
    "            return copy_model\n",
    "        else:\n",
    "            print('denied')\n",
    "            return current_model\n",
    "\n",
    "    return copy_model\n"
   ]
  },
  {
   "cell_type": "code",
   "execution_count": null,
   "id": "85063b27",
   "metadata": {},
   "outputs": [
    {
     "data": {
      "image/png": "[encoded data removed]",
      "text/plain": [
       "<Figure size 432x288 with 1 Axes>"
      ]
     },
     "metadata": {
      "needs_background": "light"
     },
     "output_type": "display_data"
    },
    {
     "name": "stdout",
     "output_type": "stream",
     "text": [
      "tensor(-285312.5000, grad_fn=<MulBackward0>)\n",
      "tensor(-285308.1250, grad_fn=<MulBackward0>)\n",
      "tensor(0.8224)\n",
      "accepted\n"
     ]
    }
   ],
   "source": [
    "from IPython.display import clear_output\n",
    "linspace = torch.linspace(-15.,15., 200)\n",
    "\n",
    "current_model = DIFDensityEstimator(data, structure)\n",
    "log_prob = -current_model.loss(data)*data.shape[0]\n",
    "log_prob.backward()\n",
    "\n",
    "tau = 1/data.shape[0]\n",
    "for i in range(20000):\n",
    "    clear_output(wait = True)\n",
    "    plt.figure()\n",
    "    sum_density = torch.exp(current_model.log_density(linspace.unsqueeze(-1)))\n",
    "    plt.plot(linspace, sum_density.detach().numpy())\n",
    "    plt.show()\n",
    "         \n",
    "    #copy model\n",
    "    copy_model = copy.deepcopy(current_model)\n",
    "    for param, copy_param in zip(current_model.parameters(), copy_model.parameters()):\n",
    "        with torch.no_grad():\n",
    "            copy_param.data= param.data+tau*param.grad + torch.randn_like(param.data)*((2*tau)**(1/2))\n",
    "            \n",
    "    #compute copy_loss\n",
    "    copy_model.zero_grad()\n",
    "    copy_log_prob = -copy_model.loss(data)*data.shape[0]\n",
    "    copy_log_prob.backward()\n",
    "    print(log_prob)\n",
    "    print(copy_log_prob) \n",
    "    \n",
    "    #compute proposal densities\n",
    "    with torch.no_grad():\n",
    "        log_ratio = 0\n",
    "        for param, new_param in zip(current_model.parameters(),copy_model.parameters()):\n",
    "            log_ratio -= torch.sum(torch.square(param - new_param - tau*new_param.grad))/(4*tau)\n",
    "            log_ratio += torch.sum(torch.square(new_param - param - tau*param.grad))/(4*tau)\n",
    "        #acceptation probability\n",
    "        acceptance_log_prob = copy_log_prob - log_prob + log_ratio\n",
    "        print(torch.exp(acceptance_log_prob))\n",
    "        if torch.rand(1)<torch.exp(acceptance_log_prob):\n",
    "            print('accepted')\n",
    "            current_model = copy_model\n",
    "            log_prob = copy_log_prob\n",
    "    "
   ]
  },
  {
   "cell_type": "code",
   "execution_count": null,
   "id": "c1adc580",
   "metadata": {},
   "outputs": [],
   "source": []
  }
 ],
 "metadata": {
  "kernelspec": {
   "display_name": "Python 3 (ipykernel)",
   "language": "python",
   "name": "python3"
  },
  "language_info": {
   "codemirror_mode": {
    "name": "ipython",
    "version": 3
   },
   "file_extension": ".py",
   "mimetype": "text/x-python",
   "name": "python",
   "nbconvert_exporter": "python",
   "pygments_lexer": "ipython3",
   "version": "3.9.2"
  }
 },
 "nbformat": 4,
 "nbformat_minor": 5
}
