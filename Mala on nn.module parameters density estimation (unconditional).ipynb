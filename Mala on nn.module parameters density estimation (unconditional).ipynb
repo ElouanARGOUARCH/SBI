{
 "cells": [
  {
   "cell_type": "code",
   "execution_count": 6,
   "id": "cea4f752",
   "metadata": {},
   "outputs": [],
   "source": [
    "%load_ext autoreload\n",
    "%autoreload 2\n",
    "from targets.density_estimation_target import *"
   ]
  },
  {
   "cell_type": "code",
   "execution_count": 7,
   "id": "0ac8d657",
   "metadata": {},
   "outputs": [
    {
     "data": {
      "image/png": "[encoded data removed]",
      "text/plain": [
       "<Figure size 432x288 with 1 Axes>"
      ]
     },
     "metadata": {
      "needs_background": "light"
     },
     "output_type": "display_data"
    }
   ],
   "source": [
    "target = Dimension1()\n",
    "data = target.sample(5000)\n",
    "fig = plt.hist(data.numpy(), bins = 200)\n",
    "plt.show()"
   ]
  },
  {
   "cell_type": "code",
   "execution_count": 14,
   "id": "10ff1f8c",
   "metadata": {},
   "outputs": [],
   "source": [
    "def grads_to_vector(parameters):\n",
    "    r\"\"\"Convert parameters to one vector\n",
    "\n",
    "    Args:\n",
    "        parameters (Iterable[Tensor]): an iterator of Tensors that are the\n",
    "            parameters of a model.\n",
    "\n",
    "    Returns:\n",
    "        The parameters represented by a single vector\n",
    "    \"\"\"\n",
    "    vec = []\n",
    "    for param in parameters:\n",
    "        vec.append(param.grad.view(-1))\n",
    "    return torch.cat(vec)\n",
    "\n",
    "def parameters_to_vector(parameters):\n",
    "    r\"\"\"Convert parameters to one vector\n",
    "\n",
    "    Args:\n",
    "        parameters (Iterable[Tensor]): an iterator of Tensors that are the\n",
    "            parameters of a model.\n",
    "\n",
    "    Returns:\n",
    "        The parameters represented by a single vector\n",
    "    \"\"\"\n",
    "    vec = []\n",
    "    for param in parameters:\n",
    "        vec.append(param.grad.view(-1))\n",
    "    return torch.cat(vec)"
   ]
  },
  {
   "cell_type": "code",
   "execution_count": 15,
   "id": "ae2748e6",
   "metadata": {},
   "outputs": [
    {
     "name": "stdout",
     "output_type": "stream",
     "text": [
      "+--------------+------------+\n",
      "|   Modules    | Parameters |\n",
      "+--------------+------------+\n",
      "| w.f.0.weight |     32     |\n",
      "|  w.f.0.bias  |     32     |\n",
      "| w.f.2.weight |    1024    |\n",
      "|  w.f.2.bias  |     32     |\n",
      "| w.f.4.weight |    1600    |\n",
      "|  w.f.4.bias  |     50     |\n",
      "|     T.m      |     50     |\n",
      "|   T.log_s    |     50     |\n",
      "+--------------+------------+\n",
      "Total Trainable Params: 2870\n",
      "2870\n"
     ]
    }
   ],
   "source": [
    "from models_dif import DIFDensityEstimator, SoftmaxWeight\n",
    "from models import NDRE\n",
    "architecture = DIFDensityEstimator\n",
    "structure = 50\n",
    "from prettytable import PrettyTable\n",
    "\n",
    "from functools import lru_cache\n",
    "import time\n",
    "\n",
    "@lru_cache(maxsize = None)\n",
    "def count_parameters(structure):\n",
    "    model = architecture(data, structure)\n",
    "    model.w = SoftmaxWeight(structure,1, [32,32])\n",
    "    table = PrettyTable([\"Modules\", \"Parameters\"])\n",
    "    total_params = 0\n",
    "    for name, parameter in model.named_parameters():\n",
    "        if not parameter.requires_grad: continue\n",
    "        params = parameter.numel()\n",
    "        table.add_row([name, params])\n",
    "        total_params+=params\n",
    "    print(table)\n",
    "    print(f\"Total Trainable Params: {total_params}\")\n",
    "    return total_params\n",
    "    \n",
    "number_param = count_parameters(structure)\n",
    "print(number_param)"
   ]
  },
  {
   "cell_type": "code",
   "execution_count": null,
   "id": "85063b27",
   "metadata": {},
   "outputs": [
    {
     "data": {
      "image/png": "[encoded data removed]",
      "text/plain": [
       "<Figure size 432x288 with 1 Axes>"
      ]
     },
     "metadata": {
      "needs_background": "light"
     },
     "output_type": "display_data"
    }
   ],
   "source": [
    "from IPython.display import clear_output\n",
    "import copy\n",
    "from tqdm import tqdm\n",
    "linspace = torch.linspace(-15.,15., 200)\n",
    "\n",
    "#initialize model and gradients\n",
    "model = architecture(data, structure)\n",
    "model.w = SoftmaxWeight(structure,1, [32,32])\n",
    "\n",
    "sigma_phi = 1\n",
    "log_prior = lambda parameters: torch.distributions.MultivariateNormal(torch.zeros(parameters.shape[0]), (sigma_phi**2)*torch.eye(parameters.shape[0])).log_prob(parameters)\n",
    "\n",
    "current_model = model\n",
    "current_parameters_as_vector = torch.nn.utils.parameters_to_vector(current_model.parameters())\n",
    "\n",
    "log_prob = -current_model.loss(data)*data.shape[0] + log_prior(current_parameters_as_vector)\n",
    "log_prob.backward()\n",
    "current_grad_as_vector = grad_to_vector(current_model.parameters())\n",
    "\n",
    "tau = 1e-5\n",
    "#MALA steps\n",
    "for i in tqdm(range(20000)):\n",
    "    if i%1==0:\n",
    "        clear_output(wait = True)\n",
    "        plt.figure()\n",
    "        sum_density = torch.exp(current_model.log_density(linspace.unsqueeze(-1)))\n",
    "        plt.plot(linspace, sum_density.detach().numpy())\n",
    "        plt.show()\n",
    "\n",
    "    #copy model\n",
    "    copy_model = copy.deepcopy(current_model)\n",
    "    copy_parameters_as_vector = torch.nn.utils.parameters_to_vector(copy_model.parameters())\n",
    "    \n",
    "    #Update parameters with langevein dynamics with current gradient values\n",
    "    for param, copy_param in zip(current_model.parameters(), copy_model.parameters()):\n",
    "        with torch.no_grad():\n",
    "            copy_param.data= param.data+tau*param.grad + torch.randn_like(param.data)*((2*tau)**(1/2)) \n",
    "            \n",
    "    #compute new_log_prob\n",
    "\n",
    "    copy_log_prior = torch.distributions.MultivariateNormal(torch.zeros(copy_parameters_as_vector.shape[0]), (sigma_phi**2)*torch.eye(copy_parameters_as_vector.shape[0])).log_prob(copy_parameters_as_vector)\n",
    "    copy_log_prob = -copy_model.loss(data)*data.shape[0] + copy_log_prior\n",
    "    \n",
    "    #compute new gradients\n",
    "    copy_model.zero_grad()\n",
    "    copy_log_prob.backward()\n",
    "    print(grad_to_vector(copy_model.parameters()).shape)\n",
    "    \n",
    "    #compute acceptance probability\n",
    "    with torch.no_grad():\n",
    "        log_ratio = 0\n",
    "        for param, new_param in zip(current_model.parameters(),copy_model.parameters()):\n",
    "            log_ratio -= torch.sum(torch.square(param - new_param - tau*new_param.grad))/(4*tau)\n",
    "            log_ratio += torch.sum(torch.square(new_param - param - tau*param.grad))/(4*tau)\n",
    "        acceptance_log_prob = copy_log_prob - log_prob + log_ratio\n",
    "        \n",
    "    #print(torch.exp(acceptance_log_prob))\n",
    "    if torch.rand(1)<torch.exp(acceptance_log_prob.detach()):\n",
    "        #print('accepted')\n",
    "        current_model = copy_model\n",
    "        log_prob = copy_log_prob"
   ]
  },
  {
   "cell_type": "code",
   "execution_count": null,
   "id": "c1adc580",
   "metadata": {},
   "outputs": [],
   "source": []
  },
  {
   "cell_type": "code",
   "execution_count": null,
   "id": "194b0769",
   "metadata": {},
   "outputs": [],
   "source": []
  }
 ],
 "metadata": {
  "kernelspec": {
   "display_name": "Python 3 (ipykernel)",
   "language": "python",
   "name": "python3"
  },
  "language_info": {
   "codemirror_mode": {
    "name": "ipython",
    "version": 3
   },
   "file_extension": ".py",
   "mimetype": "text/x-python",
   "name": "python",
   "nbconvert_exporter": "python",
   "pygments_lexer": "ipython3",
   "version": "3.9.2"
  }
 },
 "nbformat": 4,
 "nbformat_minor": 5
}
