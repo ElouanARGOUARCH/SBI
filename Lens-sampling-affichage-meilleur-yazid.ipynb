{
 "cells": [
  {
   "cell_type": "code",
   "execution_count": 1,
   "id": "4318890d",
   "metadata": {},
   "outputs": [
    {
     "data": {
      "text/plain": [
       "<torch._C.Generator at 0x2373d4cb710>"
      ]
     },
     "execution_count": 1,
     "metadata": {},
     "output_type": "execute_result"
    }
   ],
   "source": [
    "import torch\n",
    "import matplotlib.pyplot as plt\n",
    "from IPython.display import clear_output\n",
    "torch.manual_seed(0)"
   ]
  },
  {
   "cell_type": "code",
   "execution_count": 2,
   "id": "5e029ace",
   "metadata": {},
   "outputs": [],
   "source": [
    "d = 50\n",
    "mvn = torch.distributions.MultivariateNormal(torch.tensor([[15.], [-15]]).repeat(1,d) , torch.eye(d).unsqueeze(0).repeat(2,1,1))\n",
    "weights = torch.distributions.Categorical(torch.tensor([.5,.5]))\n",
    "distribution = torch.distributions.MixtureSameFamily(weights,mvn)"
   ]
  },
  {
   "cell_type": "code",
   "execution_count": 3,
   "id": "89d3e998",
   "metadata": {},
   "outputs": [
    {
     "data": {
      "text/plain": [
       "<matplotlib.collections.PathCollection at 0x237627c0880>"
      ]
     },
     "execution_count": 3,
     "metadata": {},
     "output_type": "execute_result"
    },
    {
     "data": {
      "image/png": "[encoded data removed]",
      "text/plain": [
       "<Figure size 432x288 with 1 Axes>"
      ]
     },
     "metadata": {
      "needs_background": "light"
     },
     "output_type": "display_data"
    }
   ],
   "source": [
    "target_samples = distribution.sample([1000])\n",
    "plt.scatter(target_samples[:,0].numpy(),target_samples[:,1].numpy(), color = 'red')"
   ]
  },
  {
   "cell_type": "code",
   "execution_count": null,
   "id": "6c6b6a74",
   "metadata": {},
   "outputs": [],
   "source": [
    "import torch\n",
    "from torch import nn\n",
    "from torch.distributions import Categorical\n",
    "from tqdm import tqdm\n",
    "\n",
    "from models_dif.multivariate_normal_reference import MultivariateNormalReference\n",
    "from models_dif.location_scale_flow import LocationScaleFlow\n",
    "from models_dif.softmax_weight import SoftmaxWeight\n",
    "\n",
    "class DIFSampler(nn.Module):\n",
    "    def __init__(self, target_log_density, p, K):\n",
    "        super().__init__()\n",
    "        self.target_log_density = target_log_density\n",
    "        self.p = p\n",
    "        self.K = K\n",
    "\n",
    "        self.w = SoftmaxWeight(self.K, self.p, [])\n",
    "\n",
    "        self.T = LocationScaleFlow(self.K, self.p)\n",
    "\n",
    "        self.reference = MultivariateNormalReference(self.p)\n",
    "\n",
    "        self.loss_values = []\n",
    "        self.para_list = list(self.parameters())\n",
    "        self.optimizer = torch.optim.Adam(self.para_list, lr=5e-2)\n",
    "\n",
    "    def compute_log_v(self, x):\n",
    "        z = self.T.forward(x)\n",
    "        log_v = self.reference.log_density(z) + torch.diagonal(self.w.log_prob(z), 0, -2, -1) + self.T.log_det_J(x)\n",
    "        return log_v - torch.logsumexp(log_v, dim=-1, keepdim=True)\n",
    "\n",
    "    def DKL_observed(self, z):\n",
    "        x = self.T.backward(z)\n",
    "        return torch.mean(torch.sum(torch.exp(self.w.log_prob(z))*(self.model_log_density(x) - self.target_log_density(x)),dim = -1))\n",
    "\n",
    "    def DKL_latent(self,z):\n",
    "        return torch.mean(self.reference.log_density(z) - self.proxy_log_density(z))\n",
    "\n",
    "    def sample_model(self, num_samples):\n",
    "        with torch.no_grad():\n",
    "            z = self.reference.sample(num_samples)\n",
    "            x = self.T.backward(z)\n",
    "            pick = Categorical(torch.exp(self.w.log_prob(z))).sample()\n",
    "            return torch.stack([x[i, pick[i], :] for i in range(num_samples)])\n",
    "\n",
    "    def proxy_log_density(self, z):\n",
    "        x = self.T.backward(z)\n",
    "        return torch.logsumexp(torch.diagonal(self.compute_log_v(x), 0, -2, -1) + self.target_log_density(x) - self.T.log_det_J(x), dim=-1)\n",
    "\n",
    "    def model_log_density(self, x):\n",
    "        z = self.T.forward(x)\n",
    "        return torch.logsumexp(torch.diagonal(self.w.log_prob(z), 0, -2, -1) + self.reference.log_density(z) + self.T.log_det_J(x),\n",
    "            dim=-1)\n",
    "\n",
    "    def train(self, epochs,num_samples, batch_size=None):\n",
    "        if batch_size is None:\n",
    "            batch_size = num_samples\n",
    "        \n",
    "        device = torch.device('cuda' if torch.cuda.is_available() else 'cpu')\n",
    "        self.to(device)\n",
    "        \n",
    "        reference_samples = self.reference.sample(num_samples).to(device)\n",
    "        dataset = torch.utils.data.TensorDataset(reference_samples)\n",
    "        dataloader = torch.utils.data.DataLoader(dataset, batch_size=batch_size, shuffle=True)\n",
    "\n",
    "        pbar = tqdm(range(epochs))\n",
    "        for t in pbar:\n",
    "            for i, batch in enumerate(dataloader):\n",
    "                self.optimizer.zero_grad()\n",
    "                batch_loss = self.DKL_observed(batch[0])\n",
    "                batch_loss.backward()\n",
    "                self.optimizer.step()\n",
    "            with torch.no_grad():\n",
    "                DKL_observed_values = self.DKL_observed(reference_samples).item()\n",
    "            pbar.set_postfix_str('DKL observed = ' + str(round(DKL_observed_values, 6)) + ' ; device: ' + 'cuda' if torch.cuda.is_available() else 'DKL observed = ' + str(round(DKL_observed_values, 6)) + ' ; device: ' + 'cpu')\n",
    "        self.to(torch.device('cpu'))\n",
    "        "
   ]
  },
  {
   "cell_type": "code",
   "execution_count": null,
   "id": "6458daca",
   "metadata": {},
   "outputs": [],
   "source": [
    "#Try model\n",
    "dif = DIFSampler(lambda samples: distribution.log_prob(samples.cpu()).to(samples.device),d,5)\n",
    "dif.train(100,5000,500)\n",
    "samples = dif.sample_model(10000)\n",
    "print(samples.shape)\n",
    "plt.figure(figsize = (6,6))\n",
    "plt.scatter(samples[:,0].detach().numpy(), samples[:,1].detach().numpy(), color ='blue', alpha = .9)\n",
    "plt.show()"
   ]
  },
  {
   "cell_type": "code",
   "execution_count": 67,
   "id": "4acb0e87",
   "metadata": {},
   "outputs": [],
   "source": [
    "class RealNVPLayer(nn.Module):\n",
    "    def __init__(self,p,hidden_dim):\n",
    "        super().__init__()\n",
    "        self.p = p\n",
    "        net_mean = []\n",
    "        hs = [self.p] + hidden_dim + [self.p]\n",
    "        for h0, h1 in zip(hs, hs[1:]):\n",
    "            net_mean.extend([\n",
    "                nn.Linear(h0, h1),\n",
    "                nn.LeakyReLU(),\n",
    "            ])\n",
    "        net_mean.pop()\n",
    "        self.net_mean = nn.Sequential(*net_mean)\n",
    "        self.net_mean[-1].weight = nn.Parameter(torch.zeros_like(self.net_mean[-1].weight))\n",
    "        self.net_mean[-1].bias = nn.Parameter(torch.zeros_like(self.net_mean[-1].bias))\n",
    "        \n",
    "        net_log_scale = []\n",
    "        hs = [self.p] + hidden_dim + [self.p]\n",
    "        for h0, h1 in zip(hs, hs[1:]):\n",
    "            net_log_scale.extend([\n",
    "                nn.Linear(h0, h1),\n",
    "                nn.LeakyReLU(),\n",
    "            ])\n",
    "        net_log_scale.pop()\n",
    "        self.net_log_scale = nn.Sequential(*net_log_scale)\n",
    "        self.net_log_scale[-1].weight = nn.Parameter(.1*torch.ones_like(self.net_log_scale[-1].weight))\n",
    "        self.net_log_scale[-1].bias = nn.Parameter(torch.zeros_like(self.net_log_scale[-1].bias))\n",
    "\n",
    "        self.mask = [torch.cat([torch.zeros(int(self.p/2)), torch.ones(self.p - int(self.p/2))], dim = 0),torch.cat([torch.ones(int(self.p/2)), torch.zeros(self.p - int(self.p/2))], dim = 0)]\n",
    "        self.lr = 5e-3\n",
    "    \n",
    "    def sample_forward(self,x):\n",
    "        z = x\n",
    "        for mask in reversed(self.mask):\n",
    "            m, log_s = self.net_mean(mask * z)*(1 - mask),self.net_log_scale(mask * z)*(1 - mask)\n",
    "            z = (z*(1 - mask) * torch.exp(log_s)+m) + z*mask\n",
    "        return z\n",
    "\n",
    "    def sample_backward(self, z):\n",
    "        x = z\n",
    "        for mask in self.mask:\n",
    "            m, log_s = self.net_mean(mask * x)*(1 - mask),self.net_log_scale(mask * x)*(1 - mask)\n",
    "            x = (x*(1-mask) -m)/torch.exp(log_s) + x*mask\n",
    "        return x\n",
    "\n",
    "    def log_det(self, x):\n",
    "        z = x\n",
    "        log_det = torch.zeros(x.shape[:-1])\n",
    "        for mask in reversed(self.mask):\n",
    "            m, log_s = self.net_mean(mask * z)*(1 - mask),self.net_log_scale(mask * z)*(1 - mask)\n",
    "            z = (z*(1 - mask) * torch.exp(log_s)+m) + z*mask\n",
    "            log_det += torch.sum(log_s, dim = -1)\n",
    "        return log_det"
   ]
  },
  {
   "cell_type": "code",
   "execution_count": 68,
   "id": "f4620d19",
   "metadata": {},
   "outputs": [
    {
     "data": {
      "image/png": "[encoded data removed]",
      "text/plain": [
       "<Figure size 432x432 with 1 Axes>"
      ]
     },
     "metadata": {
      "needs_background": "light"
     },
     "output_type": "display_data"
    }
   ],
   "source": [
    "#Initialize f_\\phi\n",
    "from torch import nn\n",
    "hidden_dimensions =[64,64,64]\n",
    "real_nvp = RealNVPLayer(d, hidden_dimensions)\n",
    "x = distribution.sample([100000])\n",
    "  \n",
    "clear_output(wait = True)\n",
    "network_samples = real_nvp.sample_backward(x)\n",
    "plt.figure(figsize = (6,6))\n",
    "plt.scatter(network_samples[:,0].detach().numpy(), network_samples[:,1].detach().numpy(), color ='blue', alpha = .9)\n",
    "plt.scatter(x[:,0].detach().numpy(), x[:,1].detach().numpy(), color = 'red', alpha = .1)\n",
    "plt.show()"
   ]
  },
  {
   "cell_type": "code",
   "execution_count": 72,
   "id": "5b2f5831",
   "metadata": {},
   "outputs": [
    {
     "data": {
      "image/png": "[encoded data removed]",
      "text/plain": [
       "<Figure size 432x432 with 1 Axes>"
      ]
     },
     "metadata": {
      "needs_background": "light"
     },
     "output_type": "display_data"
    }
   ],
   "source": [
    "#Showing how f_phi becomes the identity function by minimzing MSE\n",
    "def MSE(f, x):\n",
    "    return torch.mean(torch.square(x - f(x)))\n",
    "\n",
    "optimizer_f_phi = torch.optim.Adam(real_nvp.parameters(), lr = 5e-4)\n",
    "x = distribution.sample([1000])\n",
    "for t in range(100):\n",
    "    optimizer_f_phi.zero_grad()\n",
    "    batch_loss = MSE(real_nvp.sample_backward,x)\n",
    "    batch_loss.backward()\n",
    "    optimizer_f_phi.step()\n",
    "    clear_output(wait = True)\n",
    "    network_samples = real_nvp.sample_backward(x)\n",
    "    new_x = real_nvp.sample_forward(network_samples)\n",
    "    plt.figure(figsize = (6,6))\n",
    "    plt.scatter(network_samples[:,0].detach().numpy(), network_samples[:,1].detach().numpy(), color ='blue', alpha = .9)\n",
    "    plt.scatter(x[:,0].detach().numpy(), x[:,1].detach().numpy(), color = 'red', alpha = .1)\n",
    "    plt.scatter(new_x[:,0].detach().numpy(), new_x[:,1].detach().numpy(), color = 'green', alpha = .1)\n",
    "    plt.show()"
   ]
  },
  {
   "cell_type": "code",
   "execution_count": null,
   "id": "4cea9943",
   "metadata": {},
   "outputs": [
    {
     "data": {
      "image/png": "[encoded data removed]",
      "text/plain": [
       "<Figure size 432x432 with 1 Axes>"
      ]
     },
     "metadata": {
      "needs_background": "light"
     },
     "output_type": "display_data"
    },
    {
     "name": "stderr",
     "output_type": "stream",
     "text": [
      " 46%|███████████████████████████████████████████████████████████████████████▊                                                                                    | 46/100 [02:14<04:32,  5.04s/it, DKL observed = 1.683663 ; device: cuda]"
     ]
    }
   ],
   "source": [
    "#Initialize f_\\phi\n",
    "from torch import nn\n",
    "hidden_dimensions =[64,64,64]\n",
    "real_nvp = RealNVPLayer(d, hidden_dimensions)\n",
    "\n",
    "#run algorithm\n",
    "optimizer_f_phi = torch.optim.Adam(real_nvp.parameters(), lr = 5e-4)\n",
    "target_log_density = lambda samples: distribution.log_prob(real_nvp.sample_forward(samples.cpu())).to(samples.device) + real_nvp.log_det(samples.cpu()).to(samples.device)\n",
    "dif = DIFSampler(target_log_density, d, 10)\n",
    "for macro_epochs in range(200):\n",
    "    #train model on current target\n",
    "    dif.train(100,10000,500)\n",
    "    samples = dif.sample_model(1000)\n",
    "    clear_output(wait = True)\n",
    "    plt.figure(figsize = (6,6))\n",
    "    plt.scatter(target_samples[:,0].detach().numpy(), target_samples[:,1].detach().numpy(), color ='red', alpha = .2)\n",
    "    network_samples = real_nvp.sample_backward(target_samples)\n",
    "    plt.scatter(network_samples[:,0].detach().numpy(), network_samples[:,1].detach().numpy(), color ='green', alpha = .2)\n",
    "    plt.scatter(samples[:,0].detach().numpy(), samples[:,1].detach().numpy(), color ='blue', alpha = .2)\n",
    "    plt.show()\n",
    "    #update target by gradient step on MSE\n",
    "    for t in range(1):\n",
    "        optimizer_f_phi.zero_grad()\n",
    "        batch_loss = MSE(real_nvp.sample_backward,samples)\n",
    "        batch_loss.backward()\n",
    "        optimizer_f_phi.step()"
   ]
  },
  {
   "cell_type": "code",
   "execution_count": null,
   "id": "d6d7b488",
   "metadata": {},
   "outputs": [],
   "source": []
  }
 ],
 "metadata": {
  "kernelspec": {
   "display_name": "Python 3 (ipykernel)",
   "language": "python",
   "name": "python3"
  },
  "language_info": {
   "codemirror_mode": {
    "name": "ipython",
    "version": 3
   },
   "file_extension": ".py",
   "mimetype": "text/x-python",
   "name": "python",
   "nbconvert_exporter": "python",
   "pygments_lexer": "ipython3",
   "version": "3.9.2"
  }
 },
 "nbformat": 4,
 "nbformat_minor": 5
}
