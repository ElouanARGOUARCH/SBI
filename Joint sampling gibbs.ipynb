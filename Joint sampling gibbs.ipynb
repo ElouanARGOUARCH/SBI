{
 "cells": [
  {
   "cell_type": "code",
   "execution_count": 1,
   "id": "4b9e7316",
   "metadata": {},
   "outputs": [],
   "source": [
    "%load_ext autoreload\n",
    "%autoreload 2\n",
    "\n",
    "import torch \n",
    "import matplotlib.pyplot as plt\n",
    "from tqdm import tqdm\n",
    "import matplotlib\n",
    "from IPython.display import clear_output\n",
    "import time\n",
    "\n",
    "from conditional_density_estimators import ConditionalDIFDensityEstimator\n",
    "from posterior_sampler import WLBSampler\n",
    "from utils import plot_2d_function, plot_likelihood_function"
   ]
  },
  {
   "cell_type": "code",
   "execution_count": 57,
   "id": "d206e8cf",
   "metadata": {},
   "outputs": [],
   "source": [
    "from targets.conditional_density_estimation_target import Wave\n",
    "target = Wave()\n",
    "\n",
    "N_simulations = 100\n",
    "D_theta = target.sample_prior(N_simulations)\n",
    "D_x = target.simulate(D_theta)\n",
    "\n",
    "mu_theta = torch.zeros(1)\n",
    "sigma_theta = torch.eye(1)\n",
    "theta_prior_distribution = torch.distributions.MultivariateNormal(mu_theta, sigma_theta)\n",
    "theta0 = theta_prior_distribution.sample()\n",
    "\n",
    "N_observations = 500\n",
    "x0 = target.simulate(theta0.unsqueeze(0).repeat(N_observations,1))"
   ]
  },
  {
   "cell_type": "code",
   "execution_count": 58,
   "id": "8d19ee38",
   "metadata": {},
   "outputs": [
    {
     "data": {
      "text/plain": [
       "<matplotlib.legend.Legend at 0x2e64510b520>"
      ]
     },
     "execution_count": 58,
     "metadata": {},
     "output_type": "execute_result"
    },
    {
     "data": {
      "image/png": "[encoded data removed]",
      "text/plain": [
       "<Figure size 1080x576 with 1 Axes>"
      ]
     },
     "metadata": {
      "needs_background": "light"
     },
     "output_type": "display_data"
    }
   ],
   "source": [
    "plt.figure(figsize = (15,8))\n",
    "plt.set_xlim = (-8,8)\n",
    "plt.scatter(D_theta[:,0].numpy(), D_x.numpy(), alpha =.5, label = 'D=(x,theta)') \n",
    "plt.axvline(theta0.numpy(), color = 'green', alpha = .7, linestyle = '--', label=' Unknown true value theta0 = ' + str(theta0.item()))\n",
    "hist = plt.hist(x0.numpy(), orientation ='horizontal', bins = 20, density = True, bottom = -8, label = 'histogram of x0', color = 'C1')\n",
    "plt.legend()"
   ]
  },
  {
   "cell_type": "code",
   "execution_count": 59,
   "id": "c13639dd",
   "metadata": {},
   "outputs": [
    {
     "name": "stderr",
     "output_type": "stream",
     "text": [
      " 49%|███████████████████████████████████████████████████████▏                                                         | 488/1000 [00:03<00:03, 137.45it/s, loss = -0.563638 ; device: cpu]\n"
     ]
    },
    {
     "ename": "KeyboardInterrupt",
     "evalue": "",
     "output_type": "error",
     "traceback": [
      "\u001b[1;31m---------------------------------------------------------------------------\u001b[0m",
      "\u001b[1;31mKeyboardInterrupt\u001b[0m                         Traceback (most recent call last)",
      "Input \u001b[1;32mIn [59]\u001b[0m, in \u001b[0;36m<cell line: 2>\u001b[1;34m()\u001b[0m\n\u001b[0;32m      1\u001b[0m conditional_dif \u001b[38;5;241m=\u001b[39m ConditionalDIFDensityEstimator(D_x, D_theta, K \u001b[38;5;241m=\u001b[39m \u001b[38;5;241m2\u001b[39m, hidden_dimensions\u001b[38;5;241m=\u001b[39m[\u001b[38;5;241m32\u001b[39m,\u001b[38;5;241m32\u001b[39m,\u001b[38;5;241m32\u001b[39m])\n\u001b[1;32m----> 2\u001b[0m \u001b[43mconditional_dif\u001b[49m\u001b[38;5;241;43m.\u001b[39;49m\u001b[43mtrain\u001b[49m\u001b[43m(\u001b[49m\u001b[38;5;241;43m1000\u001b[39;49m\u001b[43m,\u001b[49m\u001b[43m \u001b[49m\u001b[43mbootstrap\u001b[49m\u001b[43m \u001b[49m\u001b[38;5;241;43m=\u001b[39;49m\u001b[43m \u001b[49m\u001b[38;5;28;43;01mFalse\u001b[39;49;00m\u001b[43m,\u001b[49m\u001b[43m \u001b[49m\u001b[43mlr\u001b[49m\u001b[43m \u001b[49m\u001b[38;5;241;43m=\u001b[39;49m\u001b[43m \u001b[49m\u001b[38;5;241;43m5e-4\u001b[39;49m\u001b[43m)\u001b[49m\n\u001b[0;32m      3\u001b[0m plot_likelihood_function(conditional_dif\u001b[38;5;241m.\u001b[39mlog_density, x_min \u001b[38;5;241m=\u001b[39m torch\u001b[38;5;241m.\u001b[39mmin(D_theta), x_max \u001b[38;5;241m=\u001b[39m torch\u001b[38;5;241m.\u001b[39mmax(D_theta), y_min\u001b[38;5;241m=\u001b[39m torch\u001b[38;5;241m.\u001b[39mmin(D_x), y_max \u001b[38;5;241m=\u001b[39m torch\u001b[38;5;241m.\u001b[39mmax(D_x),delta_x \u001b[38;5;241m=\u001b[39m \u001b[38;5;241m500\u001b[39m, levels \u001b[38;5;241m=\u001b[39m \u001b[38;5;241m20\u001b[39m)\n",
      "File \u001b[1;32m~\\PycharmProjects\\SBI\\conditional_density_estimators\\conditional_dif_density_estimator.py:126\u001b[0m, in \u001b[0;36mConditionalDIFDensityEstimator.train\u001b[1;34m(self, epochs, batch_size, lr, bootstrap)\u001b[0m\n\u001b[0;32m    124\u001b[0m x, theta,w \u001b[38;5;241m=\u001b[39m batch[\u001b[38;5;241m0\u001b[39m]\u001b[38;5;241m.\u001b[39mto(device), batch[\u001b[38;5;241m1\u001b[39m]\u001b[38;5;241m.\u001b[39mto(device), batch[\u001b[38;5;241m2\u001b[39m]\u001b[38;5;241m.\u001b[39mto(device)\n\u001b[0;32m    125\u001b[0m \u001b[38;5;28mself\u001b[39m\u001b[38;5;241m.\u001b[39moptimizer\u001b[38;5;241m.\u001b[39mzero_grad()\n\u001b[1;32m--> 126\u001b[0m batch_loss \u001b[38;5;241m=\u001b[39m \u001b[38;5;28;43mself\u001b[39;49m\u001b[38;5;241;43m.\u001b[39;49m\u001b[43mloss\u001b[49m\u001b[43m(\u001b[49m\u001b[43mx\u001b[49m\u001b[43m,\u001b[49m\u001b[43m \u001b[49m\u001b[43mtheta\u001b[49m\u001b[43m,\u001b[49m\u001b[43mw\u001b[49m\u001b[43m)\u001b[49m\n\u001b[0;32m    127\u001b[0m batch_loss\u001b[38;5;241m.\u001b[39mbackward()\n\u001b[0;32m    128\u001b[0m \u001b[38;5;28mself\u001b[39m\u001b[38;5;241m.\u001b[39moptimizer\u001b[38;5;241m.\u001b[39mstep()\n",
      "File \u001b[1;32m~\\PycharmProjects\\SBI\\conditional_density_estimators\\conditional_dif_density_estimator.py:101\u001b[0m, in \u001b[0;36mConditionalDIFDensityEstimator.loss\u001b[1;34m(self, batch_x, batch_theta, batch_w)\u001b[0m\n\u001b[0;32m    100\u001b[0m \u001b[38;5;28;01mdef\u001b[39;00m \u001b[38;5;21mloss\u001b[39m(\u001b[38;5;28mself\u001b[39m, batch_x, batch_theta, batch_w):\n\u001b[1;32m--> 101\u001b[0m     batch_theta_unsqueezed \u001b[38;5;241m=\u001b[39m \u001b[43mbatch_theta\u001b[49m\u001b[38;5;241;43m.\u001b[39;49m\u001b[43munsqueeze\u001b[49m\u001b[43m(\u001b[49m\u001b[38;5;241;43m-\u001b[39;49m\u001b[38;5;241;43m2\u001b[39;49m\u001b[43m)\u001b[49m\u001b[38;5;241;43m.\u001b[39;49m\u001b[43mrepeat\u001b[49m\u001b[43m(\u001b[49m\u001b[38;5;241;43m1\u001b[39;49m\u001b[43m,\u001b[49m\u001b[43m \u001b[49m\u001b[38;5;28;43mself\u001b[39;49m\u001b[38;5;241;43m.\u001b[39;49m\u001b[43mK\u001b[49m\u001b[43m,\u001b[49m\u001b[43m \u001b[49m\u001b[38;5;241;43m1\u001b[39;49m\u001b[43m)\u001b[49m\n\u001b[0;32m    102\u001b[0m     z \u001b[38;5;241m=\u001b[39m \u001b[38;5;28mself\u001b[39m\u001b[38;5;241m.\u001b[39mT\u001b[38;5;241m.\u001b[39mforward(batch_x, batch_theta)\n\u001b[0;32m    103\u001b[0m     \u001b[38;5;28;01mreturn\u001b[39;00m \u001b[38;5;241m-\u001b[39mtorch\u001b[38;5;241m.\u001b[39mmean(batch_w\u001b[38;5;241m*\u001b[39mtorch\u001b[38;5;241m.\u001b[39mlogsumexp(\u001b[38;5;28mself\u001b[39m\u001b[38;5;241m.\u001b[39mreference\u001b[38;5;241m.\u001b[39mlog_density(z) \u001b[38;5;241m+\u001b[39m torch\u001b[38;5;241m.\u001b[39mdiagonal(\u001b[38;5;28mself\u001b[39m\u001b[38;5;241m.\u001b[39mw\u001b[38;5;241m.\u001b[39mlog_prob(torch\u001b[38;5;241m.\u001b[39mcat([z, batch_theta_unsqueezed], dim \u001b[38;5;241m=\u001b[39m \u001b[38;5;241m-\u001b[39m\u001b[38;5;241m1\u001b[39m)), \u001b[38;5;241m0\u001b[39m, \u001b[38;5;241m-\u001b[39m\u001b[38;5;241m2\u001b[39m, \u001b[38;5;241m-\u001b[39m\u001b[38;5;241m1\u001b[39m) \u001b[38;5;241m+\u001b[39m \u001b[38;5;28mself\u001b[39m\u001b[38;5;241m.\u001b[39mT\u001b[38;5;241m.\u001b[39mlog_det_J(batch_x, batch_theta), dim\u001b[38;5;241m=\u001b[39m\u001b[38;5;241m-\u001b[39m\u001b[38;5;241m1\u001b[39m))\n",
      "\u001b[1;31mKeyboardInterrupt\u001b[0m: "
     ]
    }
   ],
   "source": [
    "conditional_dif = ConditionalDIFDensityEstimator(D_x, D_theta, K = 2, hidden_dimensions=[32,32,32])\n",
    "conditional_dif.train(1000, bootstrap = False, lr = 5e-4)\n",
    "plot_likelihood_function(conditional_dif.log_density, x_min = torch.min(D_theta), x_max = torch.max(D_theta), y_min= torch.min(D_x), y_max = torch.max(D_x),delta_x = 500, levels = 20)"
   ]
  },
  {
   "cell_type": "code",
   "execution_count": null,
   "id": "c3741b8e",
   "metadata": {},
   "outputs": [],
   "source": [
    "conditional_dif = ConditionalDIFDensityEstimator(D_x, D_theta, K = 2, hidden_dimensions=[32,32,32])\n",
    "conditional_dif.train(1000, bootstrap = False, lr = 5e-3)\n",
    "for i in range(10000):\n",
    "    #sample theta\n",
    "    sampler = WLBSampler(conditional_dif.log_density,1,x0)\n",
    "    theta_current = sampler.sample(1, epochs = 500, lr = 5e-2)\n",
    "    clear_output(wait = True)\n",
    "    plt.hist(theta_current.detach().numpy(),bins = 25)\n",
    "    plt.show()\n",
    "    #concatenate dataset\n",
    "    theta_plus = theta_current.repeat(x0.shape[0],1)\n",
    "    plt.figure(figsize = (15,8))\n",
    "    plt.set_xlim = (-8,8)\n",
    "    plt.scatter(theta_plus.detach().numpy(), x0.numpy(), label = \"Augmenting data\", color = 'green', alpha = .5)\n",
    "    plt.scatter(D_theta[:,0].numpy(), D_x.numpy(), alpha =.5, label = 'D=(x,theta)') \n",
    "    plt.axvline(theta0.numpy(), color = 'green', alpha = .7, linestyle = '--', label=' Unknown true value theta0 = ' + str(theta0.item()))\n",
    "    hist = plt.hist(x0.numpy(), orientation ='horizontal', bins = 20, density = True, bottom = -8, label = 'histogram of x0', color = 'C1', alpha = .75)\n",
    "    plt.legend()\n",
    "    plt.show()\n",
    "    \n",
    "    #sample phi|D+    \n",
    "    D_theta_plus = torch.cat([D_theta, theta_plus], dim = 0)\n",
    "    D_x_plus = torch.cat([D_x, x0], dim = 0)\n",
    "    conditional_dif = ConditionalDIFDensityEstimator(D_x_plus, D_theta_plus, K = 2, hidden_dimensions=[32,32,32])\n",
    "    conditional_dif.train(1000, bootstrap = False, lr = 5e-3)\n",
    "    plot_likelihood_function(conditional_dif.log_density, x_min = torch.min(D_theta), x_max = torch.max(D_theta), y_min= torch.min(D_x), y_max = torch.max(D_x),delta_x = 500, levels = 20)\n",
    "    plt.show()"
   ]
  },
  {
   "cell_type": "code",
   "execution_count": null,
   "id": "e5f4bd57",
   "metadata": {},
   "outputs": [],
   "source": [
    "theta_current = theta_prior_distribution.sample()\n",
    "conditional_dif = ConditionalDIFDensityEstimator(D_x, D_theta, K = 1, hidden_dimensions=[32,32,32])\n",
    "conditional_dif.train(1000, bootstrap = False, lr = 5e-4)\n",
    "for i in range(10000):\n",
    "    #sample theta\n",
    "    sampler = WLBSampler(conditional_dif.log_density,1,x0)\n",
    "    theta_current = sampler.sample(x0.shape[0], epochs = 1000, lr = 5e-2)\n",
    "    clear_output(wait = True)\n",
    "    plt.hist(theta_current.detach().numpy(),bins = 50)\n",
    "    plt.show()\n",
    "    #concatenate dataset\n",
    "    print(theta_current.shape)\n",
    "    theta_plus = theta_current[torch.randperm(theta_current.shape[0])][:x0.shape[0]].detach()\n",
    "    print(theta_plus.shape)\n",
    "    plt.figure(figsize = (15,8))\n",
    "    plt.set_xlim = (-8,8)\n",
    "    plt.scatter(theta_plus.detach().numpy(), x0.numpy(), label = \"Augmenting data\", color = 'green', alpha = .5)\n",
    "    plt.scatter(D_theta[:,0].numpy(), D_x.numpy(), alpha =.5, label = 'D=(x,theta)') \n",
    "    plt.axvline(theta0.numpy(), color = 'green', alpha = .7, linestyle = '--', label=' Unknown true value theta0 = ' + str(theta0.item()))\n",
    "    hist = plt.hist(x0.numpy(), orientation ='horizontal', bins = 20, density = True, bottom = -8, label = 'histogram of x0', color = 'C1', alpha = .75)\n",
    "    plt.legend()\n",
    "    plt.show()\n",
    "    \n",
    "    #sample phi|D+    \n",
    "    D_theta_plus = torch.cat([D_theta, theta_plus], dim = 0)\n",
    "    D_x_plus = torch.cat([D_x, x0], dim = 0)\n",
    "    conditional_dif = ConditionalDIFDensityEstimator(D_x_plus, D_theta_plus, K = 1, hidden_dimensions=[32,32,32])\n",
    "    conditional_dif.train(1000, bootstrap = False, lr = 5e-4)\n",
    "    plot_likelihood_function(conditional_dif.log_density, x_min = torch.min(D_theta), x_max = torch.max(D_theta), y_min= torch.min(D_x), y_max = torch.max(D_x),delta_x = 500, levels = 20)\n",
    "    plt.show()\n"
   ]
  },
  {
   "cell_type": "code",
   "execution_count": null,
   "id": "4ffbd651",
   "metadata": {},
   "outputs": [],
   "source": [
    "tt = torch.linspace(-10,10,10000)\n",
    "samples = conditional_dif.sample_model(tt.unsqueeze(-1))"
   ]
  },
  {
   "cell_type": "code",
   "execution_count": null,
   "id": "c76a4370",
   "metadata": {},
   "outputs": [],
   "source": [
    "plt.figure(figsize = (30,16))\n",
    "plt.scatter(tt.numpy(), samples.detach().numpy())"
   ]
  },
  {
   "cell_type": "code",
   "execution_count": null,
   "id": "1e14f6a4",
   "metadata": {},
   "outputs": [],
   "source": []
  }
 ],
 "metadata": {
  "kernelspec": {
   "display_name": "Python 3 (ipykernel)",
   "language": "python",
   "name": "python3"
  },
  "language_info": {
   "codemirror_mode": {
    "name": "ipython",
    "version": 3
   },
   "file_extension": ".py",
   "mimetype": "text/x-python",
   "name": "python",
   "nbconvert_exporter": "python",
   "pygments_lexer": "ipython3",
   "version": "3.9.2"
  }
 },
 "nbformat": 4,
 "nbformat_minor": 5
}
