{
 "cells": [
  {
   "cell_type": "code",
   "execution_count": 269,
   "id": "fe99ff3d",
   "metadata": {},
   "outputs": [
    {
     "name": "stdout",
     "output_type": "stream",
     "text": [
      "The autoreload extension is already loaded. To reload it, use:\n",
      "  %reload_ext autoreload\n"
     ]
    }
   ],
   "source": [
    "%load_ext autoreload\n",
    "%autoreload 2\n",
    "from targets.density_estimation_target import *"
   ]
  },
  {
   "cell_type": "code",
   "execution_count": 270,
   "id": "561c8f7c",
   "metadata": {},
   "outputs": [
    {
     "data": {
      "image/png": "[encoded data removed]",
      "text/plain": [
       "<Figure size 432x288 with 1 Axes>"
      ]
     },
     "metadata": {
      "needs_background": "light"
     },
     "output_type": "display_data"
    }
   ],
   "source": [
    "target = Dimension1()\n",
    "data = target.sample(50000)\n",
    "fig = plt.hist(data.numpy(), bins = 200)\n",
    "plt.show()"
   ]
  },
  {
   "cell_type": "code",
   "execution_count": 296,
   "id": "e5c9adb1",
   "metadata": {},
   "outputs": [],
   "source": [
    "from models import NDRE\n",
    "structure = [20,20]"
   ]
  },
  {
   "cell_type": "code",
   "execution_count": 297,
   "id": "e61b0041",
   "metadata": {},
   "outputs": [
    {
     "name": "stdout",
     "output_type": "stream",
     "text": [
      "+------------------+------------+\n",
      "|     Modules      | Parameters |\n",
      "+------------------+------------+\n",
      "| logit_r.0.weight |     20     |\n",
      "|  logit_r.0.bias  |     20     |\n",
      "| logit_r.2.weight |    400     |\n",
      "|  logit_r.2.bias  |     20     |\n",
      "| logit_r.4.weight |     20     |\n",
      "|  logit_r.4.bias  |     1      |\n",
      "+------------------+------------+\n",
      "Total Trainable Params: 481\n",
      "481\n"
     ]
    }
   ],
   "source": [
    "from prettytable import PrettyTable\n",
    "\n",
    "def count_parameters(structure):\n",
    "    model = NDRE(data, structure)\n",
    "    table = PrettyTable([\"Modules\", \"Parameters\"])\n",
    "    total_params = 0\n",
    "    for name, parameter in model.named_parameters():\n",
    "        if not parameter.requires_grad: continue\n",
    "        params = parameter.numel()\n",
    "        table.add_row([name, params])\n",
    "        total_params+=params\n",
    "    print(table)\n",
    "    print(f\"Total Trainable Params: {total_params}\")\n",
    "    return total_params\n",
    "    \n",
    "number_param = count_parameters(structure)\n",
    "print(number_param)"
   ]
  },
  {
   "cell_type": "code",
   "execution_count": 298,
   "id": "b3e92a45",
   "metadata": {},
   "outputs": [],
   "source": [
    "N = 1\n",
    "phi_0 = torch.randn(N,number_param)"
   ]
  },
  {
   "cell_type": "code",
   "execution_count": 299,
   "id": "94b1e4a9",
   "metadata": {},
   "outputs": [
    {
     "data": {
      "text/plain": [
       "tensor([-153561.2656], grad_fn=<AddBackward0>)"
      ]
     },
     "execution_count": 299,
     "metadata": {},
     "output_type": "execute_result"
    }
   ],
   "source": [
    "def compute_log_p_phi_D(phi): \n",
    "    list_log_prob =[]\n",
    "    for i in range(phi.shape[0]):\n",
    "        phi_i = phi[i,:]\n",
    "        model = NDRE(data, structure)\n",
    "        for name, param in model.state_dict().items():\n",
    "            num_element = param.numel()\n",
    "            param_to_set, phi_i = phi_i[:num_element],phi_i[num_element:]\n",
    "            param = param_to_set\n",
    "        list_log_prob.append(torch.sum(model.log_density(data), dim= 0))\n",
    "        \n",
    "    return torch.stack(list_log_prob) + MultivariateNormal(torch.zeros(phi.shape[1]), torch.eye(phi.shape[1])).log_prob(phi)\n",
    "\n",
    "compute_log_p_phi_D(phi_0)"
   ]
  },
  {
   "cell_type": "code",
   "execution_count": 300,
   "id": "b79dd64c",
   "metadata": {},
   "outputs": [
    {
     "data": {
      "text/plain": [
       "[<matplotlib.lines.Line2D at 0x21be71b7550>]"
      ]
     },
     "execution_count": 300,
     "metadata": {},
     "output_type": "execute_result"
    },
    {
     "data": {
      "image/png": "[encoded data removed]",
      "text/plain": [
       "<Figure size 432x288 with 1 Axes>"
      ]
     },
     "metadata": {
      "needs_background": "light"
     },
     "output_type": "display_data"
    }
   ],
   "source": [
    "def from_phi_to_model(phi):\n",
    "    model = NDRE(data, structure)\n",
    "    current = 0\n",
    "    for name, param in model.state_dict().items():\n",
    "        num_element = param.numel()\n",
    "        param_to_set = phi[current:current+num_element].reshape(param.shape)\n",
    "        current += num_element\n",
    "        param.copy_(param_to_set)\n",
    "    return model\n",
    "\n",
    "def from_model_to_phi(model):\n",
    "    phi = list([])\n",
    "    for name, param in model.state_dict().items():\n",
    "        phi+=(list(param.flatten()))\n",
    "    return torch.stack(phi, dim=-1)\n",
    "\n",
    "model = from_phi_to_model(phi_0[0])\n",
    "linspace = torch.linspace(-15.,15., 200)\n",
    "plt.plot(linspace, torch.exp(model.log_density(linspace.unsqueeze(-1))).detach().numpy())\n",
    "phi_0_prime = from_model_to_phi(model)\n",
    "model_prime = from_phi_to_model(phi_0_prime)\n",
    "linspace = torch.linspace(-15.,15., 200)\n",
    "plt.plot(linspace, torch.exp(model_prime.log_density(linspace.unsqueeze(-1))).detach().numpy())"
   ]
  },
  {
   "cell_type": "code",
   "execution_count": 301,
   "id": "4cb2b12a",
   "metadata": {},
   "outputs": [
    {
     "name": "stderr",
     "output_type": "stream",
     "text": [
      "100%|██████████████████████████████████████████████████████████████████████████████████████████████████████████████████████████████████| 100/100 [01:08<00:00,  1.45it/s, loss = 1.311449]\n"
     ]
    }
   ],
   "source": [
    "model_train = NDRE(data,structure)\n",
    "model_train.train(epochs = 100)\n",
    "phi_0 = from_model_to_phi(model_train)"
   ]
  },
  {
   "cell_type": "code",
   "execution_count": 302,
   "id": "31ec4b1e",
   "metadata": {},
   "outputs": [
    {
     "data": {
      "text/plain": [
       "[<matplotlib.lines.Line2D at 0x21bed7e33d0>]"
      ]
     },
     "execution_count": 302,
     "metadata": {},
     "output_type": "execute_result"
    },
    {
     "data": {
      "image/png": "[encoded data removed]",
      "text/plain": [
       "<Figure size 432x288 with 1 Axes>"
      ]
     },
     "metadata": {
      "needs_background": "light"
     },
     "output_type": "display_data"
    }
   ],
   "source": [
    "linspace = torch.linspace(-15.,15., 200)\n",
    "plt.plot(linspace, torch.exp(model_train.log_density(linspace.unsqueeze(-1))).detach().numpy())"
   ]
  },
  {
   "cell_type": "code",
   "execution_count": 303,
   "id": "b9c4c4e0",
   "metadata": {},
   "outputs": [
    {
     "name": "stderr",
     "output_type": "stream",
     "text": [
      "100%|██████████████████████████████████████████████████████████████████████████████████████████████████████████████████████| 100/100 [00:10<00:00,  9.85it/s, acceptance = tensor(0.4900)]\n"
     ]
    }
   ],
   "source": [
    "from posterior_sampler import MALA\n",
    "mala_sampler = MALA(compute_log_p_phi_D, 2,number_param,x0 = phi_0.unsqueeze(0))\n",
    "samples = mala_sampler.sample(100,0)"
   ]
  },
  {
   "cell_type": "code",
   "execution_count": 307,
   "id": "2c35b977",
   "metadata": {},
   "outputs": [
    {
     "data": {
      "image/png": "[encoded data removed]",
      "text/plain": [
       "<Figure size 432x288 with 1 Axes>"
      ]
     },
     "metadata": {
      "needs_background": "light"
     },
     "output_type": "display_data"
    }
   ],
   "source": [
    "from IPython.display import clear_output\n",
    "linspace = torch.linspace(-15.,15., 200)\n",
    "sum_density = torch.zeros(200)\n",
    "for i in range(3):\n",
    "    clear_output(wait=True)\n",
    "    plt.figure()\n",
    "    model = from_phi_to_model(samples[i])\n",
    "    sum_density = sum_density + torch.exp(model.log_density(linspace.unsqueeze(-1)))\n",
    "    plt.plot(linspace, sum_density.detach().numpy())\n",
    "    plt.show()"
   ]
  },
  {
   "cell_type": "code",
   "execution_count": null,
   "id": "6e39e477",
   "metadata": {},
   "outputs": [],
   "source": []
  }
 ],
 "metadata": {
  "kernelspec": {
   "display_name": "Python 3 (ipykernel)",
   "language": "python",
   "name": "python3"
  },
  "language_info": {
   "codemirror_mode": {
    "name": "ipython",
    "version": 3
   },
   "file_extension": ".py",
   "mimetype": "text/x-python",
   "name": "python",
   "nbconvert_exporter": "python",
   "pygments_lexer": "ipython3",
   "version": "3.9.2"
  }
 },
 "nbformat": 4,
 "nbformat_minor": 5
}
