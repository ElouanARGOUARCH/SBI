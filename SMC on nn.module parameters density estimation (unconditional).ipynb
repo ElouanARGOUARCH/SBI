{
 "cells": [
  {
   "cell_type": "code",
   "execution_count": 12,
   "id": "cea4f752",
   "metadata": {},
   "outputs": [
    {
     "name": "stdout",
     "output_type": "stream",
     "text": [
      "The autoreload extension is already loaded. To reload it, use:\n",
      "  %reload_ext autoreload\n"
     ]
    }
   ],
   "source": [
    "%load_ext autoreload\n",
    "%autoreload 2\n",
    "from targets.density_estimation_target import *"
   ]
  },
  {
   "cell_type": "code",
   "execution_count": 13,
   "id": "0ac8d657",
   "metadata": {},
   "outputs": [
    {
     "data": {
      "image/png": "[encoded data removed]",
      "text/plain": [
       "<Figure size 432x288 with 1 Axes>"
      ]
     },
     "metadata": {
      "needs_background": "light"
     },
     "output_type": "display_data"
    }
   ],
   "source": [
    "target = Dimension1()\n",
    "data = target.sample(100000)\n",
    "fig = plt.hist(data.numpy(), bins = 200)\n",
    "plt.show()"
   ]
  },
  {
   "cell_type": "code",
   "execution_count": 14,
   "id": "f0eca025",
   "metadata": {},
   "outputs": [],
   "source": [
    "import torch\n",
    "from torch import nn\n",
    "from torch.distributions import Categorical\n",
    "from tqdm import tqdm\n",
    "\n",
    "from models_dif.multivariate_normal_reference import MultivariateNormalReference\n",
    "class LocationScaleFlow(nn.Module):\n",
    "    def __init__(self, K, p):\n",
    "        super().__init__()\n",
    "        self.K = K\n",
    "        self.p = p\n",
    "\n",
    "        self.m = nn.Parameter(torch.randn(self.K, self.p))\n",
    "        self.log_s = nn.Parameter(torch.zeros(self.K, self.p))\n",
    "\n",
    "    def backward(self, z):\n",
    "        desired_size = list(z.shape)\n",
    "        desired_size.insert(-1, self.K)\n",
    "        Z = z.unsqueeze(-2).expand(desired_size)\n",
    "        return Z * torch.exp(self.log_s).expand_as(Z) + self.m.expand_as(Z)\n",
    "\n",
    "    def forward(self, x):\n",
    "        desired_size = list(x.shape)\n",
    "        desired_size.insert(-1, self.K)\n",
    "        X = x.unsqueeze(-2).expand(desired_size)\n",
    "        return (X-self.m.expand_as(X))/torch.exp(self.log_s).expand_as(X)\n",
    "\n",
    "    def log_det_J(self,x):\n",
    "        return -self.log_s.sum(-1)\n",
    "    \n",
    "class SoftmaxWeight(nn.Module):\n",
    "    def __init__(self, K, p, hidden_dimensions =[]):\n",
    "        super().__init__()\n",
    "        self.K = K\n",
    "        self.p = p\n",
    "        self.network_dimensions = [self.p] + hidden_dimensions + [self.K]\n",
    "        network = []\n",
    "        for h0, h1 in zip(self.network_dimensions, self.network_dimensions[1:]):\n",
    "            network.extend([nn.Linear(h0, h1),nn.Tanh(),])\n",
    "        network.pop()\n",
    "        self.f = nn.Sequential(*network)\n",
    "\n",
    "    def log_prob(self, z):\n",
    "        unormalized_log_w = self.f.forward(z)\n",
    "        return unormalized_log_w - torch.logsumexp(unormalized_log_w, dim=-1, keepdim=True)\n",
    "\n",
    "class DIFDensityEstimator(nn.Module):\n",
    "    def __init__(self, target_samples, K):\n",
    "        super().__init__()\n",
    "        self.target_samples = target_samples\n",
    "        self.p = self.target_samples.shape[-1]\n",
    "        self.K = K\n",
    "\n",
    "        self.reference = MultivariateNormalReference(self.p)\n",
    "\n",
    "        self.w = SoftmaxWeight(self.K, self.p, [])\n",
    "\n",
    "        self.T = LocationScaleFlow(self.K, self.p)\n",
    "        self.T.m = nn.Parameter(self.target_samples[torch.randint(low= 0, high = self.target_samples.shape[0],size = [self.K])])\n",
    "\n",
    "        self.loss_values = []\n",
    "        self.para_list = list(self.parameters())\n",
    "        self.optimizer = torch.optim.Adam(self.para_list, lr=5e-3)\n",
    "\n",
    "    def compute_log_v(self,x):\n",
    "        with torch.no_grad():\n",
    "            z = self.T.forward(x)\n",
    "            log_v = self.reference.log_density(z) + torch.diagonal(self.w.log_prob(z), 0, -2, -1) + self.T.log_det_J(x)\n",
    "            return log_v - torch.logsumexp(log_v, dim = -1, keepdim= True)\n",
    "\n",
    "    def sample_latent(self,x):\n",
    "        with torch.no_grad():\n",
    "            z = self.T.forward(x)\n",
    "            pick = Categorical(torch.exp(self.compute_log_v(x))).sample()\n",
    "            return torch.stack([z[i,pick[i],:] for i in range(x.shape[0])])\n",
    "\n",
    "    def log_density(self, x):\n",
    "        with torch.no_grad():\n",
    "            z = self.T.forward(x)\n",
    "            return torch.logsumexp(self.reference.log_density(z) + torch.diagonal(self.w.log_prob(z),0,-2,-1) + self.T.log_det_J(x),dim=-1)\n",
    "\n",
    "    def sample_model(self, num_samples):\n",
    "        with torch.no_grad():\n",
    "            z = self.reference.sample(num_samples)\n",
    "            x = self.T.backward(z)\n",
    "            pick = Categorical(torch.exp(self.w.log_prob(z))).sample()\n",
    "            return torch.stack([x[i,pick[i],:] for i in range(z.shape[0])])\n",
    "\n",
    "    def loss(self, batch):\n",
    "        z = self.T.forward(batch)\n",
    "        return -torch.mean(torch.logsumexp(self.reference.log_density(z) + torch.diagonal(self.w.log_prob(z), 0, -2, -1) + self.T.log_det_J(batch), dim=-1))\n",
    "\n",
    "    def train(self, epochs, batch_size = None):\n",
    "        if batch_size is None:\n",
    "            batch_size = self.target_samples.shape[0]\n",
    "        dataset = torch.utils.data.TensorDataset(self.target_samples)\n",
    "\n",
    "        device = torch.device('cuda' if torch.cuda.is_available() else 'cpu')\n",
    "        self.to(device)\n",
    "\n",
    "        pbar = tqdm(range(epochs))\n",
    "        for t in pbar:\n",
    "            dataloader = torch.utils.data.DataLoader(dataset, batch_size=batch_size, shuffle=True)\n",
    "            for i, batch in enumerate(dataloader):\n",
    "                x = batch[0].to(device)\n",
    "                self.optimizer.zero_grad()\n",
    "                batch_loss = self.loss(x)\n",
    "                batch_loss.backward()\n",
    "                self.optimizer.step()\n",
    "            with torch.no_grad():\n",
    "                iteration_loss = torch.tensor([self.loss(batch[0].to(device)) for i, batch in enumerate(dataloader)]).mean().item()\n",
    "            self.loss_values.append(iteration_loss)\n",
    "            pbar.set_postfix_str('loss = ' + str(round(iteration_loss,6)) + ' ; device: ' + 'cuda' if torch.cuda.is_available() else 'cpu')\n",
    "        self.to(torch.device('cpu'))"
   ]
  },
  {
   "cell_type": "code",
   "execution_count": 15,
   "id": "ae2748e6",
   "metadata": {},
   "outputs": [
    {
     "name": "stdout",
     "output_type": "stream",
     "text": [
      "+--------------+------------+\n",
      "|   Modules    | Parameters |\n",
      "+--------------+------------+\n",
      "| w.f.0.weight |     10     |\n",
      "|  w.f.0.bias  |     10     |\n",
      "|     T.m      |     10     |\n",
      "|   T.log_s    |     10     |\n",
      "+--------------+------------+\n",
      "Total Trainable Params: 40\n",
      "40\n"
     ]
    }
   ],
   "source": [
    "architecture = DIFDensityEstimator\n",
    "structure = 10\n",
    "from prettytable import PrettyTable\n",
    "\n",
    "def count_parameters(structure):\n",
    "    model = architecture(data, structure)\n",
    "    table = PrettyTable([\"Modules\", \"Parameters\"])\n",
    "    total_params = 0\n",
    "    for name, parameter in model.named_parameters():\n",
    "        if not parameter.requires_grad: continue\n",
    "        params = parameter.numel()\n",
    "        table.add_row([name, params])\n",
    "        total_params+=params\n",
    "    print(table)\n",
    "    print(f\"Total Trainable Params: {total_params}\")\n",
    "    return total_params\n",
    "    \n",
    "number_param = count_parameters(structure)\n",
    "print(number_param)"
   ]
  },
  {
   "cell_type": "code",
   "execution_count": 16,
   "id": "6def25dd",
   "metadata": {},
   "outputs": [],
   "source": [
    "import copy \n",
    "def metropolis_adjusted_langevin_step(current_model,current_log_prob,data,tau):\n",
    "       \n",
    "    #copy model\n",
    "    copy_model = copy.deepcopy(current_model)\n",
    "    for param, copy_param in zip(current_model.parameters(), copy_model.parameters()):\n",
    "        with torch.no_grad():\n",
    "            copy_param.data= param.data+tau*param.grad + torch.randn_like(param.data)*((2*tau)**(1/2))\n",
    "            \n",
    "    #compute copy_loss\n",
    "    copy_model.zero_grad()\n",
    "    copy_log_prob = -copy_model.loss(data)*data.shape[0]\n",
    "    copy_log_prob.backward()\n",
    "    print(copy_log_prob) \n",
    "    \n",
    "    #compute proposal densities\n",
    "    with torch.no_grad():\n",
    "        log_ratio = 0\n",
    "        for param, new_param in zip(current_model.parameters(),copy_model.parameters()):\n",
    "            log_ratio -= torch.sum(torch.square(param - new_param - tau*new_param.grad))/(4*tau)\n",
    "            log_ratio += torch.sum(torch.square(new_param - param - tau*param.grad))/(4*tau)\n",
    "        #acceptation probability\n",
    "        acceptance_log_prob = copy_log_prob - current_log_prob + log_ratio\n",
    "        print(torch.exp(acceptance_log_prob))\n",
    "        if torch.rand(1)<torch.exp(acceptance_log_prob):\n",
    "            print('accepted')\n",
    "            return copy_model, copy_log_prob\n",
    "        else:\n",
    "            print('denied')\n",
    "            return current_model, current_log_prob\n"
   ]
  },
  {
   "cell_type": "code",
   "execution_count": 18,
   "id": "85063b27",
   "metadata": {},
   "outputs": [
    {
     "data": {
      "image/png": "[encoded data removed]",
      "text/plain": [
       "<Figure size 432x288 with 1 Axes>"
      ]
     },
     "metadata": {
      "needs_background": "light"
     },
     "output_type": "display_data"
    },
    {
     "name": "stdout",
     "output_type": "stream",
     "text": [
      "tensor(-284089.5625, grad_fn=<MulBackward0>)\n",
      "tensor(0.0987)\n",
      "denied\n"
     ]
    }
   ],
   "source": [
    "from IPython.display import clear_output\n",
    "linspace = torch.linspace(-15.,15., 200)\n",
    "\n",
    "current_model = DIFDensityEstimator(data, structure)\n",
    "current_log_prob = -current_model.loss(data)*data.shape[0]\n",
    "current_log_prob.backward()\n",
    "\n",
    "\n",
    "for i in range(1,1000):\n",
    "    tau = 0.005/(data.shape[0])\n",
    "    clear_output(wait = True)\n",
    "    plt.figure()\n",
    "    sum_density = torch.exp(current_model.log_density(linspace.unsqueeze(-1)))\n",
    "    plt.plot(linspace, sum_density.detach().numpy())\n",
    "    plt.show()\n",
    "    current_model, current_log_prob = metropolis_adjusted_langevin_step(current_model,current_log_prob, data, tau)\n",
    "    "
   ]
  },
  {
   "cell_type": "code",
   "execution_count": null,
   "id": "2e2ae956",
   "metadata": {},
   "outputs": [],
   "source": []
  }
 ],
 "metadata": {
  "kernelspec": {
   "display_name": "Python 3 (ipykernel)",
   "language": "python",
   "name": "python3"
  },
  "language_info": {
   "codemirror_mode": {
    "name": "ipython",
    "version": 3
   },
   "file_extension": ".py",
   "mimetype": "text/x-python",
   "name": "python",
   "nbconvert_exporter": "python",
   "pygments_lexer": "ipython3",
   "version": "3.9.2"
  }
 },
 "nbformat": 4,
 "nbformat_minor": 5
}
