{
 "cells": [
  {
   "cell_type": "code",
   "execution_count": 1,
   "id": "cea4f752",
   "metadata": {},
   "outputs": [],
   "source": [
    "%load_ext autoreload\n",
    "%autoreload 2\n",
    "from targets.conditional_density_estimation_target import *"
   ]
  },
  {
   "cell_type": "code",
   "execution_count": 2,
   "id": "0ac8d657",
   "metadata": {},
   "outputs": [
    {
     "data": {
      "image/png": "[encoded data removed]",
      "text/plain": [
       "<Figure size 432x288 with 1 Axes>"
      ]
     },
     "metadata": {
      "needs_background": "light"
     },
     "output_type": "display_data"
    }
   ],
   "source": [
    "target = Wave()\n",
    "theta = target.sample_prior(5000)\n",
    "x = target.simulate(theta)\n",
    "fig = plt.scatter(theta.squeeze(-1).numpy(), x.squeeze(-1).numpy())\n",
    "plt.show()"
   ]
  },
  {
   "cell_type": "code",
   "execution_count": 3,
   "id": "ae2748e6",
   "metadata": {},
   "outputs": [
    {
     "name": "stdout",
     "output_type": "stream",
     "text": [
      "+--------------+------------+\n",
      "|   Modules    | Parameters |\n",
      "+--------------+------------+\n",
      "| w.f.0.weight |     64     |\n",
      "|  w.f.0.bias  |     32     |\n",
      "| w.f.2.weight |    1024    |\n",
      "|  w.f.2.bias  |     32     |\n",
      "| w.f.4.weight |     32     |\n",
      "|  w.f.4.bias  |     1      |\n",
      "| T.f.0.weight |     32     |\n",
      "|  T.f.0.bias  |     32     |\n",
      "| T.f.2.weight |    1024    |\n",
      "|  T.f.2.bias  |     32     |\n",
      "| T.f.4.weight |     64     |\n",
      "|  T.f.4.bias  |     2      |\n",
      "+--------------+------------+\n",
      "Total Trainable Params: 2371\n",
      "2371\n"
     ]
    }
   ],
   "source": [
    "from models_dif import ConditionalDIFDensityEstimator\n",
    "architecture = ConditionalDIFDensityEstimator\n",
    "K = 1\n",
    "hidden_dimensions = [32,32]\n",
    "from prettytable import PrettyTable\n",
    "\n",
    "def count_parameters():\n",
    "    model = architecture(x, theta,K,hidden_dimensions)\n",
    "    table = PrettyTable([\"Modules\", \"Parameters\"])\n",
    "    total_params = 0\n",
    "    for name, parameter in model.named_parameters():\n",
    "        if not parameter.requires_grad: continue\n",
    "        params = parameter.numel()\n",
    "        table.add_row([name, params])\n",
    "        total_params+=params\n",
    "    print(table)\n",
    "    print(f\"Total Trainable Params: {total_params}\")\n",
    "    return total_params\n",
    "    \n",
    "number_param = count_parameters()\n",
    "print(number_param)"
   ]
  },
  {
   "cell_type": "code",
   "execution_count": 5,
   "id": "85063b27",
   "metadata": {},
   "outputs": [
    {
     "data": {
      "image/png": "[encoded data removed]",
      "text/plain": [
       "<Figure size 432x288 with 1 Axes>"
      ]
     },
     "metadata": {
      "needs_background": "light"
     },
     "output_type": "display_data"
    },
    {
     "ename": "KeyboardInterrupt",
     "evalue": "",
     "output_type": "error",
     "traceback": [
      "\u001b[1;31m---------------------------------------------------------------------------\u001b[0m",
      "\u001b[1;31mKeyboardInterrupt\u001b[0m                         Traceback (most recent call last)",
      "Input \u001b[1;32mIn [5]\u001b[0m, in \u001b[0;36m<cell line: 15>\u001b[1;34m()\u001b[0m\n\u001b[0;32m     32\u001b[0m \u001b[38;5;66;03m#compute new_log_prob\u001b[39;00m\n\u001b[0;32m     33\u001b[0m copy_parameters_as_vector \u001b[38;5;241m=\u001b[39m torch\u001b[38;5;241m.\u001b[39mnn\u001b[38;5;241m.\u001b[39mutils\u001b[38;5;241m.\u001b[39mparameters_to_vector(copy_model\u001b[38;5;241m.\u001b[39mparameters())\n\u001b[1;32m---> 34\u001b[0m copy_log_prior \u001b[38;5;241m=\u001b[39m \u001b[43mtorch\u001b[49m\u001b[38;5;241;43m.\u001b[39;49m\u001b[43mdistributions\u001b[49m\u001b[38;5;241;43m.\u001b[39;49m\u001b[43mMultivariateNormal\u001b[49m\u001b[43m(\u001b[49m\u001b[43mtorch\u001b[49m\u001b[38;5;241;43m.\u001b[39;49m\u001b[43mzeros\u001b[49m\u001b[43m(\u001b[49m\u001b[43mcopy_parameters_as_vector\u001b[49m\u001b[38;5;241;43m.\u001b[39;49m\u001b[43mshape\u001b[49m\u001b[43m[\u001b[49m\u001b[38;5;241;43m0\u001b[39;49m\u001b[43m]\u001b[49m\u001b[43m)\u001b[49m\u001b[43m,\u001b[49m\u001b[43m \u001b[49m\u001b[43m(\u001b[49m\u001b[43msigma_phi\u001b[49m\u001b[38;5;241;43m*\u001b[39;49m\u001b[38;5;241;43m*\u001b[39;49m\u001b[38;5;241;43m2\u001b[39;49m\u001b[43m)\u001b[49m\u001b[38;5;241;43m*\u001b[39;49m\u001b[43mtorch\u001b[49m\u001b[38;5;241;43m.\u001b[39;49m\u001b[43meye\u001b[49m\u001b[43m(\u001b[49m\u001b[43mcopy_parameters_as_vector\u001b[49m\u001b[38;5;241;43m.\u001b[39;49m\u001b[43mshape\u001b[49m\u001b[43m[\u001b[49m\u001b[38;5;241;43m0\u001b[39;49m\u001b[43m]\u001b[49m\u001b[43m)\u001b[49m\u001b[43m)\u001b[49m\u001b[38;5;241m.\u001b[39mlog_prob(copy_parameters_as_vector)\n\u001b[0;32m     35\u001b[0m copy_log_prob \u001b[38;5;241m=\u001b[39m \u001b[38;5;241m-\u001b[39mcopy_model\u001b[38;5;241m.\u001b[39mloss(x, theta)\u001b[38;5;241m*\u001b[39mx\u001b[38;5;241m.\u001b[39mshape[\u001b[38;5;241m0\u001b[39m] \u001b[38;5;241m+\u001b[39m copy_log_prior\n\u001b[0;32m     37\u001b[0m \u001b[38;5;66;03m#compute new gradients\u001b[39;00m\n",
      "File \u001b[1;32mc:\\users\\ea264728\\pycharmprojects\\sbi\\venv\\lib\\site-packages\\torch\\distributions\\multivariate_normal.py:146\u001b[0m, in \u001b[0;36mMultivariateNormal.__init__\u001b[1;34m(self, loc, covariance_matrix, precision_matrix, scale_tril, validate_args)\u001b[0m\n\u001b[0;32m    143\u001b[0m \u001b[38;5;28mself\u001b[39m\u001b[38;5;241m.\u001b[39mloc \u001b[38;5;241m=\u001b[39m loc\u001b[38;5;241m.\u001b[39mexpand(batch_shape \u001b[38;5;241m+\u001b[39m (\u001b[38;5;241m-\u001b[39m\u001b[38;5;241m1\u001b[39m,))\n\u001b[0;32m    145\u001b[0m event_shape \u001b[38;5;241m=\u001b[39m \u001b[38;5;28mself\u001b[39m\u001b[38;5;241m.\u001b[39mloc\u001b[38;5;241m.\u001b[39mshape[\u001b[38;5;241m-\u001b[39m\u001b[38;5;241m1\u001b[39m:]\n\u001b[1;32m--> 146\u001b[0m \u001b[38;5;28;43msuper\u001b[39;49m\u001b[43m(\u001b[49m\u001b[43mMultivariateNormal\u001b[49m\u001b[43m,\u001b[49m\u001b[43m \u001b[49m\u001b[38;5;28;43mself\u001b[39;49m\u001b[43m)\u001b[49m\u001b[38;5;241;43m.\u001b[39;49m\u001b[38;5;21;43m__init__\u001b[39;49m\u001b[43m(\u001b[49m\u001b[43mbatch_shape\u001b[49m\u001b[43m,\u001b[49m\u001b[43m \u001b[49m\u001b[43mevent_shape\u001b[49m\u001b[43m,\u001b[49m\u001b[43m \u001b[49m\u001b[43mvalidate_args\u001b[49m\u001b[38;5;241;43m=\u001b[39;49m\u001b[43mvalidate_args\u001b[49m\u001b[43m)\u001b[49m\n\u001b[0;32m    148\u001b[0m \u001b[38;5;28;01mif\u001b[39;00m scale_tril \u001b[38;5;129;01mis\u001b[39;00m \u001b[38;5;129;01mnot\u001b[39;00m \u001b[38;5;28;01mNone\u001b[39;00m:\n\u001b[0;32m    149\u001b[0m     \u001b[38;5;28mself\u001b[39m\u001b[38;5;241m.\u001b[39m_unbroadcasted_scale_tril \u001b[38;5;241m=\u001b[39m scale_tril\n",
      "File \u001b[1;32mc:\\users\\ea264728\\pycharmprojects\\sbi\\venv\\lib\\site-packages\\torch\\distributions\\distribution.py:53\u001b[0m, in \u001b[0;36mDistribution.__init__\u001b[1;34m(self, batch_shape, event_shape, validate_args)\u001b[0m\n\u001b[0;32m     51\u001b[0m     \u001b[38;5;28;01mcontinue\u001b[39;00m  \u001b[38;5;66;03m# skip checking lazily-constructed args\u001b[39;00m\n\u001b[0;32m     52\u001b[0m value \u001b[38;5;241m=\u001b[39m \u001b[38;5;28mgetattr\u001b[39m(\u001b[38;5;28mself\u001b[39m, param)\n\u001b[1;32m---> 53\u001b[0m valid \u001b[38;5;241m=\u001b[39m \u001b[43mconstraint\u001b[49m\u001b[38;5;241;43m.\u001b[39;49m\u001b[43mcheck\u001b[49m\u001b[43m(\u001b[49m\u001b[43mvalue\u001b[49m\u001b[43m)\u001b[49m\n\u001b[0;32m     54\u001b[0m \u001b[38;5;28;01mif\u001b[39;00m \u001b[38;5;129;01mnot\u001b[39;00m valid\u001b[38;5;241m.\u001b[39mall():\n\u001b[0;32m     55\u001b[0m     \u001b[38;5;28;01mraise\u001b[39;00m \u001b[38;5;167;01mValueError\u001b[39;00m(\n\u001b[0;32m     56\u001b[0m         \u001b[38;5;124mf\u001b[39m\u001b[38;5;124m\"\u001b[39m\u001b[38;5;124mExpected parameter \u001b[39m\u001b[38;5;132;01m{\u001b[39;00mparam\u001b[38;5;132;01m}\u001b[39;00m\u001b[38;5;124m \u001b[39m\u001b[38;5;124m\"\u001b[39m\n\u001b[0;32m     57\u001b[0m         \u001b[38;5;124mf\u001b[39m\u001b[38;5;124m\"\u001b[39m\u001b[38;5;124m(\u001b[39m\u001b[38;5;132;01m{\u001b[39;00m\u001b[38;5;28mtype\u001b[39m(value)\u001b[38;5;241m.\u001b[39m\u001b[38;5;18m__name__\u001b[39m\u001b[38;5;132;01m}\u001b[39;00m\u001b[38;5;124m of shape \u001b[39m\u001b[38;5;132;01m{\u001b[39;00m\u001b[38;5;28mtuple\u001b[39m(value\u001b[38;5;241m.\u001b[39mshape)\u001b[38;5;132;01m}\u001b[39;00m\u001b[38;5;124m) \u001b[39m\u001b[38;5;124m\"\u001b[39m\n\u001b[1;32m   (...)\u001b[0m\n\u001b[0;32m     60\u001b[0m         \u001b[38;5;124mf\u001b[39m\u001b[38;5;124m\"\u001b[39m\u001b[38;5;124mbut found invalid values:\u001b[39m\u001b[38;5;130;01m\\n\u001b[39;00m\u001b[38;5;132;01m{\u001b[39;00mvalue\u001b[38;5;132;01m}\u001b[39;00m\u001b[38;5;124m\"\u001b[39m\n\u001b[0;32m     61\u001b[0m     )\n",
      "File \u001b[1;32mc:\\users\\ea264728\\pycharmprojects\\sbi\\venv\\lib\\site-packages\\torch\\distributions\\constraints.py:509\u001b[0m, in \u001b[0;36m_PositiveDefinite.check\u001b[1;34m(self, value)\u001b[0m\n\u001b[0;32m    508\u001b[0m \u001b[38;5;28;01mdef\u001b[39;00m \u001b[38;5;21mcheck\u001b[39m(\u001b[38;5;28mself\u001b[39m, value):\n\u001b[1;32m--> 509\u001b[0m     sym_check \u001b[38;5;241m=\u001b[39m \u001b[38;5;28;43msuper\u001b[39;49m\u001b[43m(\u001b[49m\u001b[43m)\u001b[49m\u001b[38;5;241;43m.\u001b[39;49m\u001b[43mcheck\u001b[49m\u001b[43m(\u001b[49m\u001b[43mvalue\u001b[49m\u001b[43m)\u001b[49m\n\u001b[0;32m    510\u001b[0m     \u001b[38;5;28;01mif\u001b[39;00m \u001b[38;5;129;01mnot\u001b[39;00m sym_check\u001b[38;5;241m.\u001b[39mall():\n\u001b[0;32m    511\u001b[0m         \u001b[38;5;28;01mreturn\u001b[39;00m sym_check\n",
      "File \u001b[1;32mc:\\users\\ea264728\\pycharmprojects\\sbi\\venv\\lib\\site-packages\\torch\\distributions\\constraints.py:490\u001b[0m, in \u001b[0;36m_Symmetric.check\u001b[1;34m(self, value)\u001b[0m\n\u001b[0;32m    488\u001b[0m \u001b[38;5;28;01mif\u001b[39;00m \u001b[38;5;129;01mnot\u001b[39;00m square_check\u001b[38;5;241m.\u001b[39mall():\n\u001b[0;32m    489\u001b[0m     \u001b[38;5;28;01mreturn\u001b[39;00m square_check\n\u001b[1;32m--> 490\u001b[0m \u001b[38;5;28;01mreturn\u001b[39;00m \u001b[43mtorch\u001b[49m\u001b[38;5;241;43m.\u001b[39;49m\u001b[43misclose\u001b[49m\u001b[43m(\u001b[49m\u001b[43mvalue\u001b[49m\u001b[43m,\u001b[49m\u001b[43m \u001b[49m\u001b[43mvalue\u001b[49m\u001b[38;5;241;43m.\u001b[39;49m\u001b[43mmT\u001b[49m\u001b[43m,\u001b[49m\u001b[43m \u001b[49m\u001b[43matol\u001b[49m\u001b[38;5;241;43m=\u001b[39;49m\u001b[38;5;241;43m1e-6\u001b[39;49m\u001b[43m)\u001b[49m\u001b[38;5;241m.\u001b[39mall(\u001b[38;5;241m-\u001b[39m\u001b[38;5;241m2\u001b[39m)\u001b[38;5;241m.\u001b[39mall(\u001b[38;5;241m-\u001b[39m\u001b[38;5;241m1\u001b[39m)\n",
      "\u001b[1;31mKeyboardInterrupt\u001b[0m: "
     ]
    }
   ],
   "source": [
    "import copy\n",
    "from IPython.display import clear_output\n",
    "theta_linspace = torch.linspace(-8.,8.,50)\n",
    "x_linspace = torch.linspace(-2.,2.,50)\n",
    "grid_theta,grid_x = torch.meshgrid(theta_linspace, x_linspace, indexing = 'ij')\n",
    "\n",
    "current_model = ConditionalDIFDensityEstimator(x, theta, K, hidden_dimensions)\n",
    "sigma_phi = 1\n",
    "parameters_as_vector = torch.nn.utils.parameters_to_vector(current_model.parameters())\n",
    "log_prior = torch.distributions.MultivariateNormal(torch.zeros(parameters_as_vector.shape[0]), (sigma_phi**2)*torch.eye(parameters_as_vector.shape[0])).log_prob(parameters_as_vector)\n",
    "log_prob = -current_model.loss(x, theta)*x.shape[0] + log_prior\n",
    "log_prob.backward()\n",
    "\n",
    "eta = 0.05/parameters_as_vector.shape[0]\n",
    "for i in range(20000):\n",
    "    tau = eta/(i+1)\n",
    "    if i%1 ==0:\n",
    "        clear_output(wait = True)\n",
    "        plt.figure()\n",
    "        density = current_model.log_density(grid_x.unsqueeze(-1), grid_theta.unsqueeze(-1))\n",
    "        plt.pcolormesh(grid_theta, grid_x,torch.exp(density).detach().numpy())\n",
    "        plt.show()\n",
    "\n",
    "    #copy model\n",
    "    copy_model = copy.deepcopy(current_model)\n",
    "    \n",
    "    #Update parameters with langevein dynamics with current gradient values\n",
    "    for param, copy_param in zip(current_model.parameters(), copy_model.parameters()):\n",
    "        with torch.no_grad():\n",
    "            copy_param.data= param.data+tau*param.grad + torch.randn_like(param.data)*((2*tau)**(1/2)) \n",
    "            \n",
    "    #compute new_log_prob\n",
    "    copy_parameters_as_vector = torch.nn.utils.parameters_to_vector(copy_model.parameters())\n",
    "    copy_log_prior = torch.distributions.MultivariateNormal(torch.zeros(copy_parameters_as_vector.shape[0]), (sigma_phi**2)*torch.eye(copy_parameters_as_vector.shape[0])).log_prob(copy_parameters_as_vector)\n",
    "    copy_log_prob = -copy_model.loss(x, theta)*x.shape[0] + copy_log_prior\n",
    "    \n",
    "    #compute new gradients\n",
    "    copy_model.zero_grad()\n",
    "    copy_log_prob.backward()\n",
    "    \n",
    "    #compute acceptance probability\n",
    "    with torch.no_grad():\n",
    "        log_ratio = 0\n",
    "        for param, new_param in zip(current_model.parameters(),copy_model.parameters()):\n",
    "            log_ratio -= torch.sum(torch.square(param - new_param - tau*new_param.grad))/(4*tau)\n",
    "            log_ratio += torch.sum(torch.square(new_param - param - tau*param.grad))/(4*tau)\n",
    "        acceptance_log_prob = copy_log_prob - log_prob + log_ratio\n",
    "        \n",
    "    #print(torch.exp(acceptance_log_prob))\n",
    "    if torch.rand(1)<torch.exp(acceptance_log_prob.detach()):\n",
    "        print('accepted')\n",
    "        current_model = copy_model\n",
    "        log_prob = copy_log_prob\n",
    "\n",
    "    "
   ]
  },
  {
   "cell_type": "code",
   "execution_count": null,
   "id": "c1adc580",
   "metadata": {},
   "outputs": [],
   "source": []
  }
 ],
 "metadata": {
  "kernelspec": {
   "display_name": "Python 3 (ipykernel)",
   "language": "python",
   "name": "python3"
  },
  "language_info": {
   "codemirror_mode": {
    "name": "ipython",
    "version": 3
   },
   "file_extension": ".py",
   "mimetype": "text/x-python",
   "name": "python",
   "nbconvert_exporter": "python",
   "pygments_lexer": "ipython3",
   "version": "3.9.2"
  }
 },
 "nbformat": 4,
 "nbformat_minor": 5
}
