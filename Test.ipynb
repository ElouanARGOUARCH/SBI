{
 "cells": [
  {
   "cell_type": "code",
   "execution_count": 82,
   "id": "4318890d",
   "metadata": {},
   "outputs": [],
   "source": [
    "import torch\n",
    "import matplotlib.pyplot as plt\n",
    "from IPython.display import clear_output"
   ]
  },
  {
   "cell_type": "code",
   "execution_count": 83,
   "id": "5e029ace",
   "metadata": {},
   "outputs": [],
   "source": [
    "d = 10\n",
    "mvn = torch.distributions.MultivariateNormal(torch.tensor([[25.], [-25]]).repeat(1,d) , torch.eye(d).unsqueeze(0).repeat(2,1,1))\n",
    "weights = torch.distributions.Categorical(torch.tensor([.5,.5]))\n",
    "distribution = torch.distributions.MixtureSameFamily(weights,mvn)"
   ]
  },
  {
   "cell_type": "code",
   "execution_count": 84,
   "id": "89d3e998",
   "metadata": {},
   "outputs": [
    {
     "data": {
      "text/plain": [
       "<matplotlib.collections.PathCollection at 0x14a2809c610>"
      ]
     },
     "execution_count": 84,
     "metadata": {},
     "output_type": "execute_result"
    },
    {
     "data": {
      "image/png": "[encoded data removed]",
      "text/plain": [
       "<Figure size 432x288 with 1 Axes>"
      ]
     },
     "metadata": {
      "needs_background": "light"
     },
     "output_type": "display_data"
    }
   ],
   "source": [
    "sample = distribution.sample([100])\n",
    "plt.scatter(sample[:,0].numpy(),sample[:,1].numpy())"
   ]
  },
  {
   "cell_type": "code",
   "execution_count": 129,
   "id": "6c6b6a74",
   "metadata": {},
   "outputs": [],
   "source": [
    "import torch\n",
    "from torch import nn\n",
    "from torch.distributions import Categorical\n",
    "from tqdm import tqdm\n",
    "\n",
    "from models_dif.multivariate_normal_reference import MultivariateNormalReference\n",
    "from models_dif.location_scale_flow import LocationScaleFlow\n",
    "from models_dif.softmax_weight import SoftmaxWeight\n",
    "\n",
    "class DIFSampler(nn.Module):\n",
    "    def __init__(self, target_log_density, p, K):\n",
    "        super().__init__()\n",
    "        self.target_log_density = target_log_density\n",
    "        self.p = p\n",
    "        self.K = K\n",
    "\n",
    "        self.w = SoftmaxWeight(self.K, self.p, [])\n",
    "\n",
    "        self.T = LocationScaleFlow(self.K, self.p)\n",
    "\n",
    "        self.reference = MultivariateNormalReference(self.p)\n",
    "\n",
    "        self.loss_values = []\n",
    "        self.para_list = list(self.parameters())\n",
    "        self.optimizer = torch.optim.Adam(self.para_list, lr=5e-2)\n",
    "    \n",
    "    def set_target_log_density(self, target_log_density):\n",
    "        self.target_log_density = target_log_density\n",
    "\n",
    "\n",
    "\n",
    "    def compute_log_v(self, x):\n",
    "        z = self.T.forward(x)\n",
    "        log_v = self.reference.log_density(z) + torch.diagonal(self.w.log_prob(z), 0, -2, -1) + self.T.log_det_J(x)\n",
    "        return log_v - torch.logsumexp(log_v, dim=-1, keepdim=True)\n",
    "\n",
    "    def DKL_observed(self, z):\n",
    "        x = self.T.backward(z)\n",
    "        return torch.mean(torch.sum(torch.exp(self.w.log_prob(z))*(self.model_log_density(x) - self.target_log_density(x)),dim = -1))\n",
    "\n",
    "    def DKL_latent(self,z):\n",
    "        return torch.mean(self.reference.log_density(z) - self.proxy_log_density(z))\n",
    "\n",
    "    def sample_model(self, num_samples):\n",
    "        with torch.no_grad():\n",
    "            z = self.reference.sample(num_samples)\n",
    "            x = self.T.backward(z)\n",
    "            pick = Categorical(torch.exp(self.w.log_prob(z))).sample()\n",
    "            return torch.stack([x[i, pick[i], :] for i in range(num_samples)])\n",
    "\n",
    "    def proxy_log_density(self, z):\n",
    "        x = self.T.backward(z)\n",
    "        return torch.logsumexp(torch.diagonal(self.compute_log_v(x), 0, -2, -1) + self.target_log_density(x) - self.T.log_det_J(x), dim=-1)\n",
    "\n",
    "    def model_log_density(self, x):\n",
    "        z = self.T.forward(x)\n",
    "        return torch.logsumexp(torch.diagonal(self.w.log_prob(z), 0, -2, -1) + self.reference.log_density(z) + self.T.log_det_J(x),\n",
    "            dim=-1)\n",
    "\n",
    "    def train(self, epochs,num_samples, batch_size=None):\n",
    "        if batch_size is None:\n",
    "            batch_size = num_samples\n",
    "\n",
    "        reference_samples = self.reference.sample(num_samples)\n",
    "        dataset = torch.utils.data.TensorDataset(reference_samples)\n",
    "        dataloader = torch.utils.data.DataLoader(dataset, batch_size=batch_size, shuffle=True)\n",
    "\n",
    "\n",
    "        device = torch.device('cuda' if torch.cuda.is_available() else 'cpu')\n",
    "        self.to(device)\n",
    "\n",
    "        pbar = tqdm(range(epochs))\n",
    "        for t in pbar:\n",
    "            for i, batch in enumerate(dataloader):\n",
    "                self.optimizer.zero_grad()\n",
    "                batch_loss = self.DKL_observed(batch[0])\n",
    "                batch_loss.backward()\n",
    "                self.optimizer.step()\n",
    "            with torch.no_grad():\n",
    "                DKL_observed_values = self.DKL_observed(reference_samples).item()\n",
    "                #DKL_latent_values = torch.tensor([self.DKL_latent(batch[0].to(device)) for i, batch in enumerate(dataloader)]).mean().item()\n",
    "            #pbar.set_postfix_str('DKL observed = ' + str(round(DKL_observed_values, 6)) + ' DKL Latent = ' + str(round(DKL_latent_values, 6)) + ' ; device: ' + 'cuda' if torch.cuda.is_available() else 'DKL observed = ' + str(round(DKL_observed_values, 6)) + ' DKL Latent = ' + str(round(DKL_latent_values, 6)) + ' ; device: ' + 'cpu')\n",
    "            pbar.set_postfix_str('DKL observed = ' + str(round(DKL_observed_values, 6)) + ' ; device: ' + 'cuda' if torch.cuda.is_available() else 'DKL observed = ' + str(round(DKL_observed_values, 6)) + ' ; device: ' + 'cpu')\n",
    "        self.to(torch.device('cpu'))\n",
    "        "
   ]
  },
  {
   "cell_type": "code",
   "execution_count": 116,
   "id": "5481bbf3",
   "metadata": {},
   "outputs": [
    {
     "data": {
      "text/plain": [
       "<matplotlib.collections.PathCollection at 0x14a2958b640>"
      ]
     },
     "execution_count": 116,
     "metadata": {},
     "output_type": "execute_result"
    },
    {
     "data": {
      "image/png": "[encoded data removed]",
      "text/plain": [
       "<Figure size 432x288 with 1 Axes>"
      ]
     },
     "metadata": {
      "needs_background": "light"
     },
     "output_type": "display_data"
    }
   ],
   "source": [
    "dif = DIFSampler(distribution.log_prob, d,2)\n",
    "samples = dif.sample_model(1000)\n",
    "plt.scatter(samples[:,0].numpy(),samples[:,1].numpy())"
   ]
  },
  {
   "cell_type": "code",
   "execution_count": 117,
   "id": "8b752362",
   "metadata": {},
   "outputs": [
    {
     "name": "stderr",
     "output_type": "stream",
     "text": [
      "  8%|████████▍                                                                                                 | 16/200 [00:07<01:21,  2.26it/s, DKL observed = 2751.408203 ; device: cpu]\n"
     ]
    },
    {
     "ename": "KeyboardInterrupt",
     "evalue": "",
     "output_type": "error",
     "traceback": [
      "\u001b[1;31m---------------------------------------------------------------------------\u001b[0m",
      "\u001b[1;31mKeyboardInterrupt\u001b[0m                         Traceback (most recent call last)",
      "Input \u001b[1;32mIn [117]\u001b[0m, in \u001b[0;36m<cell line: 1>\u001b[1;34m()\u001b[0m\n\u001b[1;32m----> 1\u001b[0m \u001b[43mdif\u001b[49m\u001b[38;5;241;43m.\u001b[39;49m\u001b[43mtrain\u001b[49m\u001b[43m(\u001b[49m\u001b[38;5;241;43m200\u001b[39;49m\u001b[43m,\u001b[49m\u001b[38;5;241;43m50000\u001b[39;49m\u001b[43m,\u001b[49m\u001b[38;5;241;43m5000\u001b[39;49m\u001b[43m)\u001b[49m\n\u001b[0;32m      2\u001b[0m samples \u001b[38;5;241m=\u001b[39m dif\u001b[38;5;241m.\u001b[39msample_model(\u001b[38;5;241m1000\u001b[39m)\n\u001b[0;32m      3\u001b[0m plt\u001b[38;5;241m.\u001b[39mscatter(samples[:,\u001b[38;5;241m0\u001b[39m]\u001b[38;5;241m.\u001b[39mnumpy(),samples[:,\u001b[38;5;241m1\u001b[39m]\u001b[38;5;241m.\u001b[39mnumpy())\n",
      "Input \u001b[1;32mIn [115]\u001b[0m, in \u001b[0;36mDIFSampler.train\u001b[1;34m(self, epochs, num_samples, batch_size)\u001b[0m\n\u001b[0;32m     74\u001b[0m \u001b[38;5;28;01mfor\u001b[39;00m i, batch \u001b[38;5;129;01min\u001b[39;00m \u001b[38;5;28menumerate\u001b[39m(dataloader):\n\u001b[0;32m     75\u001b[0m     \u001b[38;5;28mself\u001b[39m\u001b[38;5;241m.\u001b[39moptimizer\u001b[38;5;241m.\u001b[39mzero_grad()\n\u001b[1;32m---> 76\u001b[0m     batch_loss \u001b[38;5;241m=\u001b[39m \u001b[38;5;28;43mself\u001b[39;49m\u001b[38;5;241;43m.\u001b[39;49m\u001b[43mDKL_observed\u001b[49m\u001b[43m(\u001b[49m\u001b[43mbatch\u001b[49m\u001b[43m[\u001b[49m\u001b[38;5;241;43m0\u001b[39;49m\u001b[43m]\u001b[49m\u001b[43m)\u001b[49m\n\u001b[0;32m     77\u001b[0m     batch_loss\u001b[38;5;241m.\u001b[39mbackward()\n\u001b[0;32m     78\u001b[0m     \u001b[38;5;28mself\u001b[39m\u001b[38;5;241m.\u001b[39moptimizer\u001b[38;5;241m.\u001b[39mstep()\n",
      "Input \u001b[1;32mIn [115]\u001b[0m, in \u001b[0;36mDIFSampler.DKL_observed\u001b[1;34m(self, z)\u001b[0m\n\u001b[0;32m     37\u001b[0m \u001b[38;5;28;01mdef\u001b[39;00m \u001b[38;5;21mDKL_observed\u001b[39m(\u001b[38;5;28mself\u001b[39m, z):\n\u001b[0;32m     38\u001b[0m     x \u001b[38;5;241m=\u001b[39m \u001b[38;5;28mself\u001b[39m\u001b[38;5;241m.\u001b[39mT\u001b[38;5;241m.\u001b[39mbackward(z)\n\u001b[1;32m---> 39\u001b[0m     \u001b[38;5;28;01mreturn\u001b[39;00m torch\u001b[38;5;241m.\u001b[39mmean(torch\u001b[38;5;241m.\u001b[39msum(torch\u001b[38;5;241m.\u001b[39mexp(\u001b[38;5;28mself\u001b[39m\u001b[38;5;241m.\u001b[39mw\u001b[38;5;241m.\u001b[39mlog_prob(z))\u001b[38;5;241m*\u001b[39m(\u001b[38;5;28mself\u001b[39m\u001b[38;5;241m.\u001b[39mmodel_log_density(x) \u001b[38;5;241m-\u001b[39m \u001b[38;5;28;43mself\u001b[39;49m\u001b[38;5;241;43m.\u001b[39;49m\u001b[43mtarget_log_density\u001b[49m\u001b[43m(\u001b[49m\u001b[43mx\u001b[49m\u001b[43m)\u001b[49m),dim \u001b[38;5;241m=\u001b[39m \u001b[38;5;241m-\u001b[39m\u001b[38;5;241m1\u001b[39m))\n",
      "File \u001b[1;32mc:\\users\\ea264728\\pycharmprojects\\sbi\\venv\\lib\\site-packages\\torch\\distributions\\mixture_same_family.py:150\u001b[0m, in \u001b[0;36mMixtureSameFamily.log_prob\u001b[1;34m(self, x)\u001b[0m\n\u001b[0;32m    148\u001b[0m     \u001b[38;5;28mself\u001b[39m\u001b[38;5;241m.\u001b[39m_validate_sample(x)\n\u001b[0;32m    149\u001b[0m x \u001b[38;5;241m=\u001b[39m \u001b[38;5;28mself\u001b[39m\u001b[38;5;241m.\u001b[39m_pad(x)\n\u001b[1;32m--> 150\u001b[0m log_prob_x \u001b[38;5;241m=\u001b[39m \u001b[38;5;28;43mself\u001b[39;49m\u001b[38;5;241;43m.\u001b[39;49m\u001b[43mcomponent_distribution\u001b[49m\u001b[38;5;241;43m.\u001b[39;49m\u001b[43mlog_prob\u001b[49m\u001b[43m(\u001b[49m\u001b[43mx\u001b[49m\u001b[43m)\u001b[49m  \u001b[38;5;66;03m# [S, B, k]\u001b[39;00m\n\u001b[0;32m    151\u001b[0m log_mix_prob \u001b[38;5;241m=\u001b[39m torch\u001b[38;5;241m.\u001b[39mlog_softmax(\u001b[38;5;28mself\u001b[39m\u001b[38;5;241m.\u001b[39mmixture_distribution\u001b[38;5;241m.\u001b[39mlogits,\n\u001b[0;32m    152\u001b[0m                                  dim\u001b[38;5;241m=\u001b[39m\u001b[38;5;241m-\u001b[39m\u001b[38;5;241m1\u001b[39m)  \u001b[38;5;66;03m# [B, k]\u001b[39;00m\n\u001b[0;32m    153\u001b[0m \u001b[38;5;28;01mreturn\u001b[39;00m torch\u001b[38;5;241m.\u001b[39mlogsumexp(log_prob_x \u001b[38;5;241m+\u001b[39m log_mix_prob, dim\u001b[38;5;241m=\u001b[39m\u001b[38;5;241m-\u001b[39m\u001b[38;5;241m1\u001b[39m)\n",
      "File \u001b[1;32mc:\\users\\ea264728\\pycharmprojects\\sbi\\venv\\lib\\site-packages\\torch\\distributions\\multivariate_normal.py:207\u001b[0m, in \u001b[0;36mMultivariateNormal.log_prob\u001b[1;34m(self, value)\u001b[0m\n\u001b[0;32m    205\u001b[0m \u001b[38;5;28;01mif\u001b[39;00m \u001b[38;5;28mself\u001b[39m\u001b[38;5;241m.\u001b[39m_validate_args:\n\u001b[0;32m    206\u001b[0m     \u001b[38;5;28mself\u001b[39m\u001b[38;5;241m.\u001b[39m_validate_sample(value)\n\u001b[1;32m--> 207\u001b[0m diff \u001b[38;5;241m=\u001b[39m \u001b[43mvalue\u001b[49m\u001b[43m \u001b[49m\u001b[38;5;241;43m-\u001b[39;49m\u001b[43m \u001b[49m\u001b[38;5;28;43mself\u001b[39;49m\u001b[38;5;241;43m.\u001b[39;49m\u001b[43mloc\u001b[49m\n\u001b[0;32m    208\u001b[0m M \u001b[38;5;241m=\u001b[39m _batch_mahalanobis(\u001b[38;5;28mself\u001b[39m\u001b[38;5;241m.\u001b[39m_unbroadcasted_scale_tril, diff)\n\u001b[0;32m    209\u001b[0m half_log_det \u001b[38;5;241m=\u001b[39m \u001b[38;5;28mself\u001b[39m\u001b[38;5;241m.\u001b[39m_unbroadcasted_scale_tril\u001b[38;5;241m.\u001b[39mdiagonal(dim1\u001b[38;5;241m=\u001b[39m\u001b[38;5;241m-\u001b[39m\u001b[38;5;241m2\u001b[39m, dim2\u001b[38;5;241m=\u001b[39m\u001b[38;5;241m-\u001b[39m\u001b[38;5;241m1\u001b[39m)\u001b[38;5;241m.\u001b[39mlog()\u001b[38;5;241m.\u001b[39msum(\u001b[38;5;241m-\u001b[39m\u001b[38;5;241m1\u001b[39m)\n",
      "\u001b[1;31mKeyboardInterrupt\u001b[0m: "
     ]
    }
   ],
   "source": [
    "dif.train(200,50000,5000)\n",
    "samples = dif.sample_model(1000)\n",
    "plt.scatter(samples[:,0].numpy(),samples[:,1].numpy())"
   ]
  },
  {
   "cell_type": "code",
   "execution_count": 131,
   "id": "26030977",
   "metadata": {},
   "outputs": [
    {
     "data": {
      "image/png": "[encoded data removed]",
      "text/plain": [
       "<Figure size 432x288 with 1 Axes>"
      ]
     },
     "metadata": {
      "needs_background": "light"
     },
     "output_type": "display_data"
    }
   ],
   "source": [
    "dif = DIFSampler(None, d, 2)\n",
    "import numpy as np\n",
    "for ct in np.linspace(25,1,200):\n",
    "    target_log_density = lambda samples : distribution.log_prob(float(ct)*samples)\n",
    "    dif.set_target_log_density(target_log_density)\n",
    "    dif.train(100,5000,500)\n",
    "    clear_output(wait = True)\n",
    "    samples = dif.sample_model(1000)\n",
    "    plt.scatter(samples[:,0].numpy(),samples[:,1].numpy())\n",
    "    plt.show()"
   ]
  },
  {
   "cell_type": "code",
   "execution_count": null,
   "id": "30cdd34d",
   "metadata": {},
   "outputs": [],
   "source": []
  }
 ],
 "metadata": {
  "kernelspec": {
   "display_name": "Python 3 (ipykernel)",
   "language": "python",
   "name": "python3"
  },
  "language_info": {
   "codemirror_mode": {
    "name": "ipython",
    "version": 3
   },
   "file_extension": ".py",
   "mimetype": "text/x-python",
   "name": "python",
   "nbconvert_exporter": "python",
   "pygments_lexer": "ipython3",
   "version": "3.9.2"
  }
 },
 "nbformat": 4,
 "nbformat_minor": 5
}
