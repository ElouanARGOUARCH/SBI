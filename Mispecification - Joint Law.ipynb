{
 "cells": [
  {
   "cell_type": "code",
   "execution_count": 1,
   "id": "9174ddd9",
   "metadata": {},
   "outputs": [
    {
     "data": {
      "text/plain": [
       "<torch._C.Generator at 0x2b9c5b1f330>"
      ]
     },
     "execution_count": 1,
     "metadata": {},
     "output_type": "execute_result"
    }
   ],
   "source": [
    "import torch \n",
    "import matplotlib.pyplot as plt\n",
    "from tqdm import tqdm\n",
    "import matplotlib\n",
    "import pyro\n",
    "torch.manual_seed(0)"
   ]
  },
  {
   "cell_type": "markdown",
   "id": "4acae870",
   "metadata": {},
   "source": [
    "Define prior on $\\theta$"
   ]
  },
  {
   "cell_type": "code",
   "execution_count": 2,
   "id": "3fddbd23",
   "metadata": {},
   "outputs": [],
   "source": [
    "sigma_theta = .5\n",
    "mu_theta = 0\n",
    "prior_distribution = torch.distributions.MultivariateNormal(torch.ones(1)*mu_theta, torch.eye(1)*sigma_theta) "
   ]
  },
  {
   "cell_type": "markdown",
   "id": "daf50015",
   "metadata": {},
   "source": [
    "Generate $D_\\theta$ according to some prior distribution"
   ]
  },
  {
   "cell_type": "code",
   "execution_count": 3,
   "id": "9ccb3da1",
   "metadata": {},
   "outputs": [],
   "source": [
    "n_D = 100\n",
    "D_theta = torch.linspace(-1,1,n_D).unsqueeze(-1)"
   ]
  },
  {
   "cell_type": "markdown",
   "id": "b2f77266",
   "metadata": {},
   "source": [
    "Generate $D_x$ according to some unknown data generating process"
   ]
  },
  {
   "cell_type": "code",
   "execution_count": 4,
   "id": "df36402f",
   "metadata": {},
   "outputs": [
    {
     "name": "stdout",
     "output_type": "stream",
     "text": [
      "torch.Size([100, 2])\n"
     ]
    }
   ],
   "source": [
    "sigma_simulateur = 10\n",
    "N_simulateur = 100\n",
    "def summary_statistics(x):\n",
    "    return torch.stack([torch.mean(x, dim = -1), torch.std(x, dim = -1)], dim = -1)\n",
    "def simulator(theta, sigma=0):\n",
    "    u = torch.randn(theta.shape[0],N_simulateur)*sigma_simulateur + theta\n",
    "    z = torch.randn(theta.shape[0],N_simulateur)\n",
    "    temp = u+sigma*z\n",
    "    return temp\n",
    "D_x = summary_statistics(simulator(D_theta, 0))\n",
    "print(D_x.shape)"
   ]
  },
  {
   "cell_type": "code",
   "execution_count": 5,
   "id": "7ed12461",
   "metadata": {},
   "outputs": [
    {
     "data": {
      "image/png": "[encoded data removed]",
      "text/plain": [
       "<Figure size 432x288 with 1 Axes>"
      ]
     },
     "metadata": {
      "needs_background": "light"
     },
     "output_type": "display_data"
    }
   ],
   "source": [
    "theta_0 = torch.tensor([0])\n",
    "n_x0 = 10\n",
    "x0 = simulator(theta_0.unsqueeze(0).repeat(n_x0,1))\n",
    "sigma2_n = (1 + (n_x0*x0.shape[-1])/(sigma_simulateur**2))**(-1)\n",
    "mu_n = sigma2_n*(torch.sum(x0)/(sigma_simulateur**2))\n",
    "true_posterior= torch.distributions.MultivariateNormal(torch.tensor([mu_n]), torch.tensor([[sigma2_n]]))\n",
    "tt = torch.linspace(-2,2, 200)\n",
    "plt.plot(tt, torch.exp(true_posterior.log_prob(tt.unsqueeze(-1))))\n",
    "true_posterior_samples = torch.distributions.MultivariateNormal(torch.tensor([mu_n]), torch.tensor([[sigma2_n]])).sample([1000])\n",
    "x0 = summary_statistics(x0)"
   ]
  },
  {
   "cell_type": "markdown",
   "id": "d2490ca0",
   "metadata": {},
   "source": [
    "Generate $x_0$ according to $f(\\theta_0)$ for some unknown $\\theta_0$"
   ]
  },
  {
   "cell_type": "code",
   "execution_count": 6,
   "id": "3c2eb8ed",
   "metadata": {},
   "outputs": [
    {
     "name": "stderr",
     "output_type": "stream",
     "text": [
      "100%|█████████████████████████████████████████████████████████████████████████████████████████████████████████████████| 1000/1000 [00:09<00:00, 103.14it/s, loss = 1.239771 ; device: cpu]\n"
     ]
    }
   ],
   "source": [
    "import sys\n",
    "sys.path.append('..')\n",
    "from conditional_density_estimators import ConditionalDIFDensityEstimator\n",
    "dif = ConditionalDIFDensityEstimator(D_x, D_theta, 2, [32,32])\n",
    "epochs = 1000\n",
    "batch_size = 50\n",
    "dif.train(epochs,batch_size, lr = 1e-3)"
   ]
  },
  {
   "cell_type": "code",
   "execution_count": 7,
   "id": "dc4bed07",
   "metadata": {},
   "outputs": [],
   "source": [
    "from __future__ import division\n",
    "import numpy as np\n",
    "import scipy.stats\n",
    "import torch\n",
    "\n",
    "def hpd_grid(sample, alpha=0.05, roundto=2):\n",
    "    \"\"\"Calculate highest posterior density (HPD) of array for given alpha. \n",
    "    The HPD is the minimum width Bayesian credible interval (BCI). \n",
    "    The function works for multimodal distributions, returning more than one mode\n",
    "    Parameters\n",
    "    ----------\n",
    "    \n",
    "    sample : Numpy array or python list\n",
    "        An array containing MCMC samples\n",
    "    alpha : float\n",
    "        Desired probability of type I error (defaults to 0.05)\n",
    "    roundto: integer\n",
    "        Number of digits after the decimal point for the results\n",
    "    Returns\n",
    "    ----------\n",
    "    hpd: array with the lower \n",
    "          \n",
    "    \"\"\"\n",
    "    temp = np.asarray(sample)\n",
    "    temp = temp[~np.isnan(temp)]\n",
    "    # get upper and lower bounds\n",
    "    l = np.min(temp)\n",
    "    u = np.max(temp)\n",
    "    density = scipy.stats.gaussian_kde(temp, 'scott')\n",
    "    x = np.linspace(l, u, 2000)\n",
    "    y = density.evaluate(x)\n",
    "    xy_zipped = zip(x, y/np.sum(y))\n",
    "    xy = sorted(xy_zipped, key=lambda x: x[1], reverse=True)\n",
    "    xy_cum_sum = 0\n",
    "    hdv = []\n",
    "    for val in xy:\n",
    "        xy_cum_sum += val[1]\n",
    "        hdv.append(val[0])\n",
    "        if xy_cum_sum >= (1-alpha):\n",
    "            break\n",
    "    hdv.sort()\n",
    "    diff = (u-l)/20  # differences of 5%\n",
    "    hpd = []\n",
    "    hpd.append(round(min(hdv), roundto))\n",
    "    for i in range(1, len(hdv)):\n",
    "        if hdv[i]-hdv[i-1] >= diff:\n",
    "            hpd.append(round(hdv[i-1], roundto))\n",
    "            hpd.append(round(hdv[i], roundto))\n",
    "    hpd.append(round(max(hdv), roundto))\n",
    "    ite = iter(hpd)\n",
    "    hpd = list(zip(ite, ite))\n",
    "    return hpd\n",
    "\n",
    "def plot_expected_coverage(samples, posterior_samples, grid = 50):\n",
    "    list_ = []\n",
    "    for alpha in tqdm(range(0,grid+1)):\n",
    "        hpd,= hpd_grid(samples, 1-alpha/grid)\n",
    "        sum = 0\n",
    "        for mode in hpd:\n",
    "            sum +=((posterior_samples>mode[0])*(posterior_samples<mode[1])).float().mean()\n",
    "        list_.append(sum.unsqueeze(0))\n",
    "    plt.plot(torch.linspace(0,1,grid+1), torch.cat(list_).numpy())\n",
    "    plt.plot(torch.linspace(0,1,grid+1),torch.linspace(0,1,grid+1), linestyle = '--')\n",
    "    plt.show()"
   ]
  },
  {
   "cell_type": "code",
   "execution_count": null,
   "id": "209ad3d9",
   "metadata": {},
   "outputs": [],
   "source": []
  },
  {
   "cell_type": "code",
   "execution_count": 10,
   "id": "fb2468bf",
   "metadata": {},
   "outputs": [
    {
     "name": "stdout",
     "output_type": "stream",
     "text": [
      "theta_0 = 0\n"
     ]
    },
    {
     "name": "stderr",
     "output_type": "stream",
     "text": [
      "100%|██████████████████████████████████████████████████████████████████████████████████████████████████████████████████████| 100/100 [00:02<00:00, 49.73it/s, acceptance = tensor(0.4960)]\n",
      "100%|██████████████████████████████████████████████████████████████████████████████████████████████████████████████████████| 100/100 [00:02<00:00, 49.39it/s, acceptance = tensor(0.4420)]\n",
      "100%|██████████████████████████████████████████████████████████████████████████████████████████████████████████████████████| 100/100 [00:01<00:00, 51.31it/s, acceptance = tensor(0.4280)]\n"
     ]
    },
    {
     "data": {
      "image/png": "[encoded data removed]",
      "text/plain": [
       "<Figure size 432x288 with 1 Axes>"
      ]
     },
     "metadata": {
      "needs_background": "light"
     },
     "output_type": "display_data"
    }
   ],
   "source": [
    "theta_0 = torch.tensor(0)\n",
    "print('theta_0 = ' + str(theta_0.item()))\n",
    "sample_list=[]\n",
    "from samplers import ULA, IMH, HMC, MALA\n",
    "for sigma in [0,1,2]:\n",
    "    x0 = summary_statistics(simulator(theta_0.unsqueeze(0).repeat(n_x0, 1),sigma))\n",
    "    posterior_log_prob = lambda theta: torch.sum(dif.log_density(x0.unsqueeze(0).repeat(theta.shape[0],1,1), theta.unsqueeze(1).repeat(1,n_x0,1)), dim = 1 ) + prior_distribution.log_prob(theta)\n",
    "    sampler = IMH(posterior_log_prob,D_theta.shape[1],prior_distribution, 500)\n",
    "    samples = sampler.sample(100)\n",
    "    sample_list.append(samples)\n",
    "    plt.hist(samples.numpy(), density = True, bins = 50,label = str(sigma))\n",
    "plt.plot(tt, torch.exp(true_posterior.log_prob(tt.unsqueeze(-1))), linestyle = '--', label = 'True Posterior')\n",
    "plt.legend()\n",
    "plt.show()"
   ]
  },
  {
   "cell_type": "code",
   "execution_count": 11,
   "id": "7b15a2f7",
   "metadata": {},
   "outputs": [
    {
     "name": "stderr",
     "output_type": "stream",
     "text": [
      "100%|█████████████████████████████████████████████████████████████████████████████████████████████████████████████████████████████████████████████████████| 51/51 [00:01<00:00, 43.16it/s]\n"
     ]
    },
    {
     "data": {
      "image/png": "[encoded data removed]",
      "text/plain": [
       "<Figure size 432x288 with 1 Axes>"
      ]
     },
     "metadata": {
      "needs_background": "light"
     },
     "output_type": "display_data"
    },
    {
     "name": "stderr",
     "output_type": "stream",
     "text": [
      "100%|█████████████████████████████████████████████████████████████████████████████████████████████████████████████████████████████████████████████████████| 51/51 [00:01<00:00, 42.74it/s]\n"
     ]
    },
    {
     "data": {
      "image/png": "[encoded data removed]",
      "text/plain": [
       "<Figure size 432x288 with 1 Axes>"
      ]
     },
     "metadata": {
      "needs_background": "light"
     },
     "output_type": "display_data"
    },
    {
     "name": "stderr",
     "output_type": "stream",
     "text": [
      "100%|█████████████████████████████████████████████████████████████████████████████████████████████████████████████████████████████████████████████████████| 51/51 [00:01<00:00, 42.75it/s]\n"
     ]
    },
    {
     "data": {
      "image/png": "[encoded data removed]",
      "text/plain": [
       "<Figure size 432x288 with 1 Axes>"
      ]
     },
     "metadata": {
      "needs_background": "light"
     },
     "output_type": "display_data"
    }
   ],
   "source": [
    "for i in [0,1,2]:\n",
    "    plot_expected_coverage(true_posterior_samples,sample_list[i], grid = 50)"
   ]
  },
  {
   "cell_type": "code",
   "execution_count": null,
   "id": "46125c61",
   "metadata": {},
   "outputs": [],
   "source": [
    "current_theta=sample_list[-1]\n",
    "for t in range(10):    \n",
    "    D_x_plus = torch.cat([D_x, x0], dim = 0)\n",
    "    D_theta_plus = torch.cat([D_theta, current_theta[:1].repeat(n_x0,1)], dim=0)\n",
    "    dif = ConditionalDIFDensityEstimator(D_x_plus, D_theta_plus, 2,[32,32])\n",
    "    dif.train(epochs,batch_size, 1e-3)\n",
    "    \n",
    "    posterior_log_prob = lambda theta: torch.sum(dif.log_density(x0.unsqueeze(0).repeat(theta.shape[0],1,1), theta.unsqueeze(1).repeat(1,n_x0,1)), dim = 1 ) + prior_log_prob(theta)\n",
    "    sampler = IMH(posterior_log_prob, 1, prior_distribution, 500)\n",
    "    current_theta = sampler.sample(50)\n",
    "    plot_expected_coverage(true_posterior_samples,current_theta, grid = 50)\n",
    "    "
   ]
  },
  {
   "cell_type": "code",
   "execution_count": null,
   "id": "5b8b0cc8",
   "metadata": {},
   "outputs": [],
   "source": []
  }
 ],
 "metadata": {
  "kernelspec": {
   "display_name": "Python 3 (ipykernel)",
   "language": "python",
   "name": "python3"
  },
  "language_info": {
   "codemirror_mode": {
    "name": "ipython",
    "version": 3
   },
   "file_extension": ".py",
   "mimetype": "text/x-python",
   "name": "python",
   "nbconvert_exporter": "python",
   "pygments_lexer": "ipython3",
   "version": "3.9.2"
  }
 },
 "nbformat": 4,
 "nbformat_minor": 5
}
