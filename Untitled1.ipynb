{
 "cells": [
  {
   "cell_type": "code",
   "execution_count": 1,
   "id": "09bc8069",
   "metadata": {},
   "outputs": [],
   "source": [
    "from targets.variational_inference_target import *"
   ]
  },
  {
   "cell_type": "code",
   "execution_count": 3,
   "id": "0a59331f",
   "metadata": {},
   "outputs": [],
   "source": [
    "from posterior_sampler import MALA"
   ]
  },
  {
   "cell_type": "code",
   "execution_count": 18,
   "id": "503d40ad",
   "metadata": {},
   "outputs": [
    {
     "name": "stderr",
     "output_type": "stream",
     "text": [
      "100%|█████████████████████████████████████████████████████████████████████████████████████████████████████████████████████████████████████████████████████████████████| 10100/10100 [00:33<00:00, 297.99it/s, acceptance = tensor(0.8433)]\n"
     ]
    }
   ],
   "source": [
    "target = Dimension1()\n",
    "sampler = MALA(target.log_prob, 1.,1)\n",
    "samples = sampler.sample(10000,100)"
   ]
  },
  {
   "cell_type": "code",
   "execution_count": 20,
   "id": "0ecf5f94",
   "metadata": {},
   "outputs": [
    {
     "data": {
      "image/png": "[encoded data removed]",
      "text/plain": [
       "<Figure size 432x288 with 1 Axes>"
      ]
     },
     "metadata": {
      "needs_background": "light"
     },
     "output_type": "display_data"
    }
   ],
   "source": [
    "import matplotlib.pyplot as plt\n",
    "hist = plt.hist(samples.detach().numpy(),bins=200)\n",
    "plt.show()"
   ]
  },
  {
   "cell_type": "code",
   "execution_count": null,
   "id": "39ac9834",
   "metadata": {},
   "outputs": [],
   "source": []
  }
 ],
 "metadata": {
  "kernelspec": {
   "display_name": "Python 3 (ipykernel)",
   "language": "python",
   "name": "python3"
  },
  "language_info": {
   "codemirror_mode": {
    "name": "ipython",
    "version": 3
   },
   "file_extension": ".py",
   "mimetype": "text/x-python",
   "name": "python",
   "nbconvert_exporter": "python",
   "pygments_lexer": "ipython3",
   "version": "3.9.2"
  }
 },
 "nbformat": 4,
 "nbformat_minor": 5
}
