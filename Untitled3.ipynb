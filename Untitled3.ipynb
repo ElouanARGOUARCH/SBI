{
 "cells": [
  {
   "cell_type": "code",
   "execution_count": 60,
   "id": "c6afb151",
   "metadata": {},
   "outputs": [
    {
     "name": "stdout",
     "output_type": "stream",
     "text": [
      "The autoreload extension is already loaded. To reload it, use:\n",
      "  %reload_ext autoreload\n"
     ]
    }
   ],
   "source": [
    "%load_ext autoreload\n",
    "%autoreload 2\n",
    "import torch\n",
    "from targets.conditional_density_estimation_target import SymmetricalDeformedCircles\n",
    "from utils import * "
   ]
  },
  {
   "cell_type": "code",
   "execution_count": 161,
   "id": "6f5add90",
   "metadata": {},
   "outputs": [],
   "source": [
    "cond_target = SymmetricalDeformedCircles()\n",
    "D_theta = torch.linspace(0,4,10000).unsqueeze(-1)\n",
    "D_x = cond_target.sample(D_theta)"
   ]
  },
  {
   "cell_type": "code",
   "execution_count": 162,
   "id": "bb04e76e",
   "metadata": {},
   "outputs": [
    {
     "data": {
      "image/png": "[encoded data removed]",
      "text/plain": [
       "<Figure size 432x288 with 1 Axes>"
      ]
     },
     "metadata": {
      "needs_background": "light"
     },
     "output_type": "display_data"
    }
   ],
   "source": [
    "prior = torch.distributions.MultivariateNormal(torch.ones(1)*4, torch.eye(1))\n",
    "\n",
    "theta0 =torch.tensor([1.5])\n",
    "n_x0 = 100\n",
    "x0 = cond_target.sample(theta0.unsqueeze(0).repeat(n_x0,1))\n",
    "plot_2d_points(x0)"
   ]
  },
  {
   "cell_type": "code",
   "execution_count": 163,
   "id": "c954fb96",
   "metadata": {},
   "outputs": [
    {
     "data": {
      "image/png": "[encoded data removed]",
      "text/plain": [
       "<Figure size 432x288 with 1 Axes>"
      ]
     },
     "metadata": {
      "needs_background": "light"
     },
     "output_type": "display_data"
    },
    {
     "name": "stderr",
     "output_type": "stream",
     "text": [
      "100%|██████████████████████████████████████████████████████████████████████████████████████████████████████████████████████████████████████████████████████████████████████████████████████████████████████████████████████████████████████████████████████| 500/500 [00:12<00:00, 39.50it/s, acceptance = tensor(0.0020)]\n"
     ]
    },
    {
     "data": {
      "image/png": "[encoded data removed]",
      "text/plain": [
       "<Figure size 432x288 with 1 Axes>"
      ]
     },
     "metadata": {
      "needs_background": "light"
     },
     "output_type": "display_data"
    }
   ],
   "source": [
    "from samplers import IMH\n",
    "true_posterior = lambda theta: torch.sum(cond_target.log_prob(x0.unsqueeze(1).repeat(1, theta.shape[0],1), theta.unsqueeze(0).repeat(x0.shape[0],1,1)), dim = 0) + prior.log_prob(theta)\n",
    "tt = torch.linspace(0,2,1000)\n",
    "log_prob = true_posterior(tt.unsqueeze(-1))\n",
    "plt.plot(tt, torch.exp(log_prob), linestyle = '--', label='True posterior')\n",
    "plt.legend()\n",
    "plt.show()\n",
    "\n",
    "true_posterior_samples = IMH(true_posterior, 1, prior, 1000).sample(500)\n",
    "fig = plt.figure()\n",
    "plt.xlim([0, 2])\n",
    "plt.hist(true_posterior_samples.numpy(), bins = 50, density = True)\n",
    "plt.show()\n"
   ]
  },
  {
   "cell_type": "code",
   "execution_count": 169,
   "id": "5f4bc7ef",
   "metadata": {},
   "outputs": [
    {
     "name": "stderr",
     "output_type": "stream",
     "text": [
      "100%|███████████████████████████████████████████████████████████████████████████████████████████████████████████████████████████████████████████████████████████████████████████████████████████████████████████████████████████████████████████████████| 500/500 [01:31<00:00,  5.45it/s, loss = 3.040654 ; device: cuda]\n"
     ]
    }
   ],
   "source": [
    "#Train conditional density estimation\n",
    "from conditional_density_estimators import ConditionalDIFDensityEstimator\n",
    "dif = ConditionalDIFDensityEstimator(D_x,D_theta,10,[32,32,32])\n",
    "epochs = 500\n",
    "batch_size = 1000\n",
    "dif.train(epochs,batch_size, lr = 5e-4)"
   ]
  },
  {
   "cell_type": "code",
   "execution_count": 172,
   "id": "539ee7aa",
   "metadata": {},
   "outputs": [
    {
     "name": "stderr",
     "output_type": "stream",
     "text": [
      "100%|██████████████████████████████████████████████████████████████████████████████████████████████████████████████████████████████████████████████████████████████████████████████████████████████████████████████████████████████████████████████████████| 100/100 [00:16<00:00,  5.93it/s, acceptance = tensor(0.0050)]\n",
      "100%|██████████████████████████████████████████████████████████████████████████████████████████████████████████████████████████████████████████████████████████████████████████████████████████████████████████████████████████████████████████████████████| 100/100 [00:17<00:00,  5.78it/s, acceptance = tensor(0.0050)]\n",
      "100%|██████████████████████████████████████████████████████████████████████████████████████████████████████████████████████████████████████████████████████████████████████████████████████████████████████████████████████████████████████████████████████| 100/100 [00:17<00:00,  5.79it/s, acceptance = tensor(0.0500)]\n",
      "100%|██████████████████████████████████████████████████████████████████████████████████████████████████████████████████████████████████████████████████████████████████████████████████████████████████████████████████████████████████████████████████████| 100/100 [00:17<00:00,  5.82it/s, acceptance = tensor(0.1000)]\n",
      "100%|██████████████████████████████████████████████████████████████████████████████████████████████████████████████████████████████████████████████████████████████████████████████████████████████████████████████████████████████████████████████████████| 100/100 [00:17<00:00,  5.75it/s, acceptance = tensor(0.1400)]\n"
     ]
    },
    {
     "data": {
      "image/png": "[encoded data removed]",
      "text/plain": [
       "<Figure size 432x288 with 1 Axes>"
      ]
     },
     "metadata": {
      "needs_background": "light"
     },
     "output_type": "display_data"
    }
   ],
   "source": [
    "list_samples = []\n",
    "for sigma_mispecification in [0.,1.,2.,3.,4.]:\n",
    "    x0_ = x0 + torch.randn_like(x0)*sigma_mispecification\n",
    "    posterior_log_prob = lambda theta: torch.sum(dif.log_density(x0_.unsqueeze(0).repeat(theta.shape[0], 1, 1), theta.unsqueeze(1).repeat(1, n_x0, 1)),dim=1) + prior.log_prob(theta)\n",
    "    sampler = IMH(posterior_log_prob, D_theta.shape[1], prior, 200)\n",
    "    samples = sampler.sample(100)\n",
    "    list_samples.append(samples)\n",
    "    plt.hist(samples.numpy(), bins = 50, density = True, label = str(sigma_mispecification))\n",
    "plt.legend()\n",
    "plt.show()"
   ]
  },
  {
   "cell_type": "code",
   "execution_count": 94,
   "id": "9c66a776",
   "metadata": {},
   "outputs": [
    {
     "ename": "RuntimeError",
     "evalue": "The size of tensor a (2) must match the size of tensor b (1000) at non-singleton dimension 2",
     "output_type": "error",
     "traceback": [
      "\u001b[1;31m---------------------------------------------------------------------------\u001b[0m",
      "\u001b[1;31mRuntimeError\u001b[0m                              Traceback (most recent call last)",
      "Input \u001b[1;32mIn [94]\u001b[0m, in \u001b[0;36m<cell line: 2>\u001b[1;34m()\u001b[0m\n\u001b[0;32m      1\u001b[0m tt \u001b[38;5;241m=\u001b[39m torch\u001b[38;5;241m.\u001b[39mlinspace(\u001b[38;5;241m0\u001b[39m,\u001b[38;5;241m10\u001b[39m,\u001b[38;5;241m1000\u001b[39m)\n\u001b[1;32m----> 2\u001b[0m plt\u001b[38;5;241m.\u001b[39mplot(tt, torch\u001b[38;5;241m.\u001b[39mexp(\u001b[43mtrue_posterior\u001b[49m\u001b[43m(\u001b[49m\u001b[43mtt\u001b[49m\u001b[38;5;241;43m.\u001b[39;49m\u001b[43munsqueeze\u001b[49m\u001b[43m(\u001b[49m\u001b[38;5;241;43m0\u001b[39;49m\u001b[43m)\u001b[49m\u001b[43m)\u001b[49m))\n\u001b[0;32m      3\u001b[0m plt\u001b[38;5;241m.\u001b[39mlegend()\n\u001b[0;32m      4\u001b[0m plt\u001b[38;5;241m.\u001b[39mshow()\n",
      "Input \u001b[1;32mIn [89]\u001b[0m, in \u001b[0;36m<lambda>\u001b[1;34m(theta)\u001b[0m\n\u001b[0;32m      1\u001b[0m \u001b[38;5;28;01mfrom\u001b[39;00m \u001b[38;5;21;01msamplers\u001b[39;00m \u001b[38;5;28;01mimport\u001b[39;00m IMH\n\u001b[1;32m----> 2\u001b[0m true_posterior \u001b[38;5;241m=\u001b[39m \u001b[38;5;28;01mlambda\u001b[39;00m theta: torch\u001b[38;5;241m.\u001b[39msum(\u001b[43mcond_target\u001b[49m\u001b[38;5;241;43m.\u001b[39;49m\u001b[43mlog_prob\u001b[49m\u001b[43m(\u001b[49m\u001b[43mx0\u001b[49m\u001b[38;5;241;43m.\u001b[39;49m\u001b[43munsqueeze\u001b[49m\u001b[43m(\u001b[49m\u001b[38;5;241;43m1\u001b[39;49m\u001b[43m)\u001b[49m\u001b[38;5;241;43m.\u001b[39;49m\u001b[43mrepeat\u001b[49m\u001b[43m(\u001b[49m\u001b[38;5;241;43m1\u001b[39;49m\u001b[43m,\u001b[49m\u001b[43m \u001b[49m\u001b[43mtheta\u001b[49m\u001b[38;5;241;43m.\u001b[39;49m\u001b[43mshape\u001b[49m\u001b[43m[\u001b[49m\u001b[38;5;241;43m0\u001b[39;49m\u001b[43m]\u001b[49m\u001b[43m,\u001b[49m\u001b[38;5;241;43m1\u001b[39;49m\u001b[43m)\u001b[49m\u001b[43m,\u001b[49m\u001b[43m \u001b[49m\u001b[43mtheta\u001b[49m\u001b[38;5;241;43m.\u001b[39;49m\u001b[43munsqueeze\u001b[49m\u001b[43m(\u001b[49m\u001b[38;5;241;43m0\u001b[39;49m\u001b[43m)\u001b[49m\u001b[38;5;241;43m.\u001b[39;49m\u001b[43mrepeat\u001b[49m\u001b[43m(\u001b[49m\u001b[43mx0\u001b[49m\u001b[38;5;241;43m.\u001b[39;49m\u001b[43mshape\u001b[49m\u001b[43m[\u001b[49m\u001b[38;5;241;43m0\u001b[39;49m\u001b[43m]\u001b[49m\u001b[43m,\u001b[49m\u001b[38;5;241;43m1\u001b[39;49m\u001b[43m,\u001b[49m\u001b[38;5;241;43m1\u001b[39;49m\u001b[43m)\u001b[49m\u001b[43m)\u001b[49m, dim \u001b[38;5;241m=\u001b[39m \u001b[38;5;241m0\u001b[39m) \u001b[38;5;241m+\u001b[39m prior\u001b[38;5;241m.\u001b[39mlog_prob(theta)\n\u001b[0;32m      3\u001b[0m true_posterior_samples \u001b[38;5;241m=\u001b[39m IMH(true_posterior, \u001b[38;5;241m1\u001b[39m, prior, \u001b[38;5;241m1000\u001b[39m)\u001b[38;5;241m.\u001b[39msample(\u001b[38;5;241m200\u001b[39m)\n\u001b[0;32m      4\u001b[0m plt\u001b[38;5;241m.\u001b[39mhist(true_posterior_samples\u001b[38;5;241m.\u001b[39mnumpy(), bins \u001b[38;5;241m=\u001b[39m \u001b[38;5;241m50\u001b[39m)\n",
      "File \u001b[1;32m~\\PycharmProjects\\SBI\\targets\\conditional_density_estimation_target.py:155\u001b[0m, in \u001b[0;36mSymmetricalDeformedCircles.log_prob\u001b[1;34m(self, samples, theta, means, weights, noise)\u001b[0m\n\u001b[0;32m    154\u001b[0m \u001b[38;5;28;01mdef\u001b[39;00m \u001b[38;5;21mlog_prob\u001b[39m(\u001b[38;5;28mself\u001b[39m, samples,theta, means\u001b[38;5;241m=\u001b[39mtorch\u001b[38;5;241m.\u001b[39mtensor([\u001b[38;5;241m1.\u001b[39m, \u001b[38;5;241m2.\u001b[39m]), weights\u001b[38;5;241m=\u001b[39mtorch\u001b[38;5;241m.\u001b[39mtensor([\u001b[38;5;241m.5\u001b[39m, \u001b[38;5;241m.5\u001b[39m]), noise\u001b[38;5;241m=\u001b[39m\u001b[38;5;241m0.125\u001b[39m):\n\u001b[1;32m--> 155\u001b[0m     r \u001b[38;5;241m=\u001b[39m torch\u001b[38;5;241m.\u001b[39mnorm(\u001b[43msamples\u001b[49m\u001b[38;5;241;43m/\u001b[39;49m\u001b[43mtheta\u001b[49m, dim\u001b[38;5;241m=\u001b[39m\u001b[38;5;241m-\u001b[39m\u001b[38;5;241m1\u001b[39m)\u001b[38;5;241m.\u001b[39munsqueeze(\u001b[38;5;241m-\u001b[39m\u001b[38;5;241m1\u001b[39m)\n\u001b[0;32m    156\u001b[0m     cat \u001b[38;5;241m=\u001b[39m torch\u001b[38;5;241m.\u001b[39mdistributions\u001b[38;5;241m.\u001b[39mCategorical(weights)\n\u001b[0;32m    157\u001b[0m     mvn \u001b[38;5;241m=\u001b[39m torch\u001b[38;5;241m.\u001b[39mdistributions\u001b[38;5;241m.\u001b[39mMultivariateNormal(means\u001b[38;5;241m.\u001b[39munsqueeze(\u001b[38;5;241m-\u001b[39m\u001b[38;5;241m1\u001b[39m),\n\u001b[0;32m    158\u001b[0m                                                  torch\u001b[38;5;241m.\u001b[39meye(\u001b[38;5;241m1\u001b[39m)\u001b[38;5;241m.\u001b[39munsqueeze(\u001b[38;5;241m0\u001b[39m)\u001b[38;5;241m.\u001b[39mrepeat(\u001b[38;5;241m2\u001b[39m, \u001b[38;5;241m1\u001b[39m, \u001b[38;5;241m1\u001b[39m) \u001b[38;5;241m*\u001b[39m noise)\n",
      "\u001b[1;31mRuntimeError\u001b[0m: The size of tensor a (2) must match the size of tensor b (1000) at non-singleton dimension 2"
     ]
    }
   ],
   "source": [
    "tt = torch.linspace(0,10,1000)\n",
    "plt.plot(tt, torch.exp(true_posterior(tt.unsqueeze(0))))\n",
    "plt.legend()\n",
    "plt.show()"
   ]
  },
  {
   "cell_type": "code",
   "execution_count": null,
   "id": "c1548e6d",
   "metadata": {},
   "outputs": [],
   "source": []
  }
 ],
 "metadata": {
  "kernelspec": {
   "display_name": "Python 3 (ipykernel)",
   "language": "python",
   "name": "python3"
  },
  "language_info": {
   "codemirror_mode": {
    "name": "ipython",
    "version": 3
   },
   "file_extension": ".py",
   "mimetype": "text/x-python",
   "name": "python",
   "nbconvert_exporter": "python",
   "pygments_lexer": "ipython3",
   "version": "3.9.2"
  }
 },
 "nbformat": 4,
 "nbformat_minor": 5
}
